{
 "cells": [
  {
   "cell_type": "markdown",
   "metadata": {},
   "source": [
    "# How to behave in foreign territory ?\n",
    "---\n",
    "### Context\n",
    "In the paper, \"Friendship and mobility : User movement in Location-Based Social Networks\", the authors answered one important question : what influence do friends have on movements ?<br>\n",
    "But what if you don't have friends in the first place and just want to blend in ? Imagine : You just arrived in a new country. You don't know how to behave with the locals and what to expect. How friendly are people ? How often is it socially acceptable to meet ? Where should you meet ? Where and when should you go on holidays ? <br>\n",
    "In this Notebook, we will attempt to answer some of these questions for multiple countries.\n",
    "\n",
    "---\n",
    "### The data\n",
    "“Global-scale Check-in Dataset with User Social Networks” from two research projects at this address (project 5 by Dingqi Yang): ( https://sites.google.com/site/yangdingqi/home/foursquare-dataset#h.p_7rmPjnwFGIx9). The dataset is coming from Foursquare and it contains the information of 22,809,624 checkins by 114,324 users, 607,333 friendship links and 3,820,891 POIs. It contains a set of worldwide check-ins with country flags taken over about two years and two snapshots of the corresponding user social network before (in Mar. 2012) and after (in May 2014) the check-in data collection period. <br>\n",
    "In order to work with this dataset, we broke it down in smaller datasets, based on countries. We explain how we did this in steps 1 and 2 of the current notebook.\n",
    "\n",
    "---\n",
    "### Structure of this notebook\n",
    "In the current notebook, we have 5 parts. Click on the name of the part to jump to it.\n",
    "\n",
    "- [**Step 1 : Our initial dataset is far too big for us to work directly on it. We need to split it**](#Step_1)\n",
    "    - Substep 1 : Identifying countries/users to exclude and countries/users to keep\n",
    "    - Substep 2 : Extracting our data to csv files.\n",
    "- [**Step 2 : Cleaning our data**](#Step_2)\n",
    "- [**Step 3 : One important way of evaluating social life in a country is by looking at the distance between houses of friends : in a country where friends live close, it should be easier to socialize with new people.**](#Step_3)\n",
    "    - Substep 1 : Helper functions\n",
    "    - Substep 2 : Application : we look at the case of the US\n",
    "    - Substep 3 : We compare results for different countries.\n",
    "- [**Step 4 : We want to evaluate the sociability of natives. In order to do so, we look at the number of friends that native users have.**](#Step_4)\n",
    "    - Substep 1 : How to determine if someone is a native or a foreigner ?\n",
    "    - Substep 2 : Evaluating the number of friends for natives.\n",
    "- [**Step 5 : We want to behave like a native.**](#Step_5)\n",
    "    - Substep 1 : We have looked earlier at the most popular places to check-in for native users, what about combinations of places ?\n",
    "    - Substep 2 : We want to predict the POIs where users check-in in order to understand their behaviours.\n",
    "        - SubSubStep 1 : The first Checkin of the day\n",
    "        - SubSubStep 2 : The next Checkins\n",
    "    \n",
    "---\n",
    "### Note :\n",
    "In the following notebook, all the calculations are done on the US Database, because all of our datasets have the same. When it come to the data story, we will extract information from all datasets."
   ]
  },
  {
   "cell_type": "markdown",
   "metadata": {},
   "source": [
    "### Step 1 : Splitting our initial dataset<a id='Step_1'></a>"
   ]
  },
  {
   "cell_type": "markdown",
   "metadata": {},
   "source": [
    "#### Substep 1 : Identifying countries/users to exclude and countries/users to keep"
   ]
  },
  {
   "cell_type": "code",
   "execution_count": 1,
   "metadata": {},
   "outputs": [],
   "source": [
    "import pandas as pd\n",
    "import numpy as np\n",
    "import seaborn as sns\n",
    "import matplotlib.pyplot as plt\n",
    "import pandas as pd\n",
    "from zipfile import ZipFile\n",
    "import math\n",
    "import datetime\n",
    "data_path = '../data.zip/data/'\n",
    "data_file = ZipFile('../data.zip') \n",
    "raw_dataset_file = ZipFile(\"../dataset_WWW2019.zip\")\n",
    "import warnings\n",
    "warnings.simplefilter(action='ignore')"
   ]
  },
  {
   "cell_type": "code",
   "execution_count": 2,
   "metadata": {},
   "outputs": [
    {
     "data": {
      "text/html": [
       "<div>\n",
       "<style scoped>\n",
       "    .dataframe tbody tr th:only-of-type {\n",
       "        vertical-align: middle;\n",
       "    }\n",
       "\n",
       "    .dataframe tbody tr th {\n",
       "        vertical-align: top;\n",
       "    }\n",
       "\n",
       "    .dataframe thead th {\n",
       "        text-align: right;\n",
       "    }\n",
       "</style>\n",
       "<table border=\"1\" class=\"dataframe\">\n",
       "  <thead>\n",
       "    <tr style=\"text-align: right;\">\n",
       "      <th></th>\n",
       "      <th>zone_id</th>\n",
       "      <th>Lat</th>\n",
       "      <th>lon</th>\n",
       "      <th>building</th>\n",
       "      <th>country</th>\n",
       "    </tr>\n",
       "  </thead>\n",
       "  <tbody>\n",
       "    <tr>\n",
       "      <th>0</th>\n",
       "      <td>3fd66200f964a52000e61ee3</td>\n",
       "      <td>40.729209</td>\n",
       "      <td>-73.998753</td>\n",
       "      <td>Post Office</td>\n",
       "      <td>US</td>\n",
       "    </tr>\n",
       "    <tr>\n",
       "      <th>1</th>\n",
       "      <td>3fd66200f964a52000e71ee3</td>\n",
       "      <td>40.733596</td>\n",
       "      <td>-74.003139</td>\n",
       "      <td>Jazz Club</td>\n",
       "      <td>US</td>\n",
       "    </tr>\n",
       "    <tr>\n",
       "      <th>2</th>\n",
       "      <td>3fd66200f964a52000e81ee3</td>\n",
       "      <td>40.758102</td>\n",
       "      <td>-73.975734</td>\n",
       "      <td>Gym</td>\n",
       "      <td>US</td>\n",
       "    </tr>\n",
       "    <tr>\n",
       "      <th>3</th>\n",
       "      <td>3fd66200f964a52000ea1ee3</td>\n",
       "      <td>40.732456</td>\n",
       "      <td>-74.003755</td>\n",
       "      <td>Indian Restaurant</td>\n",
       "      <td>US</td>\n",
       "    </tr>\n",
       "    <tr>\n",
       "      <th>4</th>\n",
       "      <td>3fd66200f964a52000ec1ee3</td>\n",
       "      <td>42.345907</td>\n",
       "      <td>-71.087001</td>\n",
       "      <td>Indian Restaurant</td>\n",
       "      <td>US</td>\n",
       "    </tr>\n",
       "    <tr>\n",
       "      <th>...</th>\n",
       "      <td>...</td>\n",
       "      <td>...</td>\n",
       "      <td>...</td>\n",
       "      <td>...</td>\n",
       "      <td>...</td>\n",
       "    </tr>\n",
       "    <tr>\n",
       "      <th>11180155</th>\n",
       "      <td>52e92ec0498e1a09484475c9</td>\n",
       "      <td>55.852631</td>\n",
       "      <td>37.447034</td>\n",
       "      <td>Residential Building (Apartment / Condo)</td>\n",
       "      <td>RU</td>\n",
       "    </tr>\n",
       "    <tr>\n",
       "      <th>11180156</th>\n",
       "      <td>52e92f11498e8e25136e9fe2</td>\n",
       "      <td>-4.329570</td>\n",
       "      <td>-40.711533</td>\n",
       "      <td>Dentist's Office</td>\n",
       "      <td>BR</td>\n",
       "    </tr>\n",
       "    <tr>\n",
       "      <th>11180157</th>\n",
       "      <td>52e92f4511d2a77832a49eec</td>\n",
       "      <td>52.505471</td>\n",
       "      <td>13.368507</td>\n",
       "      <td>Financial or Legal Service</td>\n",
       "      <td>DE</td>\n",
       "    </tr>\n",
       "    <tr>\n",
       "      <th>11180158</th>\n",
       "      <td>52e92fa5498ef926067570ff</td>\n",
       "      <td>41.025367</td>\n",
       "      <td>28.554854</td>\n",
       "      <td>City</td>\n",
       "      <td>TR</td>\n",
       "    </tr>\n",
       "    <tr>\n",
       "      <th>11180159</th>\n",
       "      <td>52e92fcb498ebb8d7cf88323</td>\n",
       "      <td>16.496388</td>\n",
       "      <td>102.822726</td>\n",
       "      <td>Home (private)</td>\n",
       "      <td>TH</td>\n",
       "    </tr>\n",
       "  </tbody>\n",
       "</table>\n",
       "<p>11180160 rows × 5 columns</p>\n",
       "</div>"
      ],
      "text/plain": [
       "                           zone_id        Lat         lon  \\\n",
       "0         3fd66200f964a52000e61ee3  40.729209  -73.998753   \n",
       "1         3fd66200f964a52000e71ee3  40.733596  -74.003139   \n",
       "2         3fd66200f964a52000e81ee3  40.758102  -73.975734   \n",
       "3         3fd66200f964a52000ea1ee3  40.732456  -74.003755   \n",
       "4         3fd66200f964a52000ec1ee3  42.345907  -71.087001   \n",
       "...                            ...        ...         ...   \n",
       "11180155  52e92ec0498e1a09484475c9  55.852631   37.447034   \n",
       "11180156  52e92f11498e8e25136e9fe2  -4.329570  -40.711533   \n",
       "11180157  52e92f4511d2a77832a49eec  52.505471   13.368507   \n",
       "11180158  52e92fa5498ef926067570ff  41.025367   28.554854   \n",
       "11180159  52e92fcb498ebb8d7cf88323  16.496388  102.822726   \n",
       "\n",
       "                                          building country  \n",
       "0                                      Post Office      US  \n",
       "1                                        Jazz Club      US  \n",
       "2                                              Gym      US  \n",
       "3                                Indian Restaurant      US  \n",
       "4                                Indian Restaurant      US  \n",
       "...                                            ...     ...  \n",
       "11180155  Residential Building (Apartment / Condo)      RU  \n",
       "11180156                          Dentist's Office      BR  \n",
       "11180157                Financial or Legal Service      DE  \n",
       "11180158                                      City      TR  \n",
       "11180159                            Home (private)      TH  \n",
       "\n",
       "[11180160 rows x 5 columns]"
      ]
     },
     "execution_count": 2,
     "metadata": {},
     "output_type": "execute_result"
    }
   ],
   "source": [
    "# We start by extracting our data from our zip file.\n",
    "my_df = pd.read_csv(raw_dataset_file.open('dataset_WWW2019/raw_POIs.txt'), header = None, sep = \"\\t\", error_bad_lines=False, names = [\"zone_id\",\"Lat\",\"lon\",\"building\",\"country\"])\n",
    "my_df"
   ]
  },
  {
   "cell_type": "code",
   "execution_count": 3,
   "metadata": {},
   "outputs": [
    {
     "data": {
      "text/html": [
       "<div>\n",
       "<style scoped>\n",
       "    .dataframe tbody tr th:only-of-type {\n",
       "        vertical-align: middle;\n",
       "    }\n",
       "\n",
       "    .dataframe tbody tr th {\n",
       "        vertical-align: top;\n",
       "    }\n",
       "\n",
       "    .dataframe thead th {\n",
       "        text-align: right;\n",
       "    }\n",
       "</style>\n",
       "<table border=\"1\" class=\"dataframe\">\n",
       "  <thead>\n",
       "    <tr style=\"text-align: right;\">\n",
       "      <th></th>\n",
       "      <th>building</th>\n",
       "    </tr>\n",
       "    <tr>\n",
       "      <th>country</th>\n",
       "      <th></th>\n",
       "    </tr>\n",
       "  </thead>\n",
       "  <tbody>\n",
       "    <tr>\n",
       "      <th>US</th>\n",
       "      <td>1990327</td>\n",
       "    </tr>\n",
       "    <tr>\n",
       "      <th>ID</th>\n",
       "      <td>1198611</td>\n",
       "    </tr>\n",
       "    <tr>\n",
       "      <th>BR</th>\n",
       "      <td>1159258</td>\n",
       "    </tr>\n",
       "    <tr>\n",
       "      <th>TR</th>\n",
       "      <td>1098373</td>\n",
       "    </tr>\n",
       "    <tr>\n",
       "      <th>RU</th>\n",
       "      <td>546532</td>\n",
       "    </tr>\n",
       "    <tr>\n",
       "      <th>JP</th>\n",
       "      <td>519409</td>\n",
       "    </tr>\n",
       "    <tr>\n",
       "      <th>MY</th>\n",
       "      <td>493453</td>\n",
       "    </tr>\n",
       "    <tr>\n",
       "      <th>MX</th>\n",
       "      <td>408434</td>\n",
       "    </tr>\n",
       "    <tr>\n",
       "      <th>TH</th>\n",
       "      <td>353444</td>\n",
       "    </tr>\n",
       "    <tr>\n",
       "      <th>PH</th>\n",
       "      <td>219097</td>\n",
       "    </tr>\n",
       "    <tr>\n",
       "      <th>ES</th>\n",
       "      <td>212161</td>\n",
       "    </tr>\n",
       "    <tr>\n",
       "      <th>GB</th>\n",
       "      <td>210777</td>\n",
       "    </tr>\n",
       "  </tbody>\n",
       "</table>\n",
       "</div>"
      ],
      "text/plain": [
       "         building\n",
       "country          \n",
       "US        1990327\n",
       "ID        1198611\n",
       "BR        1159258\n",
       "TR        1098373\n",
       "RU         546532\n",
       "JP         519409\n",
       "MY         493453\n",
       "MX         408434\n",
       "TH         353444\n",
       "PH         219097\n",
       "ES         212161\n",
       "GB         210777"
      ]
     },
     "execution_count": 3,
     "metadata": {},
     "output_type": "execute_result"
    }
   ],
   "source": [
    "# Since we want to study our data by country, we get the list of all different countries we can study.\n",
    "list_country = list(my_df.country.unique()) # list of all countries where people have checked in.\n",
    "\n",
    "# We also create a dataframe where we order each country in accordance to the number of check-ins it holds.\n",
    "my_countries = my_df.groupby(by = \"country\").agg(\"count\").sort_values(by = \"building\", ascending = False).drop(columns = [\"zone_id\", \"Lat\", \"lon\"])\n",
    "my_countries[my_countries[\"building\"] >=200000]\n",
    "\n",
    "# We notice that a lot of countries have a few check-ins. We don't know if it's because somebody from another contry\n",
    "# checked-in once while on holiday or if we have users that check-in occasionely.\n",
    "# However, since at this stage we just want to get nationality, we surpress countries with too few checkins."
   ]
  },
  {
   "cell_type": "code",
   "execution_count": 4,
   "metadata": {},
   "outputs": [
    {
     "name": "stdout",
     "output_type": "stream",
     "text": [
      "['SX', 'IC', 'SJ', 'SB', 'YT', 'TO', 'FK', 'KI', 'AX', 'NF', 'BV', 'EU', 'MS', 'FM', 'NT', 'MH', 'SH', 'KM', 'TV', 'TF', 'ST', 'UM', 'CS', 'CF', 'NR', 'ER', 'CX', 'PM', 'TA', 'GS', 'BQ', 'WF', 'JT', 'NU', 'FX', 'DD', 'CP']\n"
     ]
    }
   ],
   "source": [
    "countries_with_large_checkins = my_countries[my_countries[\"building\"] >=20].index.tolist()\n",
    "countries_to_exclude = [element for element in my_countries.index if element not in countries_with_large_checkins]\n",
    "print(countries_to_exclude) "
   ]
  },
  {
   "cell_type": "code",
   "execution_count": 5,
   "metadata": {},
   "outputs": [
    {
     "data": {
      "text/html": [
       "<div>\n",
       "<style scoped>\n",
       "    .dataframe tbody tr th:only-of-type {\n",
       "        vertical-align: middle;\n",
       "    }\n",
       "\n",
       "    .dataframe tbody tr th {\n",
       "        vertical-align: top;\n",
       "    }\n",
       "\n",
       "    .dataframe thead th {\n",
       "        text-align: right;\n",
       "    }\n",
       "</style>\n",
       "<table border=\"1\" class=\"dataframe\">\n",
       "  <thead>\n",
       "    <tr style=\"text-align: right;\">\n",
       "      <th></th>\n",
       "      <th>zone_id</th>\n",
       "      <th>Lat</th>\n",
       "      <th>lon</th>\n",
       "      <th>building</th>\n",
       "      <th>country</th>\n",
       "    </tr>\n",
       "  </thead>\n",
       "  <tbody>\n",
       "    <tr>\n",
       "      <th>0</th>\n",
       "      <td>3fd66200f964a52000e61ee3</td>\n",
       "      <td>40.729209</td>\n",
       "      <td>-73.998753</td>\n",
       "      <td>Post Office</td>\n",
       "      <td>US</td>\n",
       "    </tr>\n",
       "    <tr>\n",
       "      <th>1</th>\n",
       "      <td>3fd66200f964a52000e71ee3</td>\n",
       "      <td>40.733596</td>\n",
       "      <td>-74.003139</td>\n",
       "      <td>Jazz Club</td>\n",
       "      <td>US</td>\n",
       "    </tr>\n",
       "    <tr>\n",
       "      <th>2</th>\n",
       "      <td>3fd66200f964a52000e81ee3</td>\n",
       "      <td>40.758102</td>\n",
       "      <td>-73.975734</td>\n",
       "      <td>Gym</td>\n",
       "      <td>US</td>\n",
       "    </tr>\n",
       "    <tr>\n",
       "      <th>3</th>\n",
       "      <td>3fd66200f964a52000ea1ee3</td>\n",
       "      <td>40.732456</td>\n",
       "      <td>-74.003755</td>\n",
       "      <td>Indian Restaurant</td>\n",
       "      <td>US</td>\n",
       "    </tr>\n",
       "    <tr>\n",
       "      <th>4</th>\n",
       "      <td>3fd66200f964a52000ec1ee3</td>\n",
       "      <td>42.345907</td>\n",
       "      <td>-71.087001</td>\n",
       "      <td>Indian Restaurant</td>\n",
       "      <td>US</td>\n",
       "    </tr>\n",
       "    <tr>\n",
       "      <th>...</th>\n",
       "      <td>...</td>\n",
       "      <td>...</td>\n",
       "      <td>...</td>\n",
       "      <td>...</td>\n",
       "      <td>...</td>\n",
       "    </tr>\n",
       "    <tr>\n",
       "      <th>11180155</th>\n",
       "      <td>52e92ec0498e1a09484475c9</td>\n",
       "      <td>55.852631</td>\n",
       "      <td>37.447034</td>\n",
       "      <td>Residential Building (Apartment / Condo)</td>\n",
       "      <td>RU</td>\n",
       "    </tr>\n",
       "    <tr>\n",
       "      <th>11180156</th>\n",
       "      <td>52e92f11498e8e25136e9fe2</td>\n",
       "      <td>-4.329570</td>\n",
       "      <td>-40.711533</td>\n",
       "      <td>Dentist's Office</td>\n",
       "      <td>BR</td>\n",
       "    </tr>\n",
       "    <tr>\n",
       "      <th>11180157</th>\n",
       "      <td>52e92f4511d2a77832a49eec</td>\n",
       "      <td>52.505471</td>\n",
       "      <td>13.368507</td>\n",
       "      <td>Financial or Legal Service</td>\n",
       "      <td>DE</td>\n",
       "    </tr>\n",
       "    <tr>\n",
       "      <th>11180158</th>\n",
       "      <td>52e92fa5498ef926067570ff</td>\n",
       "      <td>41.025367</td>\n",
       "      <td>28.554854</td>\n",
       "      <td>City</td>\n",
       "      <td>TR</td>\n",
       "    </tr>\n",
       "    <tr>\n",
       "      <th>11180159</th>\n",
       "      <td>52e92fcb498ebb8d7cf88323</td>\n",
       "      <td>16.496388</td>\n",
       "      <td>102.822726</td>\n",
       "      <td>Home (private)</td>\n",
       "      <td>TH</td>\n",
       "    </tr>\n",
       "  </tbody>\n",
       "</table>\n",
       "<p>11179578 rows × 5 columns</p>\n",
       "</div>"
      ],
      "text/plain": [
       "                           zone_id        Lat         lon  \\\n",
       "0         3fd66200f964a52000e61ee3  40.729209  -73.998753   \n",
       "1         3fd66200f964a52000e71ee3  40.733596  -74.003139   \n",
       "2         3fd66200f964a52000e81ee3  40.758102  -73.975734   \n",
       "3         3fd66200f964a52000ea1ee3  40.732456  -74.003755   \n",
       "4         3fd66200f964a52000ec1ee3  42.345907  -71.087001   \n",
       "...                            ...        ...         ...   \n",
       "11180155  52e92ec0498e1a09484475c9  55.852631   37.447034   \n",
       "11180156  52e92f11498e8e25136e9fe2  -4.329570  -40.711533   \n",
       "11180157  52e92f4511d2a77832a49eec  52.505471   13.368507   \n",
       "11180158  52e92fa5498ef926067570ff  41.025367   28.554854   \n",
       "11180159  52e92fcb498ebb8d7cf88323  16.496388  102.822726   \n",
       "\n",
       "                                          building country  \n",
       "0                                      Post Office      US  \n",
       "1                                        Jazz Club      US  \n",
       "2                                              Gym      US  \n",
       "3                                Indian Restaurant      US  \n",
       "4                                Indian Restaurant      US  \n",
       "...                                            ...     ...  \n",
       "11180155  Residential Building (Apartment / Condo)      RU  \n",
       "11180156                          Dentist's Office      BR  \n",
       "11180157                Financial or Legal Service      DE  \n",
       "11180158                                      City      TR  \n",
       "11180159                            Home (private)      TH  \n",
       "\n",
       "[11179578 rows x 5 columns]"
      ]
     },
     "execution_count": 5,
     "metadata": {},
     "output_type": "execute_result"
    }
   ],
   "source": [
    "my_df = my_df[my_df[\"country\"].isin(countries_with_large_checkins)]\n",
    "my_df\n",
    "# We notice that removing our countries with a low number of check-ins doesn't change our dataset much.  "
   ]
  },
  {
   "cell_type": "code",
   "execution_count": 6,
   "metadata": {},
   "outputs": [
    {
     "name": "stdout",
     "output_type": "stream",
     "text": [
      "         building\n",
      "country          \n",
      "US        1990327\n",
      "ID        1198611\n",
      "BR        1159258\n",
      "TR        1098373\n",
      "RU         546532\n",
      "JP         519409\n",
      "MY         493453\n",
      "MX         408434\n",
      "TH         353444\n",
      "PH         219097\n",
      "ES         212161\n",
      "GB         210777\n"
     ]
    }
   ],
   "source": [
    "# As a result, we decide to take drastic measures and to keep only countries with the highest number of checkins.\n",
    "print(my_countries[my_countries[\"building\"] >=200000])"
   ]
  },
  {
   "cell_type": "code",
   "execution_count": 7,
   "metadata": {},
   "outputs": [
    {
     "data": {
      "text/html": [
       "<div>\n",
       "<style scoped>\n",
       "    .dataframe tbody tr th:only-of-type {\n",
       "        vertical-align: middle;\n",
       "    }\n",
       "\n",
       "    .dataframe tbody tr th {\n",
       "        vertical-align: top;\n",
       "    }\n",
       "\n",
       "    .dataframe thead th {\n",
       "        text-align: right;\n",
       "    }\n",
       "</style>\n",
       "<table border=\"1\" class=\"dataframe\">\n",
       "  <thead>\n",
       "    <tr style=\"text-align: right;\">\n",
       "      <th></th>\n",
       "      <th>person_id</th>\n",
       "      <th>zone_id</th>\n",
       "      <th>time_checkin</th>\n",
       "      <th>timezone</th>\n",
       "    </tr>\n",
       "  </thead>\n",
       "  <tbody>\n",
       "    <tr>\n",
       "      <th>0</th>\n",
       "      <td>822121</td>\n",
       "      <td>4b4b87b5f964a5204a9f26e3</td>\n",
       "      <td>Tue Apr 03 18:00:07 +0000 2012</td>\n",
       "      <td>180</td>\n",
       "    </tr>\n",
       "    <tr>\n",
       "      <th>1</th>\n",
       "      <td>208842</td>\n",
       "      <td>4b4606f2f964a520751426e3</td>\n",
       "      <td>Tue Apr 03 18:00:08 +0000 2012</td>\n",
       "      <td>-300</td>\n",
       "    </tr>\n",
       "    <tr>\n",
       "      <th>2</th>\n",
       "      <td>113817</td>\n",
       "      <td>4b4bade2f964a520cfa326e3</td>\n",
       "      <td>Tue Apr 03 18:00:09 +0000 2012</td>\n",
       "      <td>-240</td>\n",
       "    </tr>\n",
       "    <tr>\n",
       "      <th>3</th>\n",
       "      <td>14732</td>\n",
       "      <td>4c143cada5eb76b0dc7dc1b7</td>\n",
       "      <td>Tue Apr 03 18:00:09 +0000 2012</td>\n",
       "      <td>-240</td>\n",
       "    </tr>\n",
       "    <tr>\n",
       "      <th>4</th>\n",
       "      <td>1397630</td>\n",
       "      <td>4e88cf4ed22d53877981fdab</td>\n",
       "      <td>Tue Apr 03 18:00:09 +0000 2012</td>\n",
       "      <td>-300</td>\n",
       "    </tr>\n",
       "    <tr>\n",
       "      <th>...</th>\n",
       "      <td>...</td>\n",
       "      <td>...</td>\n",
       "      <td>...</td>\n",
       "      <td>...</td>\n",
       "    </tr>\n",
       "    <tr>\n",
       "      <th>22809619</th>\n",
       "      <td>1568872</td>\n",
       "      <td>502bb1cee4b0190fdc74767b</td>\n",
       "      <td>Wed Jan 29 16:43:46 +0000 2014</td>\n",
       "      <td>420</td>\n",
       "    </tr>\n",
       "    <tr>\n",
       "      <th>22809620</th>\n",
       "      <td>689856</td>\n",
       "      <td>4d701b20b73bb1f70867b472</td>\n",
       "      <td>Wed Jan 29 16:43:56 +0000 2014</td>\n",
       "      <td>-180</td>\n",
       "    </tr>\n",
       "    <tr>\n",
       "      <th>22809621</th>\n",
       "      <td>567861</td>\n",
       "      <td>4b51b5ecf964a5203e5327e3</td>\n",
       "      <td>Wed Jan 29 16:44:04 +0000 2014</td>\n",
       "      <td>-120</td>\n",
       "    </tr>\n",
       "    <tr>\n",
       "      <th>22809622</th>\n",
       "      <td>44698</td>\n",
       "      <td>504a21c3e4b0568d3c5e6794</td>\n",
       "      <td>Wed Jan 29 16:44:16 +0000 2014</td>\n",
       "      <td>-360</td>\n",
       "    </tr>\n",
       "    <tr>\n",
       "      <th>22809623</th>\n",
       "      <td>734369</td>\n",
       "      <td>4b76d609f964a520e0622ee3</td>\n",
       "      <td>Wed Jan 29 16:44:19 +0000 2014</td>\n",
       "      <td>-360</td>\n",
       "    </tr>\n",
       "  </tbody>\n",
       "</table>\n",
       "<p>22809624 rows × 4 columns</p>\n",
       "</div>"
      ],
      "text/plain": [
       "          person_id                   zone_id                    time_checkin  \\\n",
       "0            822121  4b4b87b5f964a5204a9f26e3  Tue Apr 03 18:00:07 +0000 2012   \n",
       "1            208842  4b4606f2f964a520751426e3  Tue Apr 03 18:00:08 +0000 2012   \n",
       "2            113817  4b4bade2f964a520cfa326e3  Tue Apr 03 18:00:09 +0000 2012   \n",
       "3             14732  4c143cada5eb76b0dc7dc1b7  Tue Apr 03 18:00:09 +0000 2012   \n",
       "4           1397630  4e88cf4ed22d53877981fdab  Tue Apr 03 18:00:09 +0000 2012   \n",
       "...             ...                       ...                             ...   \n",
       "22809619    1568872  502bb1cee4b0190fdc74767b  Wed Jan 29 16:43:46 +0000 2014   \n",
       "22809620     689856  4d701b20b73bb1f70867b472  Wed Jan 29 16:43:56 +0000 2014   \n",
       "22809621     567861  4b51b5ecf964a5203e5327e3  Wed Jan 29 16:44:04 +0000 2014   \n",
       "22809622      44698  504a21c3e4b0568d3c5e6794  Wed Jan 29 16:44:16 +0000 2014   \n",
       "22809623     734369  4b76d609f964a520e0622ee3  Wed Jan 29 16:44:19 +0000 2014   \n",
       "\n",
       "          timezone  \n",
       "0              180  \n",
       "1             -300  \n",
       "2             -240  \n",
       "3             -240  \n",
       "4             -300  \n",
       "...            ...  \n",
       "22809619       420  \n",
       "22809620      -180  \n",
       "22809621      -120  \n",
       "22809622      -360  \n",
       "22809623      -360  \n",
       "\n",
       "[22809624 rows x 4 columns]"
      ]
     },
     "execution_count": 7,
     "metadata": {},
     "output_type": "execute_result"
    }
   ],
   "source": [
    "# We now get our dataset of checkins. This dataset does not contain the name of the country. It however contains\n",
    "# Indirect information.\n",
    "### WARNING : running this cell can be very long !\n",
    "my_df_checkins = pd.read_csv(raw_dataset_file.open('dataset_WWW2019/dataset_WWW_Checkins_anonymized.txt'), header = None, sep = \"\\t\", error_bad_lines=False, names = [\"person_id\",\"zone_id\",\"time_checkin\",\"timezone\"])\n",
    "my_df_checkins"
   ]
  },
  {
   "cell_type": "code",
   "execution_count": 8,
   "metadata": {},
   "outputs": [
    {
     "data": {
      "text/plain": [
       "zone_id         73\n",
       "time_checkin    73\n",
       "timezone        73\n",
       "dtype: int64"
      ]
     },
     "execution_count": 8,
     "metadata": {},
     "output_type": "execute_result"
    }
   ],
   "source": [
    "# Our participants checked-in at least 73 times in foursquare. As a result, we don't have to exclude any user from\n",
    "# our dataset.\n",
    "my_participants = my_df_checkins.groupby(by = \"person_id\").agg(\"count\")\n",
    "my_participants.min()"
   ]
  },
  {
   "cell_type": "markdown",
   "metadata": {},
   "source": [
    "#### Substep 2 Extracting csv files from our initial dataset."
   ]
  },
  {
   "cell_type": "code",
   "execution_count": 9,
   "metadata": {},
   "outputs": [],
   "source": [
    "def extract_year(country_code, my_year, Checkin_dataframe, POI_dataframe, timezone_low, timezone_high = None):\n",
    "    ### Function to extract a dataframe for a given country in a given year. The returned dataframe is of the form : \n",
    "    ###  index = zone_id\tperson_id \ttime_checkin \tyear \tLat \tlon \tbuilding \tcountry\n",
    "    ### time_checkin and year are of type pandas._libs.tslibs.timestamps.Timestamp\n",
    "    ### In order to extract one country, you have to give \"country_code\" (ex : \"US\"), \"my_year\" (a str ex : \"2013\")\n",
    "    ### The dataframe of all checkins, the dataframe of all POI and the timezone of the country in minutes\n",
    "    ### (ex : for the US, the timezone is timezone_low = -480, timezone_high = -300. If you have only one timezone\n",
    "    ### like GB who only has timezone_low = 0, don't give an argument for timezone_high).\n",
    "    ### We have to look on the internet to find the timezone.\n",
    "    \n",
    "    ### IMPORTANT : the time complexity of this function is very much linked to the number of timezones in a country. \n",
    "    \n",
    "    timezone_low *= 60    \n",
    "    if timezone_high is None:\n",
    "        timezone_high = timezone_low + 1\n",
    "    else:\n",
    "        timezone_high *= 60\n",
    "\n",
    "        \n",
    "    # We focus only on one country, we extract all the POI of this country.\n",
    "    country_POI = POI_dataframe[POI_dataframe[\"country\"] == country_code]\n",
    "    \n",
    "    # We think it could be a bit long to merge our two datasets on 22 million entries. As a result, we do a first\n",
    "    # verification : a user in a given country if he doesn't match the timezone of the country.\n",
    "    Checkins_in_timezone = Checkin_dataframe[Checkin_dataframe.timezone.between(timezone_low, timezone_high)].drop(\"timezone\", axis = 1)\n",
    "    \n",
    "    # We extract the year we are interested in.\n",
    "    Checkins_in_timezone[\"time_checkin\"] = pd.to_datetime(Checkins_in_timezone[\"time_checkin\"], format = \"%a %b %d %X %z %Y\",errors='coerce')\n",
    "    Checkins_in_timezone[\"year\"] = pd.DatetimeIndex(Checkins_in_timezone[\"time_checkin\"]).year\n",
    "    Checkins_in_year = Checkins_in_timezone[Checkins_in_timezone[\"year\"] == pd.to_datetime(my_year).year]\n",
    "    \n",
    "    # Finally, we merge our datasets.\n",
    "    merge_checkins = pd.merge(Checkins_in_year.set_index(\"zone_id\"), country_POI.set_index(\"zone_id\"), left_index=True, right_index=True)\n",
    "    return(merge_checkins)"
   ]
  },
  {
   "cell_type": "markdown",
   "metadata": {},
   "source": [
    "We extract the 10 countries with the most buildings in the dataframe \"my_country\". Since our data for 2012 and 2014 don't cover the full year, we only extract data from 2013."
   ]
  },
  {
   "cell_type": "code",
   "execution_count": 12,
   "metadata": {},
   "outputs": [],
   "source": [
    "### WARNING ! THIS CELL IS EXTREMELY LONG TO RUN ! Don't run it if you don't need to !\n",
    "### FOR SAFETY PURPOSES, we have commented all the code inside. Uncomment if you want to run.\n",
    "\n",
    "#US1_db = extract_year(\"US\", \"2013\", my_df_checkins, my_df, -11,-4) #USA\n",
    "#ID2_db = extract_year(\"ID\", \"2013\", my_df_checkins, my_df, 7,9) #Indonesia\n",
    "#BR3_db = extract_year(\"BR\", \"2013\", my_df_checkins, my_df, -5,-2) #Brazil\n",
    "#TR4_db = extract_year(\"TR\", \"2013\", my_df_checkins, my_df, 3) #Turkey\n",
    "#RU5_db = extract_year(\"RU\", \"2013\", my_df_checkins, my_df, 2,12) #Russia\n",
    "#JP6_db = extract_year(\"JP\", \"2013\", my_df_checkins, my_df, 9) #Japan\n",
    "#MY7_db = extract_year(\"MY\", \"2013\", my_df_checkins, my_df, 8) #Malaysia\n",
    "#MX8_db = extract_year(\"MX\", \"2013\", my_df_checkins, my_df, -8,-5) #Mexico\n",
    "#TH9_db = extract_year(\"TH\", \"2013\", my_df_checkins, my_df, 7) #Thailand\n",
    "#PH10_db = extract_year(\"PH\", \"2013\", my_df_checkins, my_df, 8) #Philippines"
   ]
  },
  {
   "cell_type": "code",
   "execution_count": 13,
   "metadata": {},
   "outputs": [],
   "source": [
    "# We then store the dataframes in csv files so that we can access them without having to load the bigger datasets.\n",
    "\n",
    "#US1_db.to_csv(\"1_US_2013_merge_data.csv\", index = True)\n",
    "#ID2_db.to_csv(\"2_ID_2013_merge_data.csv\", index = True)\n",
    "#BR3_db.to_csv(\"3_BR_2013_merge_data.csv\", index = True)\n",
    "#TR4_db.to_csv(\"4_TR_2013_merge_data.csv\", index = True)\n",
    "#RU5_db.to_csv(\"5_RU_2013_merge_data.csv\", index = True)\n",
    "#JP6_db.to_csv(\"6_JP_2013_merge_data.csv\", index = True)\n",
    "#MY7_db.to_csv(\"7_MY_2013_merge_data.csv\", index = True)\n",
    "#MX8_db.to_csv(\"8_MX_2013_merge_data.csv\", index = True)\n",
    "#TH9_db.to_csv(\"9_TH_2013_merge_data.csv\", index = True)\n",
    "#PH10_db.to_csv(\"10_PH_2013_merge_data.csv\", index = True)"
   ]
  },
  {
   "cell_type": "markdown",
   "metadata": {},
   "source": [
    "A first interesting fact is that we have more data in 2012 than any other year. This is surprising since we don't even have the data for a full year !<br>\n",
    "We have less data in 2013 though we have the full year data. This can be explained by the fact that foursquare's popularity was starting to waver and would only grow again towards 2014 with the release of \"swarm\", a companion app to foursquare. <br>\n",
    "In order to have a coherent dataset, we will start by working on data from 2013 (where we have the full year) and check our results by using data from 2012 and 2014."
   ]
  },
  {
   "cell_type": "markdown",
   "metadata": {},
   "source": [
    "### Step 2 : Cleaning our data<a id='Step_2'></a>"
   ]
  },
  {
   "cell_type": "markdown",
   "metadata": {},
   "source": [
    "We check quickly that all our values are legal (no latitudes bigger than 90 our longitude bigger than 180). <br>\n",
    "We notice that all points are in the correct interval, which is a blessing :)"
   ]
  },
  {
   "cell_type": "code",
   "execution_count": 14,
   "metadata": {},
   "outputs": [
    {
     "data": {
      "text/html": [
       "<div>\n",
       "<style scoped>\n",
       "    .dataframe tbody tr th:only-of-type {\n",
       "        vertical-align: middle;\n",
       "    }\n",
       "\n",
       "    .dataframe tbody tr th {\n",
       "        vertical-align: top;\n",
       "    }\n",
       "\n",
       "    .dataframe thead th {\n",
       "        text-align: right;\n",
       "    }\n",
       "</style>\n",
       "<table border=\"1\" class=\"dataframe\">\n",
       "  <thead>\n",
       "    <tr style=\"text-align: right;\">\n",
       "      <th></th>\n",
       "      <th>zone_id</th>\n",
       "      <th>person_id</th>\n",
       "      <th>time_checkin</th>\n",
       "      <th>year</th>\n",
       "      <th>Lat</th>\n",
       "      <th>lon</th>\n",
       "      <th>building</th>\n",
       "      <th>country</th>\n",
       "    </tr>\n",
       "  </thead>\n",
       "  <tbody>\n",
       "    <tr>\n",
       "      <th>0</th>\n",
       "      <td>4b05880ff964a5201caf22e3</td>\n",
       "      <td>1170327</td>\n",
       "      <td>2013-01-02 06:04:37+00:00</td>\n",
       "      <td>2013</td>\n",
       "      <td>1.145077</td>\n",
       "      <td>104.010916</td>\n",
       "      <td>Other Great Outdoors</td>\n",
       "      <td>ID</td>\n",
       "    </tr>\n",
       "    <tr>\n",
       "      <th>1</th>\n",
       "      <td>4b05880ff964a5201caf22e3</td>\n",
       "      <td>1170327</td>\n",
       "      <td>2013-01-11 11:31:56+00:00</td>\n",
       "      <td>2013</td>\n",
       "      <td>1.145077</td>\n",
       "      <td>104.010916</td>\n",
       "      <td>Other Great Outdoors</td>\n",
       "      <td>ID</td>\n",
       "    </tr>\n",
       "    <tr>\n",
       "      <th>2</th>\n",
       "      <td>4b05880ff964a5201caf22e3</td>\n",
       "      <td>1170327</td>\n",
       "      <td>2013-01-15 10:18:07+00:00</td>\n",
       "      <td>2013</td>\n",
       "      <td>1.145077</td>\n",
       "      <td>104.010916</td>\n",
       "      <td>Other Great Outdoors</td>\n",
       "      <td>ID</td>\n",
       "    </tr>\n",
       "    <tr>\n",
       "      <th>3</th>\n",
       "      <td>4b05880ff964a5201caf22e3</td>\n",
       "      <td>408433</td>\n",
       "      <td>2013-01-30 11:12:24+00:00</td>\n",
       "      <td>2013</td>\n",
       "      <td>1.145077</td>\n",
       "      <td>104.010916</td>\n",
       "      <td>Other Great Outdoors</td>\n",
       "      <td>ID</td>\n",
       "    </tr>\n",
       "    <tr>\n",
       "      <th>4</th>\n",
       "      <td>4b05880ff964a5201caf22e3</td>\n",
       "      <td>408433</td>\n",
       "      <td>2013-01-30 11:25:09+00:00</td>\n",
       "      <td>2013</td>\n",
       "      <td>1.145077</td>\n",
       "      <td>104.010916</td>\n",
       "      <td>Other Great Outdoors</td>\n",
       "      <td>ID</td>\n",
       "    </tr>\n",
       "    <tr>\n",
       "      <th>...</th>\n",
       "      <td>...</td>\n",
       "      <td>...</td>\n",
       "      <td>...</td>\n",
       "      <td>...</td>\n",
       "      <td>...</td>\n",
       "      <td>...</td>\n",
       "      <td>...</td>\n",
       "      <td>...</td>\n",
       "    </tr>\n",
       "    <tr>\n",
       "      <th>771866</th>\n",
       "      <td>52b6c7f611d255fa1a7392a3</td>\n",
       "      <td>707704</td>\n",
       "      <td>2013-12-22 11:08:20+00:00</td>\n",
       "      <td>2013</td>\n",
       "      <td>0.475714</td>\n",
       "      <td>121.241539</td>\n",
       "      <td>Rest Area</td>\n",
       "      <td>ID</td>\n",
       "    </tr>\n",
       "    <tr>\n",
       "      <th>771867</th>\n",
       "      <td>52b6ca4e498e15b460e38ab2</td>\n",
       "      <td>683822</td>\n",
       "      <td>2013-12-22 11:17:49+00:00</td>\n",
       "      <td>2013</td>\n",
       "      <td>-6.227489</td>\n",
       "      <td>106.825379</td>\n",
       "      <td>Australian Restaurant</td>\n",
       "      <td>ID</td>\n",
       "    </tr>\n",
       "    <tr>\n",
       "      <th>771868</th>\n",
       "      <td>52b6cada11d248b7b56d2374</td>\n",
       "      <td>1264982</td>\n",
       "      <td>2013-12-22 11:20:12+00:00</td>\n",
       "      <td>2013</td>\n",
       "      <td>-8.569188</td>\n",
       "      <td>114.090425</td>\n",
       "      <td>Home (private)</td>\n",
       "      <td>ID</td>\n",
       "    </tr>\n",
       "    <tr>\n",
       "      <th>771869</th>\n",
       "      <td>52b6cd3e498ea6b8c72aa057</td>\n",
       "      <td>1499509</td>\n",
       "      <td>2013-12-22 11:46:16+00:00</td>\n",
       "      <td>2013</td>\n",
       "      <td>1.459921</td>\n",
       "      <td>124.823780</td>\n",
       "      <td>Home (private)</td>\n",
       "      <td>ID</td>\n",
       "    </tr>\n",
       "    <tr>\n",
       "      <th>771870</th>\n",
       "      <td>52b77960498eff6710be0a2c</td>\n",
       "      <td>707704</td>\n",
       "      <td>2013-12-22 23:46:05+00:00</td>\n",
       "      <td>2013</td>\n",
       "      <td>-1.756957</td>\n",
       "      <td>120.648751</td>\n",
       "      <td>Home (private)</td>\n",
       "      <td>ID</td>\n",
       "    </tr>\n",
       "  </tbody>\n",
       "</table>\n",
       "<p>771871 rows × 8 columns</p>\n",
       "</div>"
      ],
      "text/plain": [
       "                         zone_id  person_id               time_checkin  year  \\\n",
       "0       4b05880ff964a5201caf22e3    1170327  2013-01-02 06:04:37+00:00  2013   \n",
       "1       4b05880ff964a5201caf22e3    1170327  2013-01-11 11:31:56+00:00  2013   \n",
       "2       4b05880ff964a5201caf22e3    1170327  2013-01-15 10:18:07+00:00  2013   \n",
       "3       4b05880ff964a5201caf22e3     408433  2013-01-30 11:12:24+00:00  2013   \n",
       "4       4b05880ff964a5201caf22e3     408433  2013-01-30 11:25:09+00:00  2013   \n",
       "...                          ...        ...                        ...   ...   \n",
       "771866  52b6c7f611d255fa1a7392a3     707704  2013-12-22 11:08:20+00:00  2013   \n",
       "771867  52b6ca4e498e15b460e38ab2     683822  2013-12-22 11:17:49+00:00  2013   \n",
       "771868  52b6cada11d248b7b56d2374    1264982  2013-12-22 11:20:12+00:00  2013   \n",
       "771869  52b6cd3e498ea6b8c72aa057    1499509  2013-12-22 11:46:16+00:00  2013   \n",
       "771870  52b77960498eff6710be0a2c     707704  2013-12-22 23:46:05+00:00  2013   \n",
       "\n",
       "             Lat         lon               building country  \n",
       "0       1.145077  104.010916   Other Great Outdoors      ID  \n",
       "1       1.145077  104.010916   Other Great Outdoors      ID  \n",
       "2       1.145077  104.010916   Other Great Outdoors      ID  \n",
       "3       1.145077  104.010916   Other Great Outdoors      ID  \n",
       "4       1.145077  104.010916   Other Great Outdoors      ID  \n",
       "...          ...         ...                    ...     ...  \n",
       "771866  0.475714  121.241539              Rest Area      ID  \n",
       "771867 -6.227489  106.825379  Australian Restaurant      ID  \n",
       "771868 -8.569188  114.090425         Home (private)      ID  \n",
       "771869  1.459921  124.823780         Home (private)      ID  \n",
       "771870 -1.756957  120.648751         Home (private)      ID  \n",
       "\n",
       "[771871 rows x 8 columns]"
      ]
     },
     "execution_count": 14,
     "metadata": {},
     "output_type": "execute_result"
    }
   ],
   "source": [
    "ID_df = pd.read_csv(data_file.open('data/2_ID_2013_merge_data.csv'))\n",
    "ID_df"
   ]
  },
  {
   "cell_type": "code",
   "execution_count": 15,
   "metadata": {},
   "outputs": [],
   "source": [
    "#Helpers\n",
    "def dropLocationId(df):\n",
    "    return df.drop(['zone_id'],axis=1)\n",
    "\n",
    "def dropCheckinTime(df):\n",
    "    return df.drop(['time_checkin'],axis=1)\n",
    "\n",
    "def dropMissingLatOrLng(df):\n",
    "    return df[~((df['Lat'] == 0) | (df['lon'] == 0))]\n",
    "\n",
    "def dropInvalidLat(df):\n",
    "    return df[(df['Lat'] < 90) & (df['Lat'] > -90)]\n",
    "\n",
    "def dropInvalidLng(df):\n",
    "    return df[(df['lon'] < 180) & (df['lon'] > -180)]\n",
    "\n",
    "def preprocess(df):\n",
    "    df_ = df.copy()\n",
    "    #drop Rows having NaN/Null/NaT Values \n",
    "    df_ = df_.dropna(how=\"any\")\n",
    "\n",
    "    #drop Rows having invalid Values \n",
    "    df_ = dropMissingLatOrLng(df_)\n",
    "\n",
    "    df_ = dropInvalidLat(df_)\n",
    "    df_ = dropInvalidLng(df_)\n",
    "    return df_\n",
    "    "
   ]
  },
  {
   "cell_type": "code",
   "execution_count": 16,
   "metadata": {},
   "outputs": [
    {
     "name": "stdout",
     "output_type": "stream",
     "text": [
      "Before the preprocessing, the dataset had : 771871 checkins\n",
      "After the preprocessing, the dataset had : 771871 checkins\n"
     ]
    }
   ],
   "source": [
    "totalChekinsBefore = ID_df.shape[0]\n",
    "clean_df = preprocess(ID_df)\n",
    "#Total number of check-ins \n",
    "print('Before the preprocessing, the dataset had : '+ str(totalChekinsBefore) + ' checkins')\n",
    "print('After the preprocessing, the dataset had : '+ str(clean_df.shape[0]) + ' checkins')"
   ]
  },
  {
   "cell_type": "code",
   "execution_count": null,
   "metadata": {},
   "outputs": [],
   "source": []
  },
  {
   "cell_type": "markdown",
   "metadata": {},
   "source": [
    "### Step 3 : Studying friendships <a id='Step_3'></a>"
   ]
  },
  {
   "cell_type": "markdown",
   "metadata": {},
   "source": [
    "#### Substep 1 : Helper functions"
   ]
  },
  {
   "cell_type": "code",
   "execution_count": 17,
   "metadata": {},
   "outputs": [],
   "source": [
    "# Helper function which finds the distance between two points from their latitude and longitude coordinates\n",
    "# They are used later.\n",
    "\n",
    "def find_distance(lat1, lat2, lon1, lon2):\n",
    "    ### This fonction takes four columns of a dataframe and returns the column with all the distances\n",
    "    ### calculated point by point.\n",
    "    earth_radius = 6373 # In km\n",
    "    lat1 = lat1/180 * math.pi\n",
    "    lat2 = lat2/180 * math.pi\n",
    "    dlat = lat2 - lat1\n",
    "    dlon = (lon1 - lon2)/180 * math.pi\n",
    "    a = (dlat/2).apply(math.sin)**2 + lat1.apply(math.cos) * lat2.apply(math.cos) * (dlon/2).apply(math.sin)**2\n",
    "    c = 2 * (a.apply(math.sqrt) / (1 - a).apply(math.sqrt)).apply(math.atan)\n",
    "    d = earth_radius * c\n",
    "    distance_db = pd.DataFrame(d).rename(columns = {0 : 'distance'})\n",
    "    return(distance_db)\n",
    "\n",
    "\n",
    "# For each user, we want to assign them to one square (the one in which they checked-in the most).*\n",
    "# In order to do so, we create a column named \"my_square\" which gives the name of the square in which each column\n",
    "# is in. We take latitude = 0 and longitude = 0 to be the centre of the origin square.\n",
    "# The names of our 25km * 25km squares are chosen as the tuple (latitude, longitude)\n",
    "# In order to make our code more compact we create a function to create our labeling of squares.\n",
    "\n",
    "def square_label(my_dataframe):\n",
    "    inter = pd.DataFrame()\n",
    "    cos_latitude = (my_dataframe['latitude']/180 * math.pi).apply(math.cos)\n",
    "    inter[\"rounded_latitude\"] = (110.574 * (my_dataframe['latitude'])/25).apply(round)\n",
    "    inter[\"rounded_longitude\"] = (111.320 * cos_latitude* (my_dataframe['longitude'])/25).apply(round)\n",
    "    inter_list = inter.values.tolist()\n",
    "    my_dataframe['my_square'] = [tuple(val) for val in inter_list]\n",
    "    return(my_dataframe)\n",
    "\n",
    "\n",
    "# For each user, we get the number of times where they checked in in a given location. We associate the position\n",
    "# of their home with the position of the location where they checked in the most.\n",
    "# In case of a draw (a user checked in the same number of times in two locations), we average the position of the\n",
    "# house over the position of the most checked in locations.\n",
    "\n",
    "def find_homes_avg(dataframe):\n",
    "    grouped_data = dataframe.groupby([\"user\", \"my_square\"]).count()\n",
    "    grouped_data = grouped_data.reset_index().drop(columns = [\"locid\"])\n",
    "    # We start by getting all the values where there was a draw. (Takes a few minutes)\n",
    "    # We then extract just the columns \"user\" and \"my_square\" to work on them.\n",
    "    draw_data = grouped_data.groupby(\"user\").apply(lambda x: x.loc[x[\"time\"] == x[\"time\"].max()])\n",
    "    draw_value = pd.DataFrame(draw_data[[\"user\", \"my_square\"]].values).rename(columns = {0 : 'user', 1 : 'my_square'})\n",
    "    return(draw_value)\n",
    "\n",
    "\n",
    "# Once we have filtered our home data, we can do our average over the right \"my_square\"\n",
    "\n",
    "def compute_house_position(dataframe, home_data):\n",
    "    dataframe = dataframe.merge(home_data, how = \"inner\", left_on = [\"user\", \"my_square\"], right_on = [\"user\", \"my_square\"])\n",
    "    return(dataframe.groupby(\"user\")[[\"latitude\", \"longitude\"]].mean())\n",
    "\n",
    "\n",
    "# At first, we think of doing a left join between our edge dataset and our house position dataframe. \n",
    "# We however realize that some users never checked in and therefore have no addresses.\n",
    "# As a result, we decide to do an inner join.\n",
    "\n",
    "def join_homes_and_user(dataframe, home_data):\n",
    "    first_join = dataframe.merge(home_data, left_on = \"friend\", right_on = \"user\").rename(columns = {\"latitude\" : \"friend latitude\", \"longitude\" : \"friend longitude\"})\n",
    "    second_join = first_join.merge(home_data, left_on = \"pal\", right_on = \"user\").rename(columns = {\"latitude\" : \"pal latitude\", \"longitude\" : \"pal longitude\"})\n",
    "    return(second_join)"
   ]
  },
  {
   "cell_type": "markdown",
   "metadata": {},
   "source": [
    "#### Substep 2 : loading the data and extracting results"
   ]
  },
  {
   "cell_type": "code",
   "execution_count": 18,
   "metadata": {},
   "outputs": [
    {
     "data": {
      "text/html": [
       "<div>\n",
       "<style scoped>\n",
       "    .dataframe tbody tr th:only-of-type {\n",
       "        vertical-align: middle;\n",
       "    }\n",
       "\n",
       "    .dataframe tbody tr th {\n",
       "        vertical-align: top;\n",
       "    }\n",
       "\n",
       "    .dataframe thead th {\n",
       "        text-align: right;\n",
       "    }\n",
       "</style>\n",
       "<table border=\"1\" class=\"dataframe\">\n",
       "  <thead>\n",
       "    <tr style=\"text-align: right;\">\n",
       "      <th></th>\n",
       "      <th>locid</th>\n",
       "      <th>user</th>\n",
       "      <th>time</th>\n",
       "      <th>year</th>\n",
       "      <th>latitude</th>\n",
       "      <th>longitude</th>\n",
       "      <th>building</th>\n",
       "      <th>countries</th>\n",
       "      <th>my_square</th>\n",
       "    </tr>\n",
       "  </thead>\n",
       "  <tbody>\n",
       "    <tr>\n",
       "      <th>1</th>\n",
       "      <td>3fd66200f964a52000e71ee3</td>\n",
       "      <td>319827</td>\n",
       "      <td>2013-01-13 00:49:25+00:00</td>\n",
       "      <td>2013</td>\n",
       "      <td>40.733596</td>\n",
       "      <td>-74.003139</td>\n",
       "      <td>Jazz Club</td>\n",
       "      <td>US</td>\n",
       "      <td>(180, -250)</td>\n",
       "    </tr>\n",
       "    <tr>\n",
       "      <th>2</th>\n",
       "      <td>3fd66200f964a52000e71ee3</td>\n",
       "      <td>496140</td>\n",
       "      <td>2013-01-13 01:12:49+00:00</td>\n",
       "      <td>2013</td>\n",
       "      <td>40.733596</td>\n",
       "      <td>-74.003139</td>\n",
       "      <td>Jazz Club</td>\n",
       "      <td>US</td>\n",
       "      <td>(180, -250)</td>\n",
       "    </tr>\n",
       "    <tr>\n",
       "      <th>3</th>\n",
       "      <td>3fd66200f964a52000e71ee3</td>\n",
       "      <td>288077</td>\n",
       "      <td>2013-02-16 02:29:11+00:00</td>\n",
       "      <td>2013</td>\n",
       "      <td>40.733596</td>\n",
       "      <td>-74.003139</td>\n",
       "      <td>Jazz Club</td>\n",
       "      <td>US</td>\n",
       "      <td>(180, -250)</td>\n",
       "    </tr>\n",
       "    <tr>\n",
       "      <th>4</th>\n",
       "      <td>3fd66200f964a52000e71ee3</td>\n",
       "      <td>191931</td>\n",
       "      <td>2013-02-17 03:50:53+00:00</td>\n",
       "      <td>2013</td>\n",
       "      <td>40.733596</td>\n",
       "      <td>-74.003139</td>\n",
       "      <td>Jazz Club</td>\n",
       "      <td>US</td>\n",
       "      <td>(180, -250)</td>\n",
       "    </tr>\n",
       "    <tr>\n",
       "      <th>5</th>\n",
       "      <td>3fd66200f964a52000e71ee3</td>\n",
       "      <td>1402791</td>\n",
       "      <td>2013-02-19 03:48:11+00:00</td>\n",
       "      <td>2013</td>\n",
       "      <td>40.733596</td>\n",
       "      <td>-74.003139</td>\n",
       "      <td>Jazz Club</td>\n",
       "      <td>US</td>\n",
       "      <td>(180, -250)</td>\n",
       "    </tr>\n",
       "    <tr>\n",
       "      <th>6</th>\n",
       "      <td>3fd66200f964a52000e71ee3</td>\n",
       "      <td>80590</td>\n",
       "      <td>2013-03-15 01:25:06+00:00</td>\n",
       "      <td>2013</td>\n",
       "      <td>40.733596</td>\n",
       "      <td>-74.003139</td>\n",
       "      <td>Jazz Club</td>\n",
       "      <td>US</td>\n",
       "      <td>(180, -250)</td>\n",
       "    </tr>\n",
       "    <tr>\n",
       "      <th>7</th>\n",
       "      <td>3fd66200f964a52000e71ee3</td>\n",
       "      <td>1967638</td>\n",
       "      <td>2013-03-17 00:29:22+00:00</td>\n",
       "      <td>2013</td>\n",
       "      <td>40.733596</td>\n",
       "      <td>-74.003139</td>\n",
       "      <td>Jazz Club</td>\n",
       "      <td>US</td>\n",
       "      <td>(180, -250)</td>\n",
       "    </tr>\n",
       "    <tr>\n",
       "      <th>8</th>\n",
       "      <td>3fd66200f964a52000e71ee3</td>\n",
       "      <td>952766</td>\n",
       "      <td>2013-03-17 05:18:40+00:00</td>\n",
       "      <td>2013</td>\n",
       "      <td>40.733596</td>\n",
       "      <td>-74.003139</td>\n",
       "      <td>Jazz Club</td>\n",
       "      <td>US</td>\n",
       "      <td>(180, -250)</td>\n",
       "    </tr>\n",
       "    <tr>\n",
       "      <th>9</th>\n",
       "      <td>3fd66200f964a52000e71ee3</td>\n",
       "      <td>651362</td>\n",
       "      <td>2013-05-08 04:02:48+00:00</td>\n",
       "      <td>2013</td>\n",
       "      <td>40.733596</td>\n",
       "      <td>-74.003139</td>\n",
       "      <td>Jazz Club</td>\n",
       "      <td>US</td>\n",
       "      <td>(180, -250)</td>\n",
       "    </tr>\n",
       "    <tr>\n",
       "      <th>10</th>\n",
       "      <td>3fd66200f964a52000e71ee3</td>\n",
       "      <td>100462</td>\n",
       "      <td>2013-05-12 02:31:32+00:00</td>\n",
       "      <td>2013</td>\n",
       "      <td>40.733596</td>\n",
       "      <td>-74.003139</td>\n",
       "      <td>Jazz Club</td>\n",
       "      <td>US</td>\n",
       "      <td>(180, -250)</td>\n",
       "    </tr>\n",
       "  </tbody>\n",
       "</table>\n",
       "</div>"
      ],
      "text/plain": [
       "                       locid     user                       time  year  \\\n",
       "1   3fd66200f964a52000e71ee3   319827  2013-01-13 00:49:25+00:00  2013   \n",
       "2   3fd66200f964a52000e71ee3   496140  2013-01-13 01:12:49+00:00  2013   \n",
       "3   3fd66200f964a52000e71ee3   288077  2013-02-16 02:29:11+00:00  2013   \n",
       "4   3fd66200f964a52000e71ee3   191931  2013-02-17 03:50:53+00:00  2013   \n",
       "5   3fd66200f964a52000e71ee3  1402791  2013-02-19 03:48:11+00:00  2013   \n",
       "6   3fd66200f964a52000e71ee3    80590  2013-03-15 01:25:06+00:00  2013   \n",
       "7   3fd66200f964a52000e71ee3  1967638  2013-03-17 00:29:22+00:00  2013   \n",
       "8   3fd66200f964a52000e71ee3   952766  2013-03-17 05:18:40+00:00  2013   \n",
       "9   3fd66200f964a52000e71ee3   651362  2013-05-08 04:02:48+00:00  2013   \n",
       "10  3fd66200f964a52000e71ee3   100462  2013-05-12 02:31:32+00:00  2013   \n",
       "\n",
       "     latitude  longitude   building countries    my_square  \n",
       "1   40.733596 -74.003139  Jazz Club        US  (180, -250)  \n",
       "2   40.733596 -74.003139  Jazz Club        US  (180, -250)  \n",
       "3   40.733596 -74.003139  Jazz Club        US  (180, -250)  \n",
       "4   40.733596 -74.003139  Jazz Club        US  (180, -250)  \n",
       "5   40.733596 -74.003139  Jazz Club        US  (180, -250)  \n",
       "6   40.733596 -74.003139  Jazz Club        US  (180, -250)  \n",
       "7   40.733596 -74.003139  Jazz Club        US  (180, -250)  \n",
       "8   40.733596 -74.003139  Jazz Club        US  (180, -250)  \n",
       "9   40.733596 -74.003139  Jazz Club        US  (180, -250)  \n",
       "10  40.733596 -74.003139  Jazz Club        US  (180, -250)  "
      ]
     },
     "execution_count": 18,
     "metadata": {},
     "output_type": "execute_result"
    }
   ],
   "source": [
    "# We start by loading the data. We also change the type of the values that we are going to use.\n",
    "\n",
    "#US_checkins = pd.read_csv(data_path+'1_US_2013_merge_data.csv', names=['locid','user', 'time','year',  'latitude', 'longitude', 'building', 'countries'],header=None, error_bad_lines=False)\n",
    "# uncomment the next line only if you are Clement\n",
    "US_checkins = pd.read_csv(data_file.open('data/1_US_2013_merge_data.csv'), names=['locid','user', 'time','year',  'latitude', 'longitude', 'building', 'countries'],header=None, error_bad_lines=False)\n",
    "US_checkins.drop(0,0,inplace=True)\n",
    "US_checkins.user = US_checkins.user.astype(int)\n",
    "US_checkins.latitude = US_checkins.latitude.astype(float)\n",
    "US_checkins.longitude = US_checkins.longitude.astype(float)\n",
    "\n",
    "# Now that our data have the shape that we want, we add the column \"my_square\" indicating the 25*25 km square in \n",
    "# which our checkin is\n",
    "US_checkins = square_label(US_checkins)\n",
    "US_checkins.head(10)"
   ]
  },
  {
   "cell_type": "code",
   "execution_count": 19,
   "metadata": {},
   "outputs": [
    {
     "data": {
      "text/html": [
       "<div>\n",
       "<style scoped>\n",
       "    .dataframe tbody tr th:only-of-type {\n",
       "        vertical-align: middle;\n",
       "    }\n",
       "\n",
       "    .dataframe tbody tr th {\n",
       "        vertical-align: top;\n",
       "    }\n",
       "\n",
       "    .dataframe thead th {\n",
       "        text-align: right;\n",
       "    }\n",
       "</style>\n",
       "<table border=\"1\" class=\"dataframe\">\n",
       "  <thead>\n",
       "    <tr style=\"text-align: right;\">\n",
       "      <th></th>\n",
       "      <th>friend</th>\n",
       "      <th>pal</th>\n",
       "    </tr>\n",
       "  </thead>\n",
       "  <tbody>\n",
       "    <tr>\n",
       "      <th>0</th>\n",
       "      <td>15</td>\n",
       "      <td>595326</td>\n",
       "    </tr>\n",
       "    <tr>\n",
       "      <th>1</th>\n",
       "      <td>19</td>\n",
       "      <td>54</td>\n",
       "    </tr>\n",
       "    <tr>\n",
       "      <th>2</th>\n",
       "      <td>19</td>\n",
       "      <td>1061</td>\n",
       "    </tr>\n",
       "    <tr>\n",
       "      <th>3</th>\n",
       "      <td>19</td>\n",
       "      <td>1668</td>\n",
       "    </tr>\n",
       "    <tr>\n",
       "      <th>4</th>\n",
       "      <td>19</td>\n",
       "      <td>21596</td>\n",
       "    </tr>\n",
       "    <tr>\n",
       "      <th>...</th>\n",
       "      <td>...</td>\n",
       "      <td>...</td>\n",
       "    </tr>\n",
       "    <tr>\n",
       "      <th>607328</th>\n",
       "      <td>2166684</td>\n",
       "      <td>2181580</td>\n",
       "    </tr>\n",
       "    <tr>\n",
       "      <th>607329</th>\n",
       "      <td>2167183</td>\n",
       "      <td>2175735</td>\n",
       "    </tr>\n",
       "    <tr>\n",
       "      <th>607330</th>\n",
       "      <td>2170360</td>\n",
       "      <td>2174239</td>\n",
       "    </tr>\n",
       "    <tr>\n",
       "      <th>607331</th>\n",
       "      <td>2173716</td>\n",
       "      <td>2186144</td>\n",
       "    </tr>\n",
       "    <tr>\n",
       "      <th>607332</th>\n",
       "      <td>2175735</td>\n",
       "      <td>2182784</td>\n",
       "    </tr>\n",
       "  </tbody>\n",
       "</table>\n",
       "<p>607333 rows × 2 columns</p>\n",
       "</div>"
      ],
      "text/plain": [
       "         friend      pal\n",
       "0            15   595326\n",
       "1            19       54\n",
       "2            19     1061\n",
       "3            19     1668\n",
       "4            19    21596\n",
       "...         ...      ...\n",
       "607328  2166684  2181580\n",
       "607329  2167183  2175735\n",
       "607330  2170360  2174239\n",
       "607331  2173716  2186144\n",
       "607332  2175735  2182784\n",
       "\n",
       "[607333 rows x 2 columns]"
      ]
     },
     "execution_count": 19,
     "metadata": {},
     "output_type": "execute_result"
    }
   ],
   "source": [
    "#df_friend = pd.read_csv('dataset_WWW_friendship_new.txt', header = None, sep = \"\\t\", names = [\"friend\", \"pal\"])\n",
    "df_friend = pd.read_csv(raw_dataset_file.open('dataset_WWW2019/dataset_WWW_friendship_new.txt'), header = None, sep = \"\\t\", names = [\"friend\", \"pal\"])\n",
    "df_friend"
   ]
  },
  {
   "cell_type": "code",
   "execution_count": 20,
   "metadata": {},
   "outputs": [
    {
     "data": {
      "text/html": [
       "<div>\n",
       "<style scoped>\n",
       "    .dataframe tbody tr th:only-of-type {\n",
       "        vertical-align: middle;\n",
       "    }\n",
       "\n",
       "    .dataframe tbody tr th {\n",
       "        vertical-align: top;\n",
       "    }\n",
       "\n",
       "    .dataframe thead th {\n",
       "        text-align: right;\n",
       "    }\n",
       "</style>\n",
       "<table border=\"1\" class=\"dataframe\">\n",
       "  <thead>\n",
       "    <tr style=\"text-align: right;\">\n",
       "      <th></th>\n",
       "      <th>latitude</th>\n",
       "      <th>longitude</th>\n",
       "    </tr>\n",
       "    <tr>\n",
       "      <th>user</th>\n",
       "      <th></th>\n",
       "      <th></th>\n",
       "    </tr>\n",
       "  </thead>\n",
       "  <tbody>\n",
       "    <tr>\n",
       "      <th>19</th>\n",
       "      <td>40.723447</td>\n",
       "      <td>-73.988018</td>\n",
       "    </tr>\n",
       "    <tr>\n",
       "      <th>39</th>\n",
       "      <td>40.797902</td>\n",
       "      <td>-73.604889</td>\n",
       "    </tr>\n",
       "    <tr>\n",
       "      <th>54</th>\n",
       "      <td>37.766274</td>\n",
       "      <td>-122.430362</td>\n",
       "    </tr>\n",
       "    <tr>\n",
       "      <th>58</th>\n",
       "      <td>40.691485</td>\n",
       "      <td>-73.985955</td>\n",
       "    </tr>\n",
       "    <tr>\n",
       "      <th>78</th>\n",
       "      <td>40.758735</td>\n",
       "      <td>-73.901430</td>\n",
       "    </tr>\n",
       "    <tr>\n",
       "      <th>...</th>\n",
       "      <td>...</td>\n",
       "      <td>...</td>\n",
       "    </tr>\n",
       "    <tr>\n",
       "      <th>2173091</th>\n",
       "      <td>38.918054</td>\n",
       "      <td>-77.222156</td>\n",
       "    </tr>\n",
       "    <tr>\n",
       "      <th>2174127</th>\n",
       "      <td>38.971024</td>\n",
       "      <td>-94.705508</td>\n",
       "    </tr>\n",
       "    <tr>\n",
       "      <th>2174989</th>\n",
       "      <td>26.137223</td>\n",
       "      <td>-80.108706</td>\n",
       "    </tr>\n",
       "    <tr>\n",
       "      <th>2180970</th>\n",
       "      <td>40.748511</td>\n",
       "      <td>-73.987230</td>\n",
       "    </tr>\n",
       "    <tr>\n",
       "      <th>2181131</th>\n",
       "      <td>40.261119</td>\n",
       "      <td>-75.306141</td>\n",
       "    </tr>\n",
       "  </tbody>\n",
       "</table>\n",
       "<p>20495 rows × 2 columns</p>\n",
       "</div>"
      ],
      "text/plain": [
       "          latitude   longitude\n",
       "user                          \n",
       "19       40.723447  -73.988018\n",
       "39       40.797902  -73.604889\n",
       "54       37.766274 -122.430362\n",
       "58       40.691485  -73.985955\n",
       "78       40.758735  -73.901430\n",
       "...            ...         ...\n",
       "2173091  38.918054  -77.222156\n",
       "2174127  38.971024  -94.705508\n",
       "2174989  26.137223  -80.108706\n",
       "2180970  40.748511  -73.987230\n",
       "2181131  40.261119  -75.306141\n",
       "\n",
       "[20495 rows x 2 columns]"
      ]
     },
     "execution_count": 20,
     "metadata": {},
     "output_type": "execute_result"
    }
   ],
   "source": [
    "# We now use the helper functions to extract the position of each user.\n",
    "\n",
    "home_data_avg = find_homes_avg(US_checkins)\n",
    "home_positions_avg = compute_house_position(US_checkins, home_data_avg)\n",
    "home_positions_avg"
   ]
  },
  {
   "cell_type": "code",
   "execution_count": 21,
   "metadata": {},
   "outputs": [
    {
     "data": {
      "text/html": [
       "<div>\n",
       "<style scoped>\n",
       "    .dataframe tbody tr th:only-of-type {\n",
       "        vertical-align: middle;\n",
       "    }\n",
       "\n",
       "    .dataframe tbody tr th {\n",
       "        vertical-align: top;\n",
       "    }\n",
       "\n",
       "    .dataframe thead th {\n",
       "        text-align: right;\n",
       "    }\n",
       "</style>\n",
       "<table border=\"1\" class=\"dataframe\">\n",
       "  <thead>\n",
       "    <tr style=\"text-align: right;\">\n",
       "      <th></th>\n",
       "      <th>friend</th>\n",
       "      <th>pal</th>\n",
       "      <th>user_x</th>\n",
       "      <th>friend latitude</th>\n",
       "      <th>friend longitude</th>\n",
       "      <th>user_y</th>\n",
       "      <th>pal latitude</th>\n",
       "      <th>pal longitude</th>\n",
       "    </tr>\n",
       "  </thead>\n",
       "  <tbody>\n",
       "    <tr>\n",
       "      <th>0</th>\n",
       "      <td>19</td>\n",
       "      <td>54</td>\n",
       "      <td>19</td>\n",
       "      <td>40.723447</td>\n",
       "      <td>-73.988018</td>\n",
       "      <td>54</td>\n",
       "      <td>37.766274</td>\n",
       "      <td>-122.430362</td>\n",
       "    </tr>\n",
       "    <tr>\n",
       "      <th>1</th>\n",
       "      <td>19</td>\n",
       "      <td>1061</td>\n",
       "      <td>19</td>\n",
       "      <td>40.723447</td>\n",
       "      <td>-73.988018</td>\n",
       "      <td>1061</td>\n",
       "      <td>37.749693</td>\n",
       "      <td>-122.444928</td>\n",
       "    </tr>\n",
       "    <tr>\n",
       "      <th>2</th>\n",
       "      <td>866</td>\n",
       "      <td>1061</td>\n",
       "      <td>866</td>\n",
       "      <td>21.305919</td>\n",
       "      <td>-157.857979</td>\n",
       "      <td>1061</td>\n",
       "      <td>37.749693</td>\n",
       "      <td>-122.444928</td>\n",
       "    </tr>\n",
       "    <tr>\n",
       "      <th>3</th>\n",
       "      <td>19</td>\n",
       "      <td>1668</td>\n",
       "      <td>19</td>\n",
       "      <td>40.723447</td>\n",
       "      <td>-73.988018</td>\n",
       "      <td>1668</td>\n",
       "      <td>40.725943</td>\n",
       "      <td>-73.993047</td>\n",
       "    </tr>\n",
       "    <tr>\n",
       "      <th>4</th>\n",
       "      <td>54</td>\n",
       "      <td>1668</td>\n",
       "      <td>54</td>\n",
       "      <td>37.766274</td>\n",
       "      <td>-122.430362</td>\n",
       "      <td>1668</td>\n",
       "      <td>40.725943</td>\n",
       "      <td>-73.993047</td>\n",
       "    </tr>\n",
       "    <tr>\n",
       "      <th>...</th>\n",
       "      <td>...</td>\n",
       "      <td>...</td>\n",
       "      <td>...</td>\n",
       "      <td>...</td>\n",
       "      <td>...</td>\n",
       "      <td>...</td>\n",
       "      <td>...</td>\n",
       "      <td>...</td>\n",
       "    </tr>\n",
       "    <tr>\n",
       "      <th>58230</th>\n",
       "      <td>2073933</td>\n",
       "      <td>2149533</td>\n",
       "      <td>2073933</td>\n",
       "      <td>33.961452</td>\n",
       "      <td>-118.427382</td>\n",
       "      <td>2149533</td>\n",
       "      <td>33.996001</td>\n",
       "      <td>-118.431961</td>\n",
       "    </tr>\n",
       "    <tr>\n",
       "      <th>58231</th>\n",
       "      <td>2076284</td>\n",
       "      <td>2095717</td>\n",
       "      <td>2076284</td>\n",
       "      <td>38.865423</td>\n",
       "      <td>-104.770159</td>\n",
       "      <td>2095717</td>\n",
       "      <td>38.892645</td>\n",
       "      <td>-104.775632</td>\n",
       "    </tr>\n",
       "    <tr>\n",
       "      <th>58232</th>\n",
       "      <td>2076284</td>\n",
       "      <td>2098263</td>\n",
       "      <td>2076284</td>\n",
       "      <td>38.865423</td>\n",
       "      <td>-104.770159</td>\n",
       "      <td>2098263</td>\n",
       "      <td>40.552342</td>\n",
       "      <td>-105.061401</td>\n",
       "    </tr>\n",
       "    <tr>\n",
       "      <th>58233</th>\n",
       "      <td>2095717</td>\n",
       "      <td>2098263</td>\n",
       "      <td>2095717</td>\n",
       "      <td>38.892645</td>\n",
       "      <td>-104.775632</td>\n",
       "      <td>2098263</td>\n",
       "      <td>40.552342</td>\n",
       "      <td>-105.061401</td>\n",
       "    </tr>\n",
       "    <tr>\n",
       "      <th>58234</th>\n",
       "      <td>2083592</td>\n",
       "      <td>2083936</td>\n",
       "      <td>2083592</td>\n",
       "      <td>28.493867</td>\n",
       "      <td>-81.327419</td>\n",
       "      <td>2083936</td>\n",
       "      <td>36.113994</td>\n",
       "      <td>-115.166770</td>\n",
       "    </tr>\n",
       "  </tbody>\n",
       "</table>\n",
       "<p>58235 rows × 8 columns</p>\n",
       "</div>"
      ],
      "text/plain": [
       "        friend      pal   user_x  friend latitude  friend longitude   user_y  \\\n",
       "0           19       54       19        40.723447        -73.988018       54   \n",
       "1           19     1061       19        40.723447        -73.988018     1061   \n",
       "2          866     1061      866        21.305919       -157.857979     1061   \n",
       "3           19     1668       19        40.723447        -73.988018     1668   \n",
       "4           54     1668       54        37.766274       -122.430362     1668   \n",
       "...        ...      ...      ...              ...               ...      ...   \n",
       "58230  2073933  2149533  2073933        33.961452       -118.427382  2149533   \n",
       "58231  2076284  2095717  2076284        38.865423       -104.770159  2095717   \n",
       "58232  2076284  2098263  2076284        38.865423       -104.770159  2098263   \n",
       "58233  2095717  2098263  2095717        38.892645       -104.775632  2098263   \n",
       "58234  2083592  2083936  2083592        28.493867        -81.327419  2083936   \n",
       "\n",
       "       pal latitude  pal longitude  \n",
       "0         37.766274    -122.430362  \n",
       "1         37.749693    -122.444928  \n",
       "2         37.749693    -122.444928  \n",
       "3         40.725943     -73.993047  \n",
       "4         40.725943     -73.993047  \n",
       "...             ...            ...  \n",
       "58230     33.996001    -118.431961  \n",
       "58231     38.892645    -104.775632  \n",
       "58232     40.552342    -105.061401  \n",
       "58233     40.552342    -105.061401  \n",
       "58234     36.113994    -115.166770  \n",
       "\n",
       "[58235 rows x 8 columns]"
      ]
     },
     "execution_count": 21,
     "metadata": {},
     "output_type": "execute_result"
    }
   ],
   "source": [
    "# We now merge our different datasets in a big dataset from which we can get distances between friends' houses.\n",
    "home_positions_avg = home_positions_avg.reset_index()\n",
    "df_friend.merge(home_positions_avg, left_on = \"friend\", right_on = \"user\").merge(home_positions_avg, left_on = \"pal\", right_on = \"user\")\n",
    "friend_home_df_avg = join_homes_and_user(df_friend, home_positions_avg)\n",
    "friend_home_df_avg"
   ]
  },
  {
   "cell_type": "code",
   "execution_count": 22,
   "metadata": {},
   "outputs": [],
   "source": [
    "# We now get the dataframe of distances that we can plot.\n",
    "distance_db_avg = find_distance(friend_home_df_avg[\"friend latitude\"], friend_home_df_avg[\"pal latitude\"], friend_home_df_avg[\"friend longitude\"], friend_home_df_avg[\"pal longitude\"])"
   ]
  },
  {
   "cell_type": "code",
   "execution_count": 23,
   "metadata": {},
   "outputs": [
    {
     "data": {
      "image/png": "[encoded data removed]",
      "text/plain": [
       "<Figure size 1152x720 with 1 Axes>"
      ]
     },
     "metadata": {
      "needs_background": "light"
     },
     "output_type": "display_data"
    }
   ],
   "source": [
    "# We use the seaborn kdeplot to have a distribution. We notice that our distribution plot is very similar to the\n",
    "# one we obtained with the datasets from Gowalla and Brightkite. This result intuitively makes sense, since we\n",
    "# work on the same country. The only different parameter is the year of study (and it shouldn't impact much our\n",
    "# results, people don't move a lot overall).\n",
    "\n",
    "fig, ax = plt.subplots(figsize = (16, 10))\n",
    "sns.kdeplot(distance_db_avg[\"distance\"],ax = ax, common_norm = True, fill = False, linestyle = \"--\", legend = True, label = 'home locations taking one at random')\n",
    "plt.gca().set_xscale(\"log\")\n",
    "plt.gca().set_yscale(\"log\")\n",
    "plt.title(\"Distances between friend's houses (US)\")\n",
    "plt.ylabel(\"Distribution\")\n",
    "plt.xlabel(\"Distance (km)\")\n",
    "ax.legend()\n",
    "plt.show()"
   ]
  },
  {
   "cell_type": "markdown",
   "metadata": {},
   "source": [
    "#### Substep 3 : We now look at results using datasets from different countries"
   ]
  },
  {
   "cell_type": "code",
   "execution_count": 24,
   "metadata": {},
   "outputs": [],
   "source": [
    "# We create a routine to open a dataframe and to compute all the distances between friends' houses. In order to do\n",
    "# so, we use the helper functions coded above.\n",
    "\n",
    "def distance_db_avg(df_friend, dataframe):\n",
    "    # loading the data\n",
    "    #checkins = pd.read_csv(data_path+dataframe, names=['locid','user', 'time','year',  'latitude', 'longitude', 'building', 'countries'],header=None, error_bad_lines=False)\n",
    "    # Uncomment the following line only if you are Clement\n",
    "    checkins = pd.read_csv(data_file.open('data/'+dataframe), names=['locid','user', 'time','year',  'latitude', 'longitude', 'building', 'countries'],header=None, error_bad_lines=False)\n",
    "    \n",
    "    # convert string to number\n",
    "    checkins.drop(0,0,inplace=True)\n",
    "    checkins.user = checkins.user.astype(int)\n",
    "    checkins.latitude = checkins.latitude.astype(float)\n",
    "    checkins.longitude = checkins.longitude.astype(float)\n",
    "    \n",
    "    # Extracting useful informations (House location)\n",
    "    checkins = square_label(checkins)\n",
    "    home_data_avg = find_homes_avg(checkins)\n",
    "    home_positions_avg = compute_house_position(checkins, home_data_avg)\n",
    "    home_positions_avg = home_positions_avg.reset_index()\n",
    "    \n",
    "    # merge on the friend dataframe\n",
    "    df_friend.merge(home_positions_avg, left_on = \"friend\", right_on = \"user\").merge(home_positions_avg, left_on = \"pal\", right_on = \"user\")\n",
    "    friend_home_df_avg = join_homes_and_user(df_friend, home_positions_avg)\n",
    "    distance_db_avg = find_distance(friend_home_df_avg[\"friend latitude\"], friend_home_df_avg[\"pal latitude\"], friend_home_df_avg[\"friend longitude\"], friend_home_df_avg[\"pal longitude\"])\n",
    "    return distance_db_avg"
   ]
  },
  {
   "cell_type": "code",
   "execution_count": 25,
   "metadata": {},
   "outputs": [],
   "source": [
    "#df_friend = pd.read_csv(data_path+'dataset_WWW_friendship_new.txt', header = None, sep = \"\\t\", names = [\"friend\", \"pal\"])\n",
    "df_friend = pd.read_csv(raw_dataset_file.open('dataset_WWW2019/dataset_WWW_friendship_new.txt'), header = None, sep = \"\\t\", names = [\"friend\", \"pal\"])\n",
    "US_distance_db_avg  = distance_db_avg(df_friend, '1_US_2013_merge_data.csv')\n",
    "PH_distance_db_avg  = distance_db_avg(df_friend, '10_PH_2013_merge_data.csv')\n",
    "ID_distance_db_avg  = distance_db_avg(df_friend, '2_ID_2013_merge_data.csv')\n",
    "#BR_distance_db_avg  = distance_db_avg(df_friend, '3_BR_2013_merge_data.csv')\n",
    "TR_distance_db_avg  = distance_db_avg(df_friend, '4_TR_2013_merge_data.csv')\n",
    "RU_distance_db_avg  = distance_db_avg(df_friend, '5_RU_2013_merge_data.csv')\n",
    "JP_distance_db_avg  = distance_db_avg(df_friend, '6_JP_2013_merge_data.csv')\n",
    "MY_distance_db_avg  = distance_db_avg(df_friend, '7_MY_2013_merge_data.csv')\n",
    "MX_distance_db_avg  = distance_db_avg(df_friend, '8_MX_2013_merge_data.csv')\n",
    "TH_distance_db_avg  = distance_db_avg(df_friend, '9_TH_2013_merge_data.csv')"
   ]
  },
  {
   "cell_type": "code",
   "execution_count": 26,
   "metadata": {},
   "outputs": [
    {
     "data": {
      "image/png": "[encoded data removed]",
      "text/plain": [
       "<Figure size 1152x720 with 1 Axes>"
      ]
     },
     "metadata": {
      "needs_background": "light"
     },
     "output_type": "display_data"
    }
   ],
   "source": [
    "# We compare the distance between houses with our multiple dataframes of houses locations.\n",
    "\n",
    "fig, ax = plt.subplots(figsize = (16, 10))\n",
    "sns.kdeplot(US_distance_db_avg[\"distance\"],ax = ax, common_norm = True, fill = False, linestyle = \"--\", legend = True, label = 'US distribution of distance between friend homes')\n",
    "sns.kdeplot(PH_distance_db_avg[\"distance\"],ax = ax, common_norm = True, fill = False, linestyle = \"--\", legend = True, label = 'Philippines distribution of distance between friend homes')\n",
    "sns.kdeplot(ID_distance_db_avg[\"distance\"],ax = ax, common_norm = True, fill = False, linestyle = \"--\", legend = True, label = 'India distribution of distance between friend homes')\n",
    "#sns.kdeplot(BR_distance_db_avg[\"distance\"],ax = ax, common_norm = True, fill = False, linestyle = \"--\", legend = True, label = 'Brazil distributioon of distance between friend homes')\n",
    "sns.kdeplot(TR_distance_db_avg[\"distance\"],ax = ax, common_norm = True, fill = False, linestyle = \"--\", legend = True, label = 'Turkey distribution of distance between friend homes')\n",
    "sns.kdeplot(RU_distance_db_avg[\"distance\"],ax = ax, common_norm = True, fill = False, linestyle = \"--\", legend = True, label = 'Russia distribution of distance between friend homes')\n",
    "sns.kdeplot(JP_distance_db_avg[\"distance\"],ax = ax, common_norm = True, fill = False, linestyle = \"--\", legend = True, label = 'Japan distribution of distance between friend homes')\n",
    "sns.kdeplot(MY_distance_db_avg[\"distance\"],ax = ax, common_norm = True, fill = False, linestyle = \"--\", legend = True, label = 'Malaysia distribution of distance between friend homes')\n",
    "sns.kdeplot(MX_distance_db_avg[\"distance\"],ax = ax, common_norm = True, fill = False, linestyle = \"--\", legend = True, label = 'Mexico distribution of distance between friend homes')\n",
    "sns.kdeplot(TH_distance_db_avg[\"distance\"],ax = ax, common_norm = True, fill = False, linestyle = \"--\", legend = True, label = 'Thailand distribution of distance between friend homes')\n",
    "plt.gca().set_xscale(\"log\")\n",
    "plt.gca().set_yscale(\"log\")\n",
    "plt.title(\"Distances between friend's houses (Frousquare)\")\n",
    "plt.ylabel(\"Distribution\")\n",
    "plt.xlabel(\"Distance (km)\")\n",
    "ax.legend()\n",
    "plt.show()"
   ]
  },
  {
   "cell_type": "markdown",
   "metadata": {},
   "source": [
    "### Conclusion\n",
    "When comparing the distribution of distances between friends' houses, we notice that the countries with the smallest surfaces are the ones where the probabilities of having friends living far away is the lowest. Indeed, for example, for Turkey, there are no friends living at a distance bigger than 10^3. When we look at the distance between Turkish cities (https://distancecalculator.globefeed.com/Turkey_Distance_Calculator.asp), we notice that most of them are smaller than 10^3. We observe similar results for other countries."
   ]
  },
  {
   "cell_type": "markdown",
   "metadata": {},
   "source": [
    "In order to check what we just saw, we look at the 80% quantile for the distance between the houses of two friends living in the same country. If users have friends that live far apart, we guess that can influence our distribution of distribution. Keeping ties with people living far apart can also be an indicator of sociability.<br>\n",
    "In the cell below, we find the quantiles. What we find confirms the result on the distribution. It is also the occasion to state some advise : If you live in Thailand and want to make friends with someone, move close to him !"
   ]
  },
  {
   "cell_type": "code",
   "execution_count": 27,
   "metadata": {},
   "outputs": [
    {
     "name": "stdout",
     "output_type": "stream",
     "text": [
      "Most friends in the US live within distance of 2425.278974631996 km\n",
      "Most friends in Philippines live within distance of 109.67993262884694 km\n",
      "Most friends in India live within distance of 117.49345261424226 km\n",
      "Most friends in Turkey live within distance of 312.7170752245104 km\n",
      "Most friends in Russia live within distance of 639.7191102549908 km\n",
      "Most friends in Japan live within distance of 399.69973966713496 km\n",
      "Most friends in Malaysia live within distance 270.3267611776484 km\n",
      "Most friends in Thailand live within distance 63.96111454484407 km\n",
      "Most friends in Mexico live within distance 482.3843000344747 km\n"
     ]
    }
   ],
   "source": [
    "print(\"Most friends in the US live within distance of {} km\".format(US_distance_db_avg[\"distance\"].quantile(q = 0.8)))\n",
    "print(\"Most friends in Philippines live within distance of {} km\".format(PH_distance_db_avg[\"distance\"].quantile(q = 0.8)))\n",
    "print(\"Most friends in India live within distance of {} km\".format(ID_distance_db_avg[\"distance\"].quantile(q = 0.8)))\n",
    "#print(\"Most friends in US live within distance of in Brazil {} km\".format(BR_distance_db_avg[\"distance\"].quantile(q = 0.9)))\n",
    "print(\"Most friends in Turkey live within distance of {} km\".format(TR_distance_db_avg[\"distance\"].quantile(q = 0.8)))\n",
    "print(\"Most friends in Russia live within distance of {} km\".format(RU_distance_db_avg[\"distance\"].quantile(q = 0.8)))\n",
    "print(\"Most friends in Japan live within distance of {} km\".format(JP_distance_db_avg[\"distance\"].quantile(q = 0.8)))\n",
    "print(\"Most friends in Malaysia live within distance {} km\".format(MY_distance_db_avg[\"distance\"].quantile(q = 0.8)))\n",
    "print(\"Most friends in Thailand live within distance {} km\".format(TH_distance_db_avg[\"distance\"].quantile(q = 0.8)))\n",
    "print(\"Most friends in Mexico live within distance {} km\".format(MX_distance_db_avg[\"distance\"].quantile(q = 0.8)))"
   ]
  },
  {
   "cell_type": "markdown",
   "metadata": {},
   "source": [
    "### Step 4 : Natives and foreigners<a id='Step_4'></a>"
   ]
  },
  {
   "cell_type": "markdown",
   "metadata": {},
   "source": [
    "We want to measure how sociable natives are. In order to do so, we look at how many friends they have.\n",
    "\n",
    "#### Subpart 1 : Finding nationalities\n",
    "---\n",
    "\n",
    "We open a dataset (example : the check-ins that took place in the US in 2013). However, we don't know if all the people of this dataset are American or foreigner on vacation. Since we want to study the behaviour of the locals, we need a criterion to distinguish natives from foreigners.\n",
    "- Idea 1 : We choose that a person is considered a native if he checks in more than five times in the country.\n",
    "- Idea 2 : A person is considered a foreigner if he never checks in a home."
   ]
  },
  {
   "cell_type": "code",
   "execution_count": 2,
   "metadata": {},
   "outputs": [
    {
     "data": {
      "text/plain": [
       "person_id\n",
       "19         146\n",
       "54          40\n",
       "58          73\n",
       "120         56\n",
       "178         91\n",
       "          ... \n",
       "2169607      5\n",
       "2169991     27\n",
       "2174127     92\n",
       "2174989      6\n",
       "2181131    116\n",
       "Name: zone_id, Length: 16987, dtype: int64"
      ]
     },
     "execution_count": 2,
     "metadata": {},
     "output_type": "execute_result"
    }
   ],
   "source": [
    "data_file = ZipFile('../data.zip')\n",
    "df_US = pd.read_csv(data_file.open('data/1_US_2013_merge_data.csv'))\n",
    "US_participants = df_US.groupby(by = \"person_id\").agg(\"count\")\n",
    "US_natives =  US_participants[US_participants[\"zone_id\"] >= 5]\n",
    "US_foreign = US_participants[US_participants[\"zone_id\"] < 5]\n",
    "US_natives[\"zone_id\"]"
   ]
  },
  {
   "cell_type": "code",
   "execution_count": 3,
   "metadata": {},
   "outputs": [
    {
     "name": "stdout",
     "output_type": "stream",
     "text": [
      "Our initial dataset had 20495 users.\n",
      "Out of them, 16987 are considered natives.\n",
      "Out of all our users, 17% have low checkins.\n"
     ]
    }
   ],
   "source": [
    "df_US_foreign = df_US[df_US[\"person_id\"].isin(US_foreign.index.tolist())]\n",
    "df_US_natives = df_US[df_US[\"person_id\"].isin(US_natives.index.tolist())]\n",
    "print('Our initial dataset had {} users.'.format(US_participants.shape[0]))\n",
    "print('Out of them, {} are considered natives.'.format(US_natives.shape[0]))\n",
    "print('Out of all our users, {}% have low checkins.'.format(round((1-US_natives.shape[0]/US_participants.shape[0])*100)))"
   ]
  },
  {
   "cell_type": "markdown",
   "metadata": {},
   "source": [
    "Getting rid of users can seem a bit dangerous because we lose data. However, since we get rid of users with a low number of Checkins, there isn't too much loss. Furthermore, we can associate low checkin users to visitors and get an approximation of the number of visitors as showed in last cell."
   ]
  },
  {
   "cell_type": "markdown",
   "metadata": {},
   "source": [
    "In order to do a sanity check, we look at the most popular POIs for natives and we compare them to the most popular POIs for people classified as foreigners."
   ]
  },
  {
   "cell_type": "code",
   "execution_count": 4,
   "metadata": {},
   "outputs": [
    {
     "data": {
      "text/plain": [
       "<BarContainer object of 20 artists>"
      ]
     },
     "execution_count": 4,
     "metadata": {},
     "output_type": "execute_result"
    },
    {
     "data": {
      "image/png": "[encoded data removed]",
      "text/plain": [
       "<Figure size 1152x360 with 1 Axes>"
      ]
     },
     "metadata": {
      "needs_background": "light"
     },
     "output_type": "display_data"
    }
   ],
   "source": [
    "popular_places = df_US_natives.groupby(by = \"building\").agg(\"count\").sort_values(by = \"person_id\", ascending = False)\n",
    "\n",
    "fig, ax = plt.subplots(figsize=(16,5))\n",
    "\n",
    "plt.title('Number of Checkins for places visited together')\n",
    "plt.ylabel('Number of Checkins')\n",
    "plt.xlabel('Places visited together')\n",
    "plt.xticks(rotation=90)\n",
    "\n",
    "my_index = [str(element) for element in popular_places.head(20).index]\n",
    "my_values = [element[0] for element in popular_places.head(20).values]\n",
    "plt.bar(my_index, my_values)"
   ]
  },
  {
   "cell_type": "markdown",
   "metadata": {},
   "source": [
    "**Interpretation**: Unsurprinsingly, most people check-in at their home and on the workplace (places where they go the most). The fact that hole locations are the most popular chckin place justifies our approach for assigning house locations to users. We also notice that they check-in a lot in Coffee Shops (which we can interpret as \"they check-in during break time\"). For Airports, we can interpret it as traveling for work (or going from one coast to another) or leisure. When it comes to food, the two most popular restaurants to go to are American and Mexican restaurants (Fast-food being the third one). This may come from the fact that these three types of restaurants are the most represented in the country. <br>\n",
    "We notice that if we increase the threshold from \"We choose that a person is considered a native if he checks in more than five times in the country\" to \"We choose that a person is considered a native if he checks in more than ten times in the country\", our most popular places stay the same for natives and foreigners."
   ]
  },
  {
   "cell_type": "code",
   "execution_count": 5,
   "metadata": {},
   "outputs": [
    {
     "data": {
      "text/plain": [
       "<BarContainer object of 20 artists>"
      ]
     },
     "execution_count": 5,
     "metadata": {},
     "output_type": "execute_result"
    },
    {
     "data": {
      "image/png": "[encoded data removed]",
      "text/plain": [
       "<Figure size 1152x360 with 1 Axes>"
      ]
     },
     "metadata": {
      "needs_background": "light"
     },
     "output_type": "display_data"
    }
   ],
   "source": [
    "popular_places_foreign = df_US_foreign.groupby(by = \"building\").agg(\"count\").sort_values(by = \"person_id\", ascending = False)\n",
    "\n",
    "fig, ax = plt.subplots(figsize=(16,5))\n",
    "\n",
    "plt.title('Number of Checkins per POIs')\n",
    "plt.ylabel('Number of Checkins')\n",
    "plt.xlabel('POIs')\n",
    "plt.xticks(rotation=90)\n",
    "\n",
    "my_index = [str(element) for element in popular_places_foreign.head(20).index]\n",
    "my_values = [element[0] for element in popular_places_foreign.head(20).values]\n",
    "plt.bar(my_index, my_values)"
   ]
  },
  {
   "cell_type": "markdown",
   "metadata": {},
   "source": [
    "**Interpretation**: We look back at the people we classified as foreigners and want to see where they checked-in in order to verify our assumptions. We see that they checked mainly in Hotels, Airports, Malls, Restaurants and Coffee Shops which are destinations that any tourist would go to. However, since we have much less data then last part, we can suspect that these popular places may know high variance. <br>\n",
    "We however notice that a lot of users who are classified as foreigners check-in at a home. While this can be considered as them checking in a friend or them just going to a zone_id with many houses, we want to investigate. We try a second model, where we classify as foreigner people who never check-in in a Home."
   ]
  },
  {
   "cell_type": "code",
   "execution_count": 31,
   "metadata": {},
   "outputs": [
    {
     "name": "stdout",
     "output_type": "stream",
     "text": [
      "Our initial dataset had 20495 users.\n",
      "Out of them, 5364 are considered natives.\n"
     ]
    }
   ],
   "source": [
    "list_of_people_with_homes = df_US[df_US[\"building\"] == \"Home (private)\"].person_id.unique().tolist()\n",
    "df_US_natives_2 = df_US[df_US[\"person_id\"].isin(list_of_people_with_homes)]\n",
    "print('Our initial dataset had {} users.'.format(US_participants.shape[0]))\n",
    "print('Out of them, {} are considered natives.'.format(len(df_US_natives_2.person_id.unique().tolist())))"
   ]
  },
  {
   "cell_type": "markdown",
   "metadata": {},
   "source": [
    "We notice that when we keep only users with a Home, the number of users falls drastically. We therefore think that going to a home is not an interesting criterion for determining if a user is a native.<br>\n",
    "Furthermore, for countries other than the US, checking-in in a home is an unusual thing to do. We will see it below with the example of Japan."
   ]
  },
  {
   "cell_type": "markdown",
   "metadata": {},
   "source": [
    "We now sum up everything that we have done in Step 2 so far in a python function. In order that our functions translate to other datasets, we check our results with the dataset of japanese logins."
   ]
  },
  {
   "cell_type": "code",
   "execution_count": 6,
   "metadata": {},
   "outputs": [],
   "source": [
    "def get_natives(dataframe):\n",
    "    # We start by removing all users with low checkins, they are classified as foreigner and therefore don't\n",
    "    # give us a clear view of how to behave like the natives.\n",
    "    all_participants = dataframe.groupby(by = \"person_id\").agg(\"count\")\n",
    "    df_person_natives =  all_participants[all_participants[\"zone_id\"] >= 5]\n",
    "    df_natives = dataframe[dataframe[\"person_id\"].isin(df_person_natives.index.tolist())]\n",
    "    return(df_natives)"
   ]
  },
  {
   "cell_type": "code",
   "execution_count": 7,
   "metadata": {},
   "outputs": [
    {
     "data": {
      "text/plain": [
       "<BarContainer object of 20 artists>"
      ]
     },
     "execution_count": 7,
     "metadata": {},
     "output_type": "execute_result"
    },
    {
     "data": {
      "image/png": "[encoded data removed]",
      "text/plain": [
       "<Figure size 1152x360 with 1 Axes>"
      ]
     },
     "metadata": {
      "needs_background": "light"
     },
     "output_type": "display_data"
    }
   ],
   "source": [
    "df_JP = pd.read_csv(data_file.open('data/6_JP_2013_merge_data.csv'))\n",
    "natives_JP = get_natives(df_JP)\n",
    "popular_places = natives_JP.groupby(by = \"building\").agg(\"count\").sort_values(by = \"person_id\", ascending = False)\n",
    "\n",
    "fig, ax = plt.subplots(figsize=(16,5))\n",
    "\n",
    "plt.title('Number of Checkins per POIs')\n",
    "plt.ylabel('Number of Checkins')\n",
    "plt.xlabel('POIs')\n",
    "plt.xticks(rotation=90)\n",
    "\n",
    "my_index = [str(element) for element in popular_places.head(20).index]\n",
    "my_values = [element[0] for element in popular_places.head(20).values]\n",
    "plt.bar(my_index, my_values)"
   ]
  },
  {
   "cell_type": "markdown",
   "metadata": {},
   "source": [
    "We notice that \"Home (private)\" doesn't appear in the top 10 POIs for Japan. <br>\n",
    "We notice that an overwhelming amount of checkins are made in train stations. This is due to the fact that the Shinkansen (bullet train) is very popular (https://en.wikipedia.org/wiki/Transport_in_Japan) and that owning a car is not something as common as in the US. We notice that the most popular places to eat are \"Ramen/noodle house\" and \"Japanese Retaurant\" which makes sense intuitively. We notice also the appearance of typical japanese places like the arcade (who died too soon in all countries except Japan. RIP sweet arcades, we won't forget you).<br>\n",
    "A problem that appears with our data is that when we compute house locations, we look at the place with the biggest number of check-ins. In the case of Japan, that might be the position of the nearest train station from home and not of the real home position."
   ]
  },
  {
   "cell_type": "markdown",
   "metadata": {},
   "source": [
    "#### Substep 2 : Number of friends of natives\n",
    "---\n",
    "\n",
    "Now that we have our native users, we want to see how many friends they have. This can serve as an index of how social are the people of the country. In order to have more precise, we compute a 90% confidence interval."
   ]
  },
  {
   "cell_type": "code",
   "execution_count": 34,
   "metadata": {},
   "outputs": [],
   "source": [
    "nb_friends = []\n",
    "for i in range(20):\n",
    "    sample_abb = US_foreign.sample(frac = 0.8, random_state = i)\n",
    "    df_friend = df_friend[df_friend.friend.isin(sample_abb.index.tolist())]\n",
    "    nb_friends.append(df_friend.shape[0]/len(df_friend.friend.unique()))\n",
    "nb_friends.sort()"
   ]
  },
  {
   "cell_type": "code",
   "execution_count": 35,
   "metadata": {},
   "outputs": [
    {
     "name": "stdout",
     "output_type": "stream",
     "text": [
      "Natives have on average 6.263280768106974 friends, our 90% confidence interval is[ 4.91578947368421, 7.822822822822823]\n"
     ]
    }
   ],
   "source": [
    "print(\"Natives have on average {} friends, our 90% confidence interval is[ {}, {}]\".format(np.average(nb_friends), nb_friends[1], nb_friends[-2]))"
   ]
  },
  {
   "cell_type": "markdown",
   "metadata": {},
   "source": [
    "We have an average, however, we don't even know if it is relevant or not. In order to do so, we look at our quartiles."
   ]
  },
  {
   "cell_type": "code",
   "execution_count": 37,
   "metadata": {},
   "outputs": [
    {
     "data": {
      "text/plain": [
       "<matplotlib.axes._subplots.AxesSubplot at 0x7fd904f9a190>"
      ]
     },
     "execution_count": 37,
     "metadata": {},
     "output_type": "execute_result"
    },
    {
     "data": {
      "image/png": "[encoded data removed]",
      "text/plain": [
       "<Figure size 1008x576 with 2 Axes>"
      ]
     },
     "metadata": {
      "needs_background": "light"
     },
     "output_type": "display_data"
    }
   ],
   "source": [
    "df_friend_old = pd.read_csv(raw_dataset_file.open('dataset_WWW2019/dataset_WWW_friendship_old.txt'), header = None, sep = \"\\t\", names = [\"friend\", \"pal\"])\n",
    "fig, ax = plt.subplots(1,2, figsize = (14, 8), sharey = True)\n",
    "ax[0].set_title(\"Number of friends of users (old)\")\n",
    "ax[1].set_title(\"Number of friends of users (new)\")\n",
    "ax[0].set_ylabel(\"number of friends\")\n",
    "df_friend_old.groupby(\"friend\").count().boxplot(ax = ax[0], column = ['pal'],showfliers=False)\n",
    "df_friend.groupby(\"friend\").count().boxplot(ax = ax[1], column = ['pal'],showfliers=False)"
   ]
  },
  {
   "cell_type": "markdown",
   "metadata": {},
   "source": [
    "The results indicate us that most users don't have many friends on Foursquare. There are a few \"super users\" that have a lot of friends and they falsify our average values. If we want to find meaningful results, we should work on the quartiles. This structure of friendships is topical of social networks.<br>\n",
    "We notice that the number seems to have grown over time, but not by a lot."
   ]
  },
  {
   "cell_type": "code",
   "execution_count": null,
   "metadata": {},
   "outputs": [],
   "source": []
  },
  {
   "cell_type": "markdown",
   "metadata": {},
   "source": [
    "### Step 5 : Behaving like natives <a id='Step_5'></a>"
   ]
  },
  {
   "cell_type": "markdown",
   "metadata": {},
   "source": [
    "#### Substep 1 : Combinations of checkins\n",
    "---\n",
    "Now that we have an idea of how sociable natives are, we need to identify how they behave. In order to do so, we must identify the places they go to, at what frequency, and what combinations of places they go on the same day.<br>\n",
    "The graph below gives us some information on activities that natives do, but we don't know much about the context. Imagine for example that everybody goes shopping on the week-end : what a major \"faux-pas\" it would be to go on weekdays after work ! What if you want to hang out ? What combination of activities should you choose ? So many questions..."
   ]
  },
  {
   "cell_type": "code",
   "execution_count": 9,
   "metadata": {},
   "outputs": [],
   "source": [
    "# We start by creating a column indicating the day of the checkin\n",
    "\n",
    "df_US_natives[\"day_of_check_in\"] = df_US_natives[\"time_checkin\"].apply(lambda x : x[:10])\n",
    "\n",
    "# We start by looking at how many checkins each user does daily. From this, we extract the list of users and \n",
    "# that checked-in more than once per day and the dataframe of their checkins.\n",
    "multi_day_dataset = df_US_natives.groupby([\"person_id\", \"day_of_check_in\"]).agg(\"count\").sort_values(by = \"zone_id\", ascending = False)\n",
    "list_of_multi_day = multi_day_dataset[multi_day_dataset[\"zone_id\"]>1].index.to_list()\n",
    "dataframe_multi_day = df_US_natives.set_index([\"person_id\", \"day_of_check_in\"]).loc[list_of_multi_day].drop(columns = [\"year\", \"zone_id\",\"Lat\", \"lon\", \"country\"])"
   ]
  },
  {
   "cell_type": "code",
   "execution_count": 10,
   "metadata": {},
   "outputs": [
    {
     "data": {
      "text/plain": [
       "0.5500185602343166"
      ]
     },
     "execution_count": 10,
     "metadata": {},
     "output_type": "execute_result"
    }
   ],
   "source": [
    "# A first interesting observation is that most checkins come from people that checked more than once per day.\n",
    "dataframe_multi_day.shape[0]/df_US_natives.shape[0]"
   ]
  },
  {
   "cell_type": "code",
   "execution_count": 11,
   "metadata": {},
   "outputs": [
    {
     "data": {
      "text/html": [
       "<div>\n",
       "<style scoped>\n",
       "    .dataframe tbody tr th:only-of-type {\n",
       "        vertical-align: middle;\n",
       "    }\n",
       "\n",
       "    .dataframe tbody tr th {\n",
       "        vertical-align: top;\n",
       "    }\n",
       "\n",
       "    .dataframe thead th {\n",
       "        text-align: right;\n",
       "    }\n",
       "</style>\n",
       "<table border=\"1\" class=\"dataframe\">\n",
       "  <thead>\n",
       "    <tr style=\"text-align: right;\">\n",
       "      <th></th>\n",
       "      <th></th>\n",
       "      <th>time_checkin</th>\n",
       "      <th>building</th>\n",
       "    </tr>\n",
       "    <tr>\n",
       "      <th>person_id</th>\n",
       "      <th>day_of_check_in</th>\n",
       "      <th></th>\n",
       "      <th></th>\n",
       "    </tr>\n",
       "  </thead>\n",
       "  <tbody>\n",
       "    <tr>\n",
       "      <th rowspan=\"5\" valign=\"top\">347405</th>\n",
       "      <th>2013-01-12</th>\n",
       "      <td>2013-01-12 05:49:08+00:00</td>\n",
       "      <td>University</td>\n",
       "    </tr>\n",
       "    <tr>\n",
       "      <th>2013-01-12</th>\n",
       "      <td>2013-01-12 07:40:27+00:00</td>\n",
       "      <td>University</td>\n",
       "    </tr>\n",
       "    <tr>\n",
       "      <th>2013-01-12</th>\n",
       "      <td>2013-01-12 08:17:48+00:00</td>\n",
       "      <td>University</td>\n",
       "    </tr>\n",
       "    <tr>\n",
       "      <th>2013-01-12</th>\n",
       "      <td>2013-01-12 09:25:48+00:00</td>\n",
       "      <td>Student Center</td>\n",
       "    </tr>\n",
       "    <tr>\n",
       "      <th>2013-01-12</th>\n",
       "      <td>2013-01-12 09:26:03+00:00</td>\n",
       "      <td>Student Center</td>\n",
       "    </tr>\n",
       "    <tr>\n",
       "      <th>...</th>\n",
       "      <th>...</th>\n",
       "      <td>...</td>\n",
       "      <td>...</td>\n",
       "    </tr>\n",
       "    <tr>\n",
       "      <th>413005</th>\n",
       "      <th>2013-03-24</th>\n",
       "      <td>2013-03-24 16:32:05+00:00</td>\n",
       "      <td>Diner</td>\n",
       "    </tr>\n",
       "    <tr>\n",
       "      <th rowspan=\"2\" valign=\"top\">98454</th>\n",
       "      <th>2013-01-18</th>\n",
       "      <td>2013-01-18 01:40:15+00:00</td>\n",
       "      <td>Bar</td>\n",
       "    </tr>\n",
       "    <tr>\n",
       "      <th>2013-01-18</th>\n",
       "      <td>2013-01-18 14:34:21+00:00</td>\n",
       "      <td>Hospital</td>\n",
       "    </tr>\n",
       "    <tr>\n",
       "      <th rowspan=\"2\" valign=\"top\">102862</th>\n",
       "      <th>2013-02-19</th>\n",
       "      <td>2013-02-19 13:50:52+00:00</td>\n",
       "      <td>School</td>\n",
       "    </tr>\n",
       "    <tr>\n",
       "      <th>2013-02-19</th>\n",
       "      <td>2013-02-19 20:54:08+00:00</td>\n",
       "      <td>School</td>\n",
       "    </tr>\n",
       "  </tbody>\n",
       "</table>\n",
       "<p>648990 rows × 2 columns</p>\n",
       "</div>"
      ],
      "text/plain": [
       "                                        time_checkin        building\n",
       "person_id day_of_check_in                                           \n",
       "347405    2013-01-12       2013-01-12 05:49:08+00:00      University\n",
       "          2013-01-12       2013-01-12 07:40:27+00:00      University\n",
       "          2013-01-12       2013-01-12 08:17:48+00:00      University\n",
       "          2013-01-12       2013-01-12 09:25:48+00:00  Student Center\n",
       "          2013-01-12       2013-01-12 09:26:03+00:00  Student Center\n",
       "...                                              ...             ...\n",
       "413005    2013-03-24       2013-03-24 16:32:05+00:00           Diner\n",
       "98454     2013-01-18       2013-01-18 01:40:15+00:00             Bar\n",
       "          2013-01-18       2013-01-18 14:34:21+00:00        Hospital\n",
       "102862    2013-02-19       2013-02-19 13:50:52+00:00          School\n",
       "          2013-02-19       2013-02-19 20:54:08+00:00          School\n",
       "\n",
       "[648990 rows x 2 columns]"
      ]
     },
     "execution_count": 11,
     "metadata": {},
     "output_type": "execute_result"
    }
   ],
   "source": [
    "dataframe_multi_day"
   ]
  },
  {
   "cell_type": "code",
   "execution_count": 14,
   "metadata": {},
   "outputs": [
    {
     "data": {
      "text/html": [
       "<div>\n",
       "<style scoped>\n",
       "    .dataframe tbody tr th:only-of-type {\n",
       "        vertical-align: middle;\n",
       "    }\n",
       "\n",
       "    .dataframe tbody tr th {\n",
       "        vertical-align: top;\n",
       "    }\n",
       "\n",
       "    .dataframe thead th {\n",
       "        text-align: right;\n",
       "    }\n",
       "</style>\n",
       "<table border=\"1\" class=\"dataframe\">\n",
       "  <thead>\n",
       "    <tr style=\"text-align: right;\">\n",
       "      <th></th>\n",
       "      <th>person_id</th>\n",
       "      <th>day_of_check_in</th>\n",
       "      <th>building_x</th>\n",
       "      <th>building_y</th>\n",
       "      <th>time_checkin_y</th>\n",
       "      <th>label</th>\n",
       "    </tr>\n",
       "  </thead>\n",
       "  <tbody>\n",
       "    <tr>\n",
       "      <th>1</th>\n",
       "      <td>19</td>\n",
       "      <td>2013-01-05</td>\n",
       "      <td>Airport</td>\n",
       "      <td>Tech Startup</td>\n",
       "      <td>1</td>\n",
       "      <td>(Airport, Tech Startup)</td>\n",
       "    </tr>\n",
       "    <tr>\n",
       "      <th>2</th>\n",
       "      <td>19</td>\n",
       "      <td>2013-01-05</td>\n",
       "      <td>Tech Startup</td>\n",
       "      <td>Airport</td>\n",
       "      <td>1</td>\n",
       "      <td>(Airport, Tech Startup)</td>\n",
       "    </tr>\n",
       "    <tr>\n",
       "      <th>5</th>\n",
       "      <td>19</td>\n",
       "      <td>2013-01-09</td>\n",
       "      <td>Coffee Shop</td>\n",
       "      <td>University</td>\n",
       "      <td>1</td>\n",
       "      <td>(Coffee Shop, University)</td>\n",
       "    </tr>\n",
       "    <tr>\n",
       "      <th>6</th>\n",
       "      <td>19</td>\n",
       "      <td>2013-01-09</td>\n",
       "      <td>University</td>\n",
       "      <td>Coffee Shop</td>\n",
       "      <td>1</td>\n",
       "      <td>(Coffee Shop, University)</td>\n",
       "    </tr>\n",
       "    <tr>\n",
       "      <th>9</th>\n",
       "      <td>19</td>\n",
       "      <td>2013-01-11</td>\n",
       "      <td>Bar</td>\n",
       "      <td>Italian Restaurant</td>\n",
       "      <td>1</td>\n",
       "      <td>(Bar, Italian Restaurant)</td>\n",
       "    </tr>\n",
       "    <tr>\n",
       "      <th>...</th>\n",
       "      <td>...</td>\n",
       "      <td>...</td>\n",
       "      <td>...</td>\n",
       "      <td>...</td>\n",
       "      <td>...</td>\n",
       "      <td>...</td>\n",
       "    </tr>\n",
       "    <tr>\n",
       "      <th>1876122</th>\n",
       "      <td>2181131</td>\n",
       "      <td>2013-04-24</td>\n",
       "      <td>Residential Building (Apartment / Condo)</td>\n",
       "      <td>Home (private)</td>\n",
       "      <td>1</td>\n",
       "      <td>(Home (private), Residential Building (Apartme...</td>\n",
       "    </tr>\n",
       "    <tr>\n",
       "      <th>1876125</th>\n",
       "      <td>2181131</td>\n",
       "      <td>2013-04-25</td>\n",
       "      <td>Building</td>\n",
       "      <td>Residential Building (Apartment / Condo)</td>\n",
       "      <td>1</td>\n",
       "      <td>(Building, Residential Building (Apartment / C...</td>\n",
       "    </tr>\n",
       "    <tr>\n",
       "      <th>1876126</th>\n",
       "      <td>2181131</td>\n",
       "      <td>2013-04-25</td>\n",
       "      <td>Residential Building (Apartment / Condo)</td>\n",
       "      <td>Building</td>\n",
       "      <td>1</td>\n",
       "      <td>(Building, Residential Building (Apartment / C...</td>\n",
       "    </tr>\n",
       "    <tr>\n",
       "      <th>1876129</th>\n",
       "      <td>2181131</td>\n",
       "      <td>2013-04-29</td>\n",
       "      <td>Building</td>\n",
       "      <td>Home (private)</td>\n",
       "      <td>1</td>\n",
       "      <td>(Building, Home (private))</td>\n",
       "    </tr>\n",
       "    <tr>\n",
       "      <th>1876130</th>\n",
       "      <td>2181131</td>\n",
       "      <td>2013-04-29</td>\n",
       "      <td>Home (private)</td>\n",
       "      <td>Building</td>\n",
       "      <td>1</td>\n",
       "      <td>(Building, Home (private))</td>\n",
       "    </tr>\n",
       "  </tbody>\n",
       "</table>\n",
       "<p>1303374 rows × 6 columns</p>\n",
       "</div>"
      ],
      "text/plain": [
       "         person_id day_of_check_in                                building_x  \\\n",
       "1               19      2013-01-05                                   Airport   \n",
       "2               19      2013-01-05                              Tech Startup   \n",
       "5               19      2013-01-09                               Coffee Shop   \n",
       "6               19      2013-01-09                                University   \n",
       "9               19      2013-01-11                                       Bar   \n",
       "...            ...             ...                                       ...   \n",
       "1876122    2181131      2013-04-24  Residential Building (Apartment / Condo)   \n",
       "1876125    2181131      2013-04-25                                  Building   \n",
       "1876126    2181131      2013-04-25  Residential Building (Apartment / Condo)   \n",
       "1876129    2181131      2013-04-29                                  Building   \n",
       "1876130    2181131      2013-04-29                            Home (private)   \n",
       "\n",
       "                                       building_y  time_checkin_y  \\\n",
       "1                                    Tech Startup               1   \n",
       "2                                         Airport               1   \n",
       "5                                      University               1   \n",
       "6                                     Coffee Shop               1   \n",
       "9                              Italian Restaurant               1   \n",
       "...                                           ...             ...   \n",
       "1876122                            Home (private)               1   \n",
       "1876125  Residential Building (Apartment / Condo)               1   \n",
       "1876126                                  Building               1   \n",
       "1876129                            Home (private)               1   \n",
       "1876130                                  Building               1   \n",
       "\n",
       "                                                     label  \n",
       "1                                  (Airport, Tech Startup)  \n",
       "2                                  (Airport, Tech Startup)  \n",
       "5                                (Coffee Shop, University)  \n",
       "6                                (Coffee Shop, University)  \n",
       "9                                (Bar, Italian Restaurant)  \n",
       "...                                                    ...  \n",
       "1876122  (Home (private), Residential Building (Apartme...  \n",
       "1876125  (Building, Residential Building (Apartment / C...  \n",
       "1876126  (Building, Residential Building (Apartment / C...  \n",
       "1876129                         (Building, Home (private))  \n",
       "1876130                         (Building, Home (private))  \n",
       "\n",
       "[1303374 rows x 6 columns]"
      ]
     },
     "execution_count": 14,
     "metadata": {},
     "output_type": "execute_result"
    }
   ],
   "source": [
    "# There are some people who check multiple times a day to the same place. We interpret this as them checking-in \n",
    "# On their workplace or at their home. This does not interest us. As a result, we eliminate users who check-in\n",
    "# only at the same place.\n",
    "\n",
    "count_nb_checkin_per_day = dataframe_multi_day.groupby(by = [\"person_id\", \"day_of_check_in\", \"building\"]).agg(\"count\").reset_index()\n",
    "inter = count_nb_checkin_per_day.groupby(by = [\"person_id\", \"day_of_check_in\"]).agg(\"count\")\n",
    "inter_list = inter[inter[\"building\"]>1].index.to_list()\n",
    "people_who_checked_at_multiple_places = count_nb_checkin_per_day.set_index([\"person_id\", \"day_of_check_in\"]).loc[inter_list].reset_index()\n",
    "merged_db = people_who_checked_at_multiple_places.merge(people_who_checked_at_multiple_places, on = [\"person_id\", \"day_of_check_in\"])\n",
    "merged_db = merged_db[merged_db[\"building_x\"] != merged_db[\"building_y\"]].drop(columns = [\"time_checkin_x\"])\n",
    "\n",
    "# We now put on a label indicating the two activities that are done at the same time. The label is : \n",
    "# (activity_1, activity_2). Since (activity_1, activity_2) = (activity_2, activity_1), we have each row repeated \n",
    "# twice. We will take care of this later.\n",
    "inter = pd.DataFrame()\n",
    "inter[\"first_building\"] = merged_db[\"building_x\"]\n",
    "inter[\"second_building\"] = merged_db[\"building_y\"]\n",
    "inter_list = inter.values.tolist()\n",
    "merged_db[\"label\"] = [tuple(sorted(list(val))) for val in inter_list]\n",
    "\n",
    "merged_db"
   ]
  },
  {
   "cell_type": "code",
   "execution_count": 15,
   "metadata": {},
   "outputs": [],
   "source": [
    "# Now, we want to evaluate the occurence of each label, we also divide our values by 2 in order to compensate\n",
    "# the fact that (activity_1, activity_2) = (activity_2, activity_1)\n",
    "db_ordered_by_labels = merged_db.groupby(\"label\").agg(\"count\").sort_values(by = \"person_id\", ascending = False).drop(columns = [\"day_of_check_in\",\"building_x\", \"building_y\", \"time_checkin_y\" ])\n",
    "db_ordered_by_labels[\"person_id\"] = db_ordered_by_labels[\"person_id\"]/2"
   ]
  },
  {
   "cell_type": "code",
   "execution_count": 16,
   "metadata": {},
   "outputs": [
    {
     "data": {
      "text/plain": [
       "<BarContainer object of 20 artists>"
      ]
     },
     "execution_count": 16,
     "metadata": {},
     "output_type": "execute_result"
    },
    {
     "data": {
      "image/png": "[encoded data removed]",
      "text/plain": [
       "<Figure size 1152x360 with 1 Axes>"
      ]
     },
     "metadata": {
      "needs_background": "light"
     },
     "output_type": "display_data"
    }
   ],
   "source": [
    "fig, ax = plt.subplots(figsize=(16,5))\n",
    "\n",
    "plt.title('Number of Checkins for places visited together')\n",
    "plt.ylabel('Number of Checkins')\n",
    "plt.xlabel('Places visited together')\n",
    "plt.xticks(rotation=90)\n",
    "\n",
    "my_index = [str(element) for element in db_ordered_by_labels.head(20).index]\n",
    "my_values = [element[0] for element in db_ordered_by_labels.head(20).values]\n",
    "plt.bar(my_index, my_values)"
   ]
  },
  {
   "cell_type": "markdown",
   "metadata": {},
   "source": [
    "#### Partial conclusion\n",
    "When we look at the places visited together, we notice that there are a lot of them that are of the form (Place, Home (private)) This comes from the fact that, as we have seen before, Home (private) is the most popular chackin place for our population. We notice that among our popular combinations, we have some that can be explained both intuitively and culturally. For example, the combination (Coffee Shop, Office) has already been mentionned earlier. While the combination, (Airport, Hotel) can be explained intuitively as \"when we come from the airport, we have to find a hotel to stay\". However, the fact that it is the fifth most popular combination can only be explained as \"In the US, since the country is so large, it is much more common to travel by plane\"."
   ]
  },
  {
   "cell_type": "code",
   "execution_count": 17,
   "metadata": {},
   "outputs": [],
   "source": [
    "#We now sum up everything that we have done as a python function. \n",
    "#In order to check that our functions translate to other datasets, we check our results with the dataset of japanese logins.\n",
    "\n",
    "def get_combination_natives(df_natives, poi_interest = False):\n",
    "    # We then create a column giving the day of checkins\n",
    "    df_natives[\"day_of_check_in\"] = df_natives[\"time_checkin\"].apply(lambda x : x[:10])\n",
    "    \n",
    "    # We now extract the dataframe of all the users that made multiple checkins per day.\n",
    "    inter = df_natives.groupby([\"person_id\", \"day_of_check_in\"]).agg(\"count\").sort_values(by = \"zone_id\", ascending = False)\n",
    "    list_of_multi_day = inter[inter[\"zone_id\"]>1].index.to_list()\n",
    "    dataframe_multi_day = df_natives.set_index([\"person_id\", \"day_of_check_in\"]).loc[list_of_multi_day].drop(columns = [\"year\", \"zone_id\",\"Lat\", \"lon\", \"country\"])\n",
    "    \n",
    "    # The next step is surpressing all the check-ins from people who check-in from the same place in order to focus on\n",
    "    # only on people who visit multiple places on the same day.\n",
    "    count_nb_checkin_per_day = dataframe_multi_day.groupby(by = [\"person_id\", \"day_of_check_in\", \"building\"]).agg(\"count\").reset_index()\n",
    "    inter = count_nb_checkin_per_day.groupby(by = [\"person_id\", \"day_of_check_in\"]).agg(\"count\")\n",
    "    inter_list = inter[inter[\"building\"]>1].index.to_list()\n",
    "    people_who_checked_at_multiple_places = count_nb_checkin_per_day.set_index([\"person_id\", \"day_of_check_in\"]).loc[inter_list].reset_index()\n",
    "    merged_db = people_who_checked_at_multiple_places.merge(people_who_checked_at_multiple_places, on = [\"person_id\", \"day_of_check_in\"])\n",
    "    merged_db = merged_db[merged_db[\"building_x\"] != merged_db[\"building_y\"]].drop(columns = [\"time_checkin_x\"])\n",
    "    \n",
    "    # We now put on a label indicating the two activities that are done at the same time. The label is : \n",
    "    # (activity_1, activity_2). Since (activity_1, activity_2) = (activity_2, activity_1), we have each row repeated \n",
    "    # twice. We will take care of this later.\n",
    "    inter = pd.DataFrame()\n",
    "    inter[\"first_building\"] = merged_db[\"building_x\"]\n",
    "    inter[\"second_building\"] = merged_db[\"building_y\"]\n",
    "    inter_list = inter.values.tolist()\n",
    "    merged_db[\"label\"] = [tuple(sorted(list(val))) for val in inter_list]\n",
    "    \n",
    "    # If we give a value for \"poi_interest\", we return not only the dataframe of combinations, but also the number\n",
    "    # of times users check-ed at the place \"poi_interest\"\n",
    "    if poi_interest:\n",
    "        return(merged_db, sum(people_who_checked_at_multiple_places.set_index(\"building\").loc[poi_interest][\"time_checkin\"]))\n",
    "    \n",
    "    return(merged_db)"
   ]
  },
  {
   "cell_type": "code",
   "execution_count": 18,
   "metadata": {},
   "outputs": [],
   "source": [
    "df_JP = pd.read_csv(data_file.open('data/6_JP_2013_merge_data.csv'))\n",
    "natives_JP = get_natives(df_JP)\n",
    "combination_df_JP = get_combination_natives(natives_JP)\n",
    "db_ordered_by_labels = combination_df_JP.groupby(\"label\").agg(\"count\").sort_values(by = \"person_id\", ascending = False).drop(columns = [\"day_of_check_in\",\"building_x\", \"building_y\", \"time_checkin_y\" ])\n",
    "db_ordered_by_labels[\"person_id\"] = db_ordered_by_labels[\"person_id\"]/2"
   ]
  },
  {
   "cell_type": "code",
   "execution_count": 19,
   "metadata": {},
   "outputs": [
    {
     "data": {
      "text/plain": [
       "<BarContainer object of 20 artists>"
      ]
     },
     "execution_count": 19,
     "metadata": {},
     "output_type": "execute_result"
    },
    {
     "data": {
      "image/png": "[encoded data removed]",
      "text/plain": [
       "<Figure size 1152x360 with 1 Axes>"
      ]
     },
     "metadata": {
      "needs_background": "light"
     },
     "output_type": "display_data"
    }
   ],
   "source": [
    "fig, ax = plt.subplots(figsize=(16,5))\n",
    "\n",
    "plt.title('Number of Checkins for places visited together')\n",
    "plt.ylabel('Number of Checkins')\n",
    "plt.xlabel('Places visited together')\n",
    "plt.xticks(rotation=90)\n",
    "\n",
    "my_index = [str(element) for element in db_ordered_by_labels.head(20).index]\n",
    "my_values = [element[0] for element in db_ordered_by_labels.head(20).values]\n",
    "plt.bar(my_index, my_values)"
   ]
  },
  {
   "cell_type": "markdown",
   "metadata": {},
   "source": [
    "Due to the over-representation of \"Train Station\" in our checkins, it becomes difficult to infer meaningful information from the combinations of checkins. What we can guess is that Japanese people use the public transport a lot, both for work and leisure purposes."
   ]
  },
  {
   "cell_type": "markdown",
   "metadata": {},
   "source": [
    "#### Substep 2 : Predicting movements\n",
    "---\n",
    "During the last two parts, we observed what users did in order to understand their behaviours. We noticed and studied cultural specificities. We now want to compute predictive probabilities. We will try to answer the following questions :<br>\n",
    "- What is the probability that a user checks-in multiple times a day?\n",
    "- If a user checks-in multiple times, what is the probability that he checks-in from the same POI (given the POI)?\n",
    "- If a user checks-in multiple times, what is the probability that he checks-in from different POIs, and which POIs is he most likely to check-in from (given the first place)? In our model, we will only study the case where we study the previous check-in. (More complicated models can try to give predictions out of all the previous check-ins)."
   ]
  },
  {
   "cell_type": "markdown",
   "metadata": {},
   "source": [
    "###### SubSubStep 1: The first Checkin\n",
    "---\n",
    "We think that it is interesting to separate our checkins as \"first checkin of the day\" and \"not first checkin of the day\" because \n",
    "1) People have habits. Some check their phone every morning, others on their way to work... It is usually the same POI. When people checkin only once a day, we can still identify a POI from where they check-in most of the time.\n",
    "2) If a person checks-in more than once a day, we can use our dataframe of couples of places to identify where the next check-in should be, based on the previous POI."
   ]
  },
  {
   "cell_type": "code",
   "execution_count": 20,
   "metadata": {},
   "outputs": [],
   "source": [
    "# First case : first check-in of the day. We start by computing the distributions for the first check-in of the day.\n",
    "# In order to do so, we isolate the first check-in for every user and every day.\n",
    "\n",
    "def get_distrib_first_checkin(df_natives):\n",
    "    # We then create a column giving the day of checkins\n",
    "    df_natives[\"day_of_check_in\"] = df_natives[\"time_checkin\"].apply(lambda x : x[:10])\n",
    "    \n",
    "    # We now extract the dataframe of all the first_checkins for a user.\n",
    "    inter = df_natives.groupby([\"person_id\", \"day_of_check_in\"]).first().reset_index()\n",
    "    popular_places_first_checkin = inter.groupby([\"building\"]).agg(\"count\").sort_values(by = \"zone_id\", ascending = False)\n",
    "    popular_places_first_checkin[\"my_stat\"] = popular_places_first_checkin[\"person_id\"] / sum(popular_places_first_checkin[\"person_id\"]) * 100\n",
    "    popular_places_first_checkin = popular_places_first_checkin.reset_index()\n",
    "    return(popular_places_first_checkin[[\"building\", \"my_stat\"]])"
   ]
  },
  {
   "cell_type": "code",
   "execution_count": 21,
   "metadata": {},
   "outputs": [
    {
     "data": {
      "text/plain": [
       "<BarContainer object of 20 artists>"
      ]
     },
     "execution_count": 21,
     "metadata": {},
     "output_type": "execute_result"
    },
    {
     "data": {
      "image/png": "[encoded data removed]",
      "text/plain": [
       "<Figure size 1152x360 with 1 Axes>"
      ]
     },
     "metadata": {
      "needs_background": "light"
     },
     "output_type": "display_data"
    }
   ],
   "source": [
    "df_US = pd.read_csv(data_file.open('data/1_US_2013_merge_data.csv'))\n",
    "US_natives = get_natives(df_US)\n",
    "US_first_checkin = get_distrib_first_checkin(US_natives)\n",
    "fig, ax = plt.subplots(figsize=(16,5))\n",
    "\n",
    "plt.title('Percentage of first checkins done per POI')\n",
    "plt.ylabel('Percentage of first checkins')\n",
    "plt.xlabel('POIs')\n",
    "plt.xticks(rotation=90)\n",
    "\n",
    "my_index = [element for element in US_first_checkin.head(20).building]\n",
    "my_values = [element for element in US_first_checkin.head(20).my_stat]\n",
    "plt.bar(my_index, my_values)"
   ]
  },
  {
   "cell_type": "markdown",
   "metadata": {},
   "source": [
    "#### Interpretation :\n",
    "While \"Home (private)\" is the place with the most checkins in our US dataframe, we notice that users from the US usually don't check-in directly after waking up from their home. If users check-in mostly from their home, they do it after work."
   ]
  },
  {
   "cell_type": "code",
   "execution_count": 22,
   "metadata": {},
   "outputs": [
    {
     "data": {
      "text/plain": [
       "<BarContainer object of 20 artists>"
      ]
     },
     "execution_count": 22,
     "metadata": {},
     "output_type": "execute_result"
    },
    {
     "data": {
      "image/png": "[encoded data removed]",
      "text/plain": [
       "<Figure size 1152x360 with 1 Axes>"
      ]
     },
     "metadata": {
      "needs_background": "light"
     },
     "output_type": "display_data"
    }
   ],
   "source": [
    "df_JP = pd.read_csv(data_file.open('data/6_JP_2013_merge_data.csv'))\n",
    "natives_JP = get_natives(df_JP)\n",
    "JP_first_checkin = get_distrib_first_checkin(natives_JP)\n",
    "\n",
    "fig, ax = plt.subplots(figsize=(16,5))\n",
    "\n",
    "plt.title('Percentage of first checkins done per POI')\n",
    "plt.ylabel('Percentage of first checkins')\n",
    "plt.xlabel('POIs')\n",
    "plt.xticks(rotation=90)\n",
    "\n",
    "my_index = [element for element in JP_first_checkin.head(20).building]\n",
    "my_values = [element for element in JP_first_checkin.head(20).my_stat]\n",
    "plt.bar(my_index, my_values)"
   ]
  },
  {
   "cell_type": "markdown",
   "metadata": {},
   "source": [
    "#### Interpretation :\n",
    "After what we have seen on Japan, we expected results like these : threre is a very high probability that users check-in while at the train station. other results are crushed in comparaison."
   ]
  },
  {
   "cell_type": "markdown",
   "metadata": {},
   "source": [
    "###### SubSubstep 2 : The second checkin and above\n",
    "---\n",
    "We now want to study all checkins that took place after the first check-in. In order to do so, we create a function that, given the POI received at the first checkin, gives the probability for our second check-in."
   ]
  },
  {
   "cell_type": "code",
   "execution_count": 23,
   "metadata": {},
   "outputs": [],
   "source": [
    "# We have already a function that, given a dataframe, retrieves the combinations of (POI 1, POI 2). We now create a\n",
    "# function that returns the number of times where users have checked-in at the same place.\n",
    "\n",
    "def get_check_same_place(df_natives):\n",
    "    # We first create a column giving the day of checkins\n",
    "    df_natives[\"day_of_check_in\"] = df_natives[\"time_checkin\"].apply(lambda x : x[:10])\n",
    "    \n",
    "    # We start by retrieving the users that checked more than once on the same day.\n",
    "    inter = df_natives.groupby([\"person_id\", \"day_of_check_in\"]).agg(\"count\").sort_values(by = \"zone_id\", ascending = False)\n",
    "    list_of_multi_day = inter[inter[\"zone_id\"]>1].index.to_list()\n",
    "    dataframe_multi_day = df_natives.set_index([\"person_id\", \"day_of_check_in\"]).loc[list_of_multi_day].drop(columns = [\"year\", \"zone_id\",\"Lat\", \"lon\", \"country\"])\n",
    "    \n",
    "    # There are two possible cases : either the user stays at the same POI or he moves to the different POI\n",
    "    # In order to find what we want, we extract the datasets of all users that checked more than once at the same\n",
    "    # place on the same day.\n",
    "    count_nb_checkin_per_day = dataframe_multi_day.groupby(by = [\"person_id\", \"day_of_check_in\", \"building\"]).agg(\"count\")\n",
    "    dataset_check_same_place = count_nb_checkin_per_day[count_nb_checkin_per_day[\"time_checkin\"]>1].reset_index().drop(columns = {\"person_id\", \"day_of_check_in\"})\n",
    "    #### We want to not take into account the first checkin for all the places where we check-in multiple times\n",
    "    # As a result, we substract 1 from our counts to remove the first checkin\n",
    "    dataset_check_same_place[\"time_checkin\"] = dataset_check_same_place[\"time_checkin\"] - 1\n",
    "    probability_dataset = dataset_check_same_place.groupby(by = [\"building\"]).agg(\"count\")\n",
    "    \n",
    "    return(probability_dataset.sort_values(by = \"time_checkin\",ascending = False))"
   ]
  },
  {
   "cell_type": "code",
   "execution_count": 24,
   "metadata": {},
   "outputs": [
    {
     "data": {
      "text/html": [
       "<div>\n",
       "<style scoped>\n",
       "    .dataframe tbody tr th:only-of-type {\n",
       "        vertical-align: middle;\n",
       "    }\n",
       "\n",
       "    .dataframe tbody tr th {\n",
       "        vertical-align: top;\n",
       "    }\n",
       "\n",
       "    .dataframe thead th {\n",
       "        text-align: right;\n",
       "    }\n",
       "</style>\n",
       "<table border=\"1\" class=\"dataframe\">\n",
       "  <thead>\n",
       "    <tr style=\"text-align: right;\">\n",
       "      <th></th>\n",
       "      <th>time_checkin</th>\n",
       "    </tr>\n",
       "    <tr>\n",
       "      <th>building</th>\n",
       "      <th></th>\n",
       "    </tr>\n",
       "  </thead>\n",
       "  <tbody>\n",
       "    <tr>\n",
       "      <th>Airport</th>\n",
       "      <td>5469</td>\n",
       "    </tr>\n",
       "    <tr>\n",
       "      <th>Home (private)</th>\n",
       "      <td>5143</td>\n",
       "    </tr>\n",
       "    <tr>\n",
       "      <th>Road</th>\n",
       "      <td>2049</td>\n",
       "    </tr>\n",
       "    <tr>\n",
       "      <th>Office</th>\n",
       "      <td>1708</td>\n",
       "    </tr>\n",
       "    <tr>\n",
       "      <th>Other Great Outdoors</th>\n",
       "      <td>1577</td>\n",
       "    </tr>\n",
       "    <tr>\n",
       "      <th>...</th>\n",
       "      <td>...</td>\n",
       "    </tr>\n",
       "    <tr>\n",
       "      <th>Paella Restaurant</th>\n",
       "      <td>1</td>\n",
       "    </tr>\n",
       "    <tr>\n",
       "      <th>College &amp; University</th>\n",
       "      <td>1</td>\n",
       "    </tr>\n",
       "    <tr>\n",
       "      <th>Storage Facility</th>\n",
       "      <td>1</td>\n",
       "    </tr>\n",
       "    <tr>\n",
       "      <th>Street Fair</th>\n",
       "      <td>1</td>\n",
       "    </tr>\n",
       "    <tr>\n",
       "      <th>Climbing Gym</th>\n",
       "      <td>1</td>\n",
       "    </tr>\n",
       "  </tbody>\n",
       "</table>\n",
       "<p>383 rows × 1 columns</p>\n",
       "</div>"
      ],
      "text/plain": [
       "                      time_checkin\n",
       "building                          \n",
       "Airport                       5469\n",
       "Home (private)                5143\n",
       "Road                          2049\n",
       "Office                        1708\n",
       "Other Great Outdoors          1577\n",
       "...                            ...\n",
       "Paella Restaurant                1\n",
       "College & University             1\n",
       "Storage Facility                 1\n",
       "Street Fair                      1\n",
       "Climbing Gym                     1\n",
       "\n",
       "[383 rows x 1 columns]"
      ]
     },
     "execution_count": 24,
     "metadata": {},
     "output_type": "execute_result"
    }
   ],
   "source": [
    "get_check_same_place(US_natives)"
   ]
  },
  {
   "cell_type": "code",
   "execution_count": 25,
   "metadata": {},
   "outputs": [],
   "source": [
    "# The following function returns for a given dataframe, and a given POI the probability that :\n",
    "# - The user doesn't check-in another time in the day\n",
    "# - The user checks-in another time in the day from the same place\n",
    "# - The user checks-in another time in the day from another place\n",
    "\n",
    "# If we put info to True, the function will return the probability that we check to each POI given that we check-in\n",
    "# another time in the day from another place.\n",
    "\n",
    "def get_probability(df_natives,poi_first_checkin, info = False):\n",
    "    # We first create a column giving the day of checkins\n",
    "    df_natives[\"day_of_check_in\"] = df_natives[\"time_checkin\"].apply(lambda x : x[:10])\n",
    "    \n",
    "    # We start by retrieving the number of checkins for users that checked only once per day.\n",
    "    inter = df_natives.groupby([\"person_id\", \"day_of_check_in\"]).agg(\"count\").sort_values(by = \"zone_id\", ascending = False)\n",
    "    list_single_day = inter[inter[\"zone_id\"]==1].index.to_list()\n",
    "    dataframe_single = df_natives.set_index([\"person_id\", \"day_of_check_in\"]).loc[list_single_day].drop(columns = [\"year\", \"zone_id\",\"Lat\", \"lon\", \"country\"]).reset_index()\n",
    "    dataframe_single = dataframe_single.groupby(by = \"building\").agg(\"count\").sort_values(by = \"time_checkin\",ascending = False)\n",
    "    number_no_other_checkin = dataframe_single.loc[poi_first_checkin][\"time_checkin\"]\n",
    "    \n",
    "    # We then retrieve the number of checkins for users that checked-in more than once at the same place on the\n",
    "    # same day.\n",
    "    dataframe_twice_same = get_check_same_place(df_natives)\n",
    "    number_check_same_place = dataframe_twice_same.loc[poi_first_checkin][\"time_checkin\"]\n",
    "    \n",
    "    # We finally extract the number of combinations featuring the POI \"poi_first_checkin\"\n",
    "    dataframe_combination, number_different_place = get_combination_natives(df_natives, poi_first_checkin)\n",
    "    \n",
    "    # We compute our probabilities\n",
    "    probability_no_other_checkin = number_no_other_checkin/(number_no_other_checkin+number_check_same_place+number_different_place)\n",
    "    probability_check_same_place = number_check_same_place/(number_no_other_checkin+number_check_same_place+number_different_place)\n",
    "    probability_different_place = number_different_place/(number_no_other_checkin+number_check_same_place+number_different_place)\n",
    "    \n",
    "    if info:\n",
    "        # If we put info to True, the function will return the probability that we check to each POI given \n",
    "        # that we check-in another time in the day from another place.\n",
    "        dataframe_combination[\"is_in_label\"] = dataframe_combination[\"label\"].apply(lambda x : True if poi_first_checkin in x else False )\n",
    "        dataframe_combination = dataframe_combination[dataframe_combination[\"is_in_label\"]].drop(columns = {\"day_of_check_in\",\"building_x\",\"building_y\",\"time_checkin_y\"})\n",
    "        dataframe_combination = dataframe_combination.groupby(\"label\").agg(\"count\").reset_index()\n",
    "        dataframe_combination[\"person_id\"] = dataframe_combination[\"person_id\"]/sum(dataframe_combination[\"person_id\"])\n",
    "        dataframe_combination = dataframe_combination.drop(columns = {\"is_in_label\"}).set_index(\"label\").sort_values(by = \"person_id\", ascending = False)\n",
    "        return(probability_no_other_checkin, probability_check_same_place, probability_different_place, dataframe_combination)\n",
    "    \n",
    "    return(probability_no_other_checkin, probability_check_same_place, probability_different_place)"
   ]
  },
  {
   "cell_type": "code",
   "execution_count": 26,
   "metadata": {},
   "outputs": [
    {
     "data": {
      "text/plain": [
       "(0.5421903052064632,\n",
       " 0.036505086774386596,\n",
       " 0.4213046080191502,\n",
       "                                   person_id\n",
       " label                                      \n",
       " (Home (private), Office)           0.061985\n",
       " (Coffee Shop, Office)              0.044878\n",
       " (Building, Office)                 0.032610\n",
       " (Gas Station / Garage, Office)     0.028812\n",
       " (Gym, Office)                      0.028502\n",
       " ...                                     ...\n",
       " (Afghan Restaurant, Office)        0.000028\n",
       " (Credit Union, Office)             0.000028\n",
       " (Boarding House, Office)           0.000028\n",
       " (Conference, Office)               0.000028\n",
       " (Gluten-free Restaurant, Office)   0.000028\n",
       " \n",
       " [403 rows x 1 columns])"
      ]
     },
     "execution_count": 26,
     "metadata": {},
     "output_type": "execute_result"
    }
   ],
   "source": [
    "get_probability(US_natives, \"Office\", True)"
   ]
  },
  {
   "cell_type": "code",
   "execution_count": null,
   "metadata": {},
   "outputs": [],
   "source": []
  },
  {
   "cell_type": "markdown",
   "metadata": {},
   "source": [
    "### Conclusion :\n",
    "---\n",
    "We now have all the tools we need to understand native people from foreign countries : we know what are their behaviours toward friends, how sociable they are, where they like to hang out and what are the proability that they go to which POIs. <br>\n",
    "All that is left now is to travel !"
   ]
  },
  {
   "cell_type": "code",
   "execution_count": null,
   "metadata": {},
   "outputs": [],
   "source": []
  }
 ],
 "metadata": {
  "kernelspec": {
   "display_name": "Python 3",
   "language": "python",
   "name": "python3"
  },
  "language_info": {
   "codemirror_mode": {
    "name": "ipython",
    "version": 3
   },
   "file_extension": ".py",
   "mimetype": "text/x-python",
   "name": "python",
   "nbconvert_exporter": "python",
   "pygments_lexer": "ipython3",
   "version": "3.7.6"
  }
 },
 "nbformat": 4,
 "nbformat_minor": 4
}
