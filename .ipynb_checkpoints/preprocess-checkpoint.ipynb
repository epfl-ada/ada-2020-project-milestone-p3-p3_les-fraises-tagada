{
 "cells": [
  {
   "cell_type": "markdown",
   "metadata": {},
   "source": [
    "## Preprocessing of the data\n",
    "---\n",
    "In this notebook, we do some tests to clean our data and remove strange points."
   ]
  },
  {
   "cell_type": "code",
   "execution_count": 3,
   "metadata": {},
   "outputs": [],
   "source": [
    "import pandas as pd\n",
    "from zipfile import ZipFile\n",
    "import datetime"
   ]
  },
  {
   "cell_type": "code",
   "execution_count": 4,
   "metadata": {},
   "outputs": [],
   "source": [
    "ID_df = pd.read_csv(\"ID_2013_merge_data.csv\")"
   ]
  },
  {
   "cell_type": "code",
   "execution_count": 5,
   "metadata": {},
   "outputs": [
    {
     "data": {
      "text/html": [
       "<div>\n",
       "<style scoped>\n",
       "    .dataframe tbody tr th:only-of-type {\n",
       "        vertical-align: middle;\n",
       "    }\n",
       "\n",
       "    .dataframe tbody tr th {\n",
       "        vertical-align: top;\n",
       "    }\n",
       "\n",
       "    .dataframe thead th {\n",
       "        text-align: right;\n",
       "    }\n",
       "</style>\n",
       "<table border=\"1\" class=\"dataframe\">\n",
       "  <thead>\n",
       "    <tr style=\"text-align: right;\">\n",
       "      <th></th>\n",
       "      <th>zone_id</th>\n",
       "      <th>person_id</th>\n",
       "      <th>time_checkin</th>\n",
       "      <th>year</th>\n",
       "      <th>Lat</th>\n",
       "      <th>lon</th>\n",
       "      <th>building</th>\n",
       "      <th>country</th>\n",
       "    </tr>\n",
       "  </thead>\n",
       "  <tbody>\n",
       "    <tr>\n",
       "      <th>0</th>\n",
       "      <td>4b05880ff964a5201caf22e3</td>\n",
       "      <td>1170327</td>\n",
       "      <td>2013-01-02 06:04:37+00:00</td>\n",
       "      <td>2013</td>\n",
       "      <td>1.145077</td>\n",
       "      <td>104.010916</td>\n",
       "      <td>Other Great Outdoors</td>\n",
       "      <td>ID</td>\n",
       "    </tr>\n",
       "    <tr>\n",
       "      <th>1</th>\n",
       "      <td>4b05880ff964a5201caf22e3</td>\n",
       "      <td>1170327</td>\n",
       "      <td>2013-01-11 11:31:56+00:00</td>\n",
       "      <td>2013</td>\n",
       "      <td>1.145077</td>\n",
       "      <td>104.010916</td>\n",
       "      <td>Other Great Outdoors</td>\n",
       "      <td>ID</td>\n",
       "    </tr>\n",
       "    <tr>\n",
       "      <th>2</th>\n",
       "      <td>4b05880ff964a5201caf22e3</td>\n",
       "      <td>1170327</td>\n",
       "      <td>2013-01-15 10:18:07+00:00</td>\n",
       "      <td>2013</td>\n",
       "      <td>1.145077</td>\n",
       "      <td>104.010916</td>\n",
       "      <td>Other Great Outdoors</td>\n",
       "      <td>ID</td>\n",
       "    </tr>\n",
       "    <tr>\n",
       "      <th>3</th>\n",
       "      <td>4b05880ff964a5201caf22e3</td>\n",
       "      <td>408433</td>\n",
       "      <td>2013-01-30 11:12:24+00:00</td>\n",
       "      <td>2013</td>\n",
       "      <td>1.145077</td>\n",
       "      <td>104.010916</td>\n",
       "      <td>Other Great Outdoors</td>\n",
       "      <td>ID</td>\n",
       "    </tr>\n",
       "    <tr>\n",
       "      <th>4</th>\n",
       "      <td>4b05880ff964a5201caf22e3</td>\n",
       "      <td>408433</td>\n",
       "      <td>2013-01-30 11:25:09+00:00</td>\n",
       "      <td>2013</td>\n",
       "      <td>1.145077</td>\n",
       "      <td>104.010916</td>\n",
       "      <td>Other Great Outdoors</td>\n",
       "      <td>ID</td>\n",
       "    </tr>\n",
       "    <tr>\n",
       "      <th>...</th>\n",
       "      <td>...</td>\n",
       "      <td>...</td>\n",
       "      <td>...</td>\n",
       "      <td>...</td>\n",
       "      <td>...</td>\n",
       "      <td>...</td>\n",
       "      <td>...</td>\n",
       "      <td>...</td>\n",
       "    </tr>\n",
       "    <tr>\n",
       "      <th>771866</th>\n",
       "      <td>52b6c7f611d255fa1a7392a3</td>\n",
       "      <td>707704</td>\n",
       "      <td>2013-12-22 11:08:20+00:00</td>\n",
       "      <td>2013</td>\n",
       "      <td>0.475714</td>\n",
       "      <td>121.241539</td>\n",
       "      <td>Rest Area</td>\n",
       "      <td>ID</td>\n",
       "    </tr>\n",
       "    <tr>\n",
       "      <th>771867</th>\n",
       "      <td>52b6ca4e498e15b460e38ab2</td>\n",
       "      <td>683822</td>\n",
       "      <td>2013-12-22 11:17:49+00:00</td>\n",
       "      <td>2013</td>\n",
       "      <td>-6.227489</td>\n",
       "      <td>106.825379</td>\n",
       "      <td>Australian Restaurant</td>\n",
       "      <td>ID</td>\n",
       "    </tr>\n",
       "    <tr>\n",
       "      <th>771868</th>\n",
       "      <td>52b6cada11d248b7b56d2374</td>\n",
       "      <td>1264982</td>\n",
       "      <td>2013-12-22 11:20:12+00:00</td>\n",
       "      <td>2013</td>\n",
       "      <td>-8.569188</td>\n",
       "      <td>114.090425</td>\n",
       "      <td>Home (private)</td>\n",
       "      <td>ID</td>\n",
       "    </tr>\n",
       "    <tr>\n",
       "      <th>771869</th>\n",
       "      <td>52b6cd3e498ea6b8c72aa057</td>\n",
       "      <td>1499509</td>\n",
       "      <td>2013-12-22 11:46:16+00:00</td>\n",
       "      <td>2013</td>\n",
       "      <td>1.459921</td>\n",
       "      <td>124.823780</td>\n",
       "      <td>Home (private)</td>\n",
       "      <td>ID</td>\n",
       "    </tr>\n",
       "    <tr>\n",
       "      <th>771870</th>\n",
       "      <td>52b77960498eff6710be0a2c</td>\n",
       "      <td>707704</td>\n",
       "      <td>2013-12-22 23:46:05+00:00</td>\n",
       "      <td>2013</td>\n",
       "      <td>-1.756957</td>\n",
       "      <td>120.648751</td>\n",
       "      <td>Home (private)</td>\n",
       "      <td>ID</td>\n",
       "    </tr>\n",
       "  </tbody>\n",
       "</table>\n",
       "<p>771871 rows × 8 columns</p>\n",
       "</div>"
      ],
      "text/plain": [
       "                         zone_id  person_id               time_checkin  year  \\\n",
       "0       4b05880ff964a5201caf22e3    1170327  2013-01-02 06:04:37+00:00  2013   \n",
       "1       4b05880ff964a5201caf22e3    1170327  2013-01-11 11:31:56+00:00  2013   \n",
       "2       4b05880ff964a5201caf22e3    1170327  2013-01-15 10:18:07+00:00  2013   \n",
       "3       4b05880ff964a5201caf22e3     408433  2013-01-30 11:12:24+00:00  2013   \n",
       "4       4b05880ff964a5201caf22e3     408433  2013-01-30 11:25:09+00:00  2013   \n",
       "...                          ...        ...                        ...   ...   \n",
       "771866  52b6c7f611d255fa1a7392a3     707704  2013-12-22 11:08:20+00:00  2013   \n",
       "771867  52b6ca4e498e15b460e38ab2     683822  2013-12-22 11:17:49+00:00  2013   \n",
       "771868  52b6cada11d248b7b56d2374    1264982  2013-12-22 11:20:12+00:00  2013   \n",
       "771869  52b6cd3e498ea6b8c72aa057    1499509  2013-12-22 11:46:16+00:00  2013   \n",
       "771870  52b77960498eff6710be0a2c     707704  2013-12-22 23:46:05+00:00  2013   \n",
       "\n",
       "             Lat         lon               building country  \n",
       "0       1.145077  104.010916   Other Great Outdoors      ID  \n",
       "1       1.145077  104.010916   Other Great Outdoors      ID  \n",
       "2       1.145077  104.010916   Other Great Outdoors      ID  \n",
       "3       1.145077  104.010916   Other Great Outdoors      ID  \n",
       "4       1.145077  104.010916   Other Great Outdoors      ID  \n",
       "...          ...         ...                    ...     ...  \n",
       "771866  0.475714  121.241539              Rest Area      ID  \n",
       "771867 -6.227489  106.825379  Australian Restaurant      ID  \n",
       "771868 -8.569188  114.090425         Home (private)      ID  \n",
       "771869  1.459921  124.823780         Home (private)      ID  \n",
       "771870 -1.756957  120.648751         Home (private)      ID  \n",
       "\n",
       "[771871 rows x 8 columns]"
      ]
     },
     "execution_count": 5,
     "metadata": {},
     "output_type": "execute_result"
    }
   ],
   "source": [
    "ID_df"
   ]
  },
  {
   "cell_type": "markdown",
   "metadata": {},
   "source": [
    "### Preprocessing\n"
   ]
  },
  {
   "cell_type": "markdown",
   "metadata": {},
   "source": [
    "In our tests, we check that all points have latitude between -90 and 90 and longitude between -180 and 180. We notice after the tests that all our point are in the right intervals and that we don't have to delete anything."
   ]
  },
  {
   "cell_type": "code",
   "execution_count": 6,
   "metadata": {},
   "outputs": [],
   "source": [
    "#Helpers\n",
    "def dropLocationId(df):\n",
    "    return df.drop(['zone_id'],axis=1)\n",
    "\n",
    "def dropCheckinTime(df):\n",
    "    return df.drop(['time_checkin'],axis=1)\n",
    "\n",
    "def dropMissingLatOrLng(df):\n",
    "    return df[~((df['Lat'] == 0) | (df['lon'] == 0))]\n",
    "\n",
    "def dropInvalidLat(df):\n",
    "    return df[(df['Lat'] < 90) & (df['Lat'] > -90)]\n",
    "\n",
    "def dropInvalidLng(df):\n",
    "    return df[(df['lon'] < 180) & (df['lon'] > -180)]\n",
    "\n",
    "def preprocess(df):\n",
    "    df_ = df.copy()\n",
    "    #drop Rows having NaN/Null/NaT Values \n",
    "    df_ = df_.dropna(how=\"any\")\n",
    "\n",
    "    #drop Rows having invalid Values \n",
    "    df_ = dropMissingLatOrLng(df_)\n",
    "\n",
    "    df_ = dropInvalidLat(df_)\n",
    "    df_ = dropInvalidLng(df_)\n",
    "    return df_\n",
    "    \n"
   ]
  },
  {
   "cell_type": "code",
   "execution_count": 7,
   "metadata": {},
   "outputs": [],
   "source": [
    "totalChekinsBefore = ID_df.shape[0]"
   ]
  },
  {
   "cell_type": "code",
   "execution_count": 8,
   "metadata": {},
   "outputs": [],
   "source": [
    "clean_df = preprocess(ID_df)"
   ]
  },
  {
   "cell_type": "code",
   "execution_count": 9,
   "metadata": {},
   "outputs": [
    {
     "name": "stdout",
     "output_type": "stream",
     "text": [
      "Before the preprocessing, the dataset had : 771871 checkins\n",
      "After the preprocessing, the dataset had : 771871 checkins\n"
     ]
    }
   ],
   "source": [
    "\n",
    "#Total number of check-ins \n",
    "print('Before the preprocessing, the dataset had : '+ str(totalChekinsBefore) + ' checkins')\n",
    "print('After the preprocessing, the dataset had : '+ str(clean_df.shape[0]) + ' checkins')\n"
   ]
  },
  {
   "cell_type": "code",
   "execution_count": null,
   "metadata": {},
   "outputs": [],
   "source": []
  }
 ],
 "metadata": {
  "kernelspec": {
   "display_name": "Python 3",
   "language": "python",
   "name": "python3"
  },
  "language_info": {
   "codemirror_mode": {
    "name": "ipython",
    "version": 3
   },
   "file_extension": ".py",
   "mimetype": "text/x-python",
   "name": "python",
   "nbconvert_exporter": "python",
   "pygments_lexer": "ipython3",
   "version": "3.7.6"
  }
 },
 "nbformat": 4,
 "nbformat_minor": 4
}
