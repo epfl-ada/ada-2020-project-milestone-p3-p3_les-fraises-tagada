{
 "cells": [
  {
   "cell_type": "markdown",
   "metadata": {},
   "source": [
    "# A hitchhiker's guide to the world\n",
    "---\n",
    "### Context\n",
    "In the paper, \"Friendship and mobility : User movement in Location-Based Social Networks\", the authors answered one important question : what influence do friends have on movements ?<br>\n",
    "But what if you don't have friends in the first place and just want to blend in ? Imagine : You just arrived in a new country. You don't know how to behave with the locals and what to expect. How friendly are people ? How often is it socially acceptable to meet ? Where should you meet ? Where and when should you go on holidays ? <br>\n",
    "In this Notebook, we will attempt to answer some of these questions for multiple countries.\n",
    "\n",
    "---\n",
    "### The data\n",
    "“Global-scale Check-in Dataset with User Social Networks” from two research projects at this address (project 5 by Dingqi Yang): ( https://sites.google.com/site/yangdingqi/home/foursquare-dataset#h.p_7rmPjnwFGIx9). The dataset is coming from Foursquare and it contains the information of 22,809,624 checkins by 114,324 users, 607,333 friendship links and 3,820,891 POIs. It contains a set of worldwide check-ins with country flags taken over about two years and two snapshots of the corresponding user social network before (in Mar. 2012) and after (in May 2014) the check-in data collection period. <br>\n",
    "In order to work with this dataset, we broke it down in smaller datasets, based on countries. In order to learn more on how we broke our dataset down, please consult the scripts \"createSubDataset.ipynb\" and \"preprocess.ipynb\".\n",
    "\n",
    "---\n",
    "### Structure of this notebook\n",
    "In every subpart of this notebook, we will try to answer a different question. You will find the index of all questions here : \n",
    "\n",
    "- Step 1 : How many friends do natives have ?\n",
    "    - Subpart 1 : Finding the nationality of users.\n",
    "    - Subpart 2 : Computing number of friends.\n",
    "- Step 2 : Behaving like Natives, to what POIs do users go and in what context ?\n",
    "- Step 3 : We want to go deeper with our previous analysis and compute a basic mobility movement.\n",
    "---\n",
    "### Note :\n",
    "In the following notebook, all the calculations are done on one database, because they all have the same structure. When it come to the data story, we will extract information from all datasets."
   ]
  },
  {
   "cell_type": "code",
   "execution_count": 1,
   "metadata": {},
   "outputs": [],
   "source": [
    "import pandas as pd\n",
    "from zipfile import ZipFile\n",
    "import datetime\n",
    "import math\n",
    "import numpy as np\n",
    "import matplotlib.pyplot as plt\n",
    "import seaborn"
   ]
  },
  {
   "cell_type": "markdown",
   "metadata": {},
   "source": [
    "### Step 1 : How many friends do native users have ?"
   ]
  },
  {
   "cell_type": "markdown",
   "metadata": {},
   "source": [
    "We want to measure how sociable natives are. In order to do so, we look at how many friends they have."
   ]
  },
  {
   "cell_type": "markdown",
   "metadata": {},
   "source": [
    "### Subpart 1 : Finding nationalities\n",
    "---\n",
    "\n",
    "We open a dataset (example : the check-ins that took place in the US in 2013). However, we don't know if all the people of this dataset are American or foreigner on vacation. Since we want to study the behaviour of the locals, we need a criterion to distinguish natives from foreigners.\n",
    "- Idea 1 : We choose that a person is considered a native if he checks in more than five times in the country.\n",
    "- Idea 2 : A person is considered a foreigner if he never checks in a home."
   ]
  },
  {
   "cell_type": "markdown",
   "metadata": {},
   "source": [
    "#### Idea 1"
   ]
  },
  {
   "cell_type": "code",
   "execution_count": 2,
   "metadata": {},
   "outputs": [],
   "source": [
    "data_file = ZipFile('../data.zip')\n",
    "df_US = pd.read_csv(data_file.open('data/1_US_2013_merge_data.csv'))"
   ]
  },
  {
   "cell_type": "code",
   "execution_count": 3,
   "metadata": {},
   "outputs": [
    {
     "data": {
      "text/html": [
       "<div>\n",
       "<style scoped>\n",
       "    .dataframe tbody tr th:only-of-type {\n",
       "        vertical-align: middle;\n",
       "    }\n",
       "\n",
       "    .dataframe tbody tr th {\n",
       "        vertical-align: top;\n",
       "    }\n",
       "\n",
       "    .dataframe thead th {\n",
       "        text-align: right;\n",
       "    }\n",
       "</style>\n",
       "<table border=\"1\" class=\"dataframe\">\n",
       "  <thead>\n",
       "    <tr style=\"text-align: right;\">\n",
       "      <th></th>\n",
       "      <th>zone_id</th>\n",
       "      <th>person_id</th>\n",
       "      <th>time_checkin</th>\n",
       "      <th>year</th>\n",
       "      <th>Lat</th>\n",
       "      <th>lon</th>\n",
       "      <th>building</th>\n",
       "      <th>country</th>\n",
       "    </tr>\n",
       "  </thead>\n",
       "  <tbody>\n",
       "    <tr>\n",
       "      <th>0</th>\n",
       "      <td>3fd66200f964a52000e71ee3</td>\n",
       "      <td>319827</td>\n",
       "      <td>2013-01-13 00:49:25+00:00</td>\n",
       "      <td>2013</td>\n",
       "      <td>40.733596</td>\n",
       "      <td>-74.003139</td>\n",
       "      <td>Jazz Club</td>\n",
       "      <td>US</td>\n",
       "    </tr>\n",
       "    <tr>\n",
       "      <th>1</th>\n",
       "      <td>3fd66200f964a52000e71ee3</td>\n",
       "      <td>496140</td>\n",
       "      <td>2013-01-13 01:12:49+00:00</td>\n",
       "      <td>2013</td>\n",
       "      <td>40.733596</td>\n",
       "      <td>-74.003139</td>\n",
       "      <td>Jazz Club</td>\n",
       "      <td>US</td>\n",
       "    </tr>\n",
       "    <tr>\n",
       "      <th>2</th>\n",
       "      <td>3fd66200f964a52000e71ee3</td>\n",
       "      <td>288077</td>\n",
       "      <td>2013-02-16 02:29:11+00:00</td>\n",
       "      <td>2013</td>\n",
       "      <td>40.733596</td>\n",
       "      <td>-74.003139</td>\n",
       "      <td>Jazz Club</td>\n",
       "      <td>US</td>\n",
       "    </tr>\n",
       "    <tr>\n",
       "      <th>3</th>\n",
       "      <td>3fd66200f964a52000e71ee3</td>\n",
       "      <td>191931</td>\n",
       "      <td>2013-02-17 03:50:53+00:00</td>\n",
       "      <td>2013</td>\n",
       "      <td>40.733596</td>\n",
       "      <td>-74.003139</td>\n",
       "      <td>Jazz Club</td>\n",
       "      <td>US</td>\n",
       "    </tr>\n",
       "    <tr>\n",
       "      <th>4</th>\n",
       "      <td>3fd66200f964a52000e71ee3</td>\n",
       "      <td>1402791</td>\n",
       "      <td>2013-02-19 03:48:11+00:00</td>\n",
       "      <td>2013</td>\n",
       "      <td>40.733596</td>\n",
       "      <td>-74.003139</td>\n",
       "      <td>Jazz Club</td>\n",
       "      <td>US</td>\n",
       "    </tr>\n",
       "    <tr>\n",
       "      <th>...</th>\n",
       "      <td>...</td>\n",
       "      <td>...</td>\n",
       "      <td>...</td>\n",
       "      <td>...</td>\n",
       "      <td>...</td>\n",
       "      <td>...</td>\n",
       "      <td>...</td>\n",
       "      <td>...</td>\n",
       "    </tr>\n",
       "    <tr>\n",
       "      <th>1187592</th>\n",
       "      <td>52b6450811d248b7b0610626</td>\n",
       "      <td>1243714</td>\n",
       "      <td>2013-12-22 01:50:10+00:00</td>\n",
       "      <td>2013</td>\n",
       "      <td>33.873249</td>\n",
       "      <td>-118.387099</td>\n",
       "      <td>Home (private)</td>\n",
       "      <td>US</td>\n",
       "    </tr>\n",
       "    <tr>\n",
       "      <th>1187593</th>\n",
       "      <td>52b65856498e252aade808b5</td>\n",
       "      <td>120150</td>\n",
       "      <td>2013-12-22 03:12:02+00:00</td>\n",
       "      <td>2013</td>\n",
       "      <td>39.281602</td>\n",
       "      <td>-76.593760</td>\n",
       "      <td>Lounge</td>\n",
       "      <td>US</td>\n",
       "    </tr>\n",
       "    <tr>\n",
       "      <th>1187594</th>\n",
       "      <td>52b66bde498e5705ff1ef091</td>\n",
       "      <td>212157</td>\n",
       "      <td>2013-12-22 04:48:06+00:00</td>\n",
       "      <td>2013</td>\n",
       "      <td>33.546776</td>\n",
       "      <td>-117.131694</td>\n",
       "      <td>Other Great Outdoors</td>\n",
       "      <td>US</td>\n",
       "    </tr>\n",
       "    <tr>\n",
       "      <th>1187595</th>\n",
       "      <td>52b67f4e498e403b8cccbe27</td>\n",
       "      <td>133864</td>\n",
       "      <td>2013-12-22 06:24:48+00:00</td>\n",
       "      <td>2013</td>\n",
       "      <td>42.331624</td>\n",
       "      <td>-83.066572</td>\n",
       "      <td>Dive Bar</td>\n",
       "      <td>US</td>\n",
       "    </tr>\n",
       "    <tr>\n",
       "      <th>1187596</th>\n",
       "      <td>52b74bbd498e433066cef285</td>\n",
       "      <td>269225</td>\n",
       "      <td>2013-12-22 20:30:22+00:00</td>\n",
       "      <td>2013</td>\n",
       "      <td>35.359689</td>\n",
       "      <td>-83.201076</td>\n",
       "      <td>American Restaurant</td>\n",
       "      <td>US</td>\n",
       "    </tr>\n",
       "  </tbody>\n",
       "</table>\n",
       "<p>1187597 rows × 8 columns</p>\n",
       "</div>"
      ],
      "text/plain": [
       "                          zone_id  person_id               time_checkin  year  \\\n",
       "0        3fd66200f964a52000e71ee3     319827  2013-01-13 00:49:25+00:00  2013   \n",
       "1        3fd66200f964a52000e71ee3     496140  2013-01-13 01:12:49+00:00  2013   \n",
       "2        3fd66200f964a52000e71ee3     288077  2013-02-16 02:29:11+00:00  2013   \n",
       "3        3fd66200f964a52000e71ee3     191931  2013-02-17 03:50:53+00:00  2013   \n",
       "4        3fd66200f964a52000e71ee3    1402791  2013-02-19 03:48:11+00:00  2013   \n",
       "...                           ...        ...                        ...   ...   \n",
       "1187592  52b6450811d248b7b0610626    1243714  2013-12-22 01:50:10+00:00  2013   \n",
       "1187593  52b65856498e252aade808b5     120150  2013-12-22 03:12:02+00:00  2013   \n",
       "1187594  52b66bde498e5705ff1ef091     212157  2013-12-22 04:48:06+00:00  2013   \n",
       "1187595  52b67f4e498e403b8cccbe27     133864  2013-12-22 06:24:48+00:00  2013   \n",
       "1187596  52b74bbd498e433066cef285     269225  2013-12-22 20:30:22+00:00  2013   \n",
       "\n",
       "               Lat         lon              building country  \n",
       "0        40.733596  -74.003139             Jazz Club      US  \n",
       "1        40.733596  -74.003139             Jazz Club      US  \n",
       "2        40.733596  -74.003139             Jazz Club      US  \n",
       "3        40.733596  -74.003139             Jazz Club      US  \n",
       "4        40.733596  -74.003139             Jazz Club      US  \n",
       "...            ...         ...                   ...     ...  \n",
       "1187592  33.873249 -118.387099        Home (private)      US  \n",
       "1187593  39.281602  -76.593760                Lounge      US  \n",
       "1187594  33.546776 -117.131694  Other Great Outdoors      US  \n",
       "1187595  42.331624  -83.066572              Dive Bar      US  \n",
       "1187596  35.359689  -83.201076   American Restaurant      US  \n",
       "\n",
       "[1187597 rows x 8 columns]"
      ]
     },
     "execution_count": 3,
     "metadata": {},
     "output_type": "execute_result"
    }
   ],
   "source": [
    "df_US"
   ]
  },
  {
   "cell_type": "code",
   "execution_count": 5,
   "metadata": {},
   "outputs": [
    {
     "data": {
      "text/plain": [
       "person_id\n",
       "19         146\n",
       "54          40\n",
       "58          73\n",
       "120         56\n",
       "178         91\n",
       "          ... \n",
       "2169607      5\n",
       "2169991     27\n",
       "2174127     92\n",
       "2174989      6\n",
       "2181131    116\n",
       "Name: zone_id, Length: 16987, dtype: int64"
      ]
     },
     "execution_count": 5,
     "metadata": {},
     "output_type": "execute_result"
    }
   ],
   "source": [
    "US_participants = df_US.groupby(by = \"person_id\").agg(\"count\")\n",
    "US_natives =  US_participants[US_participants[\"zone_id\"] >= 5]\n",
    "US_foreign = US_participants[US_participants[\"zone_id\"] < 5]\n",
    "US_natives[\"zone_id\"]"
   ]
  },
  {
   "cell_type": "code",
   "execution_count": 6,
   "metadata": {},
   "outputs": [
    {
     "name": "stdout",
     "output_type": "stream",
     "text": [
      "Our initial dataset had 20495 users.\n",
      "Out of them, 16987 are considered natives.\n",
      "Out of all our users, 17% have low checkins.\n"
     ]
    }
   ],
   "source": [
    "df_US_foreign = df_US[df_US[\"person_id\"].isin(US_foreign.index.tolist())]\n",
    "df_US_natives = df_US[df_US[\"person_id\"].isin(US_natives.index.tolist())]\n",
    "print('Our initial dataset had {} users.'.format(US_participants.shape[0]))\n",
    "print('Out of them, {} are considered natives.'.format(US_natives.shape[0]))\n",
    "print('Out of all our users, {}% have low checkins.'.format(round((1-US_natives.shape[0]/US_participants.shape[0])*100)))"
   ]
  },
  {
   "cell_type": "markdown",
   "metadata": {},
   "source": [
    "Getting rid of users can seem a bit dangerous because we lose data. However, since we get rid of users with a low number of Checkins, there isn't too much loss. Furthermore, we can associate low checkin users to visitors and get an approximation of the number of visitors."
   ]
  },
  {
   "cell_type": "code",
   "execution_count": null,
   "metadata": {},
   "outputs": [],
   "source": []
  },
  {
   "cell_type": "markdown",
   "metadata": {},
   "source": [
    "#### Most popular places among natives"
   ]
  },
  {
   "cell_type": "code",
   "execution_count": 24,
   "metadata": {},
   "outputs": [
    {
     "data": {
      "text/plain": [
       "<BarContainer object of 20 artists>"
      ]
     },
     "execution_count": 24,
     "metadata": {},
     "output_type": "execute_result"
    },
    {
     "data": {
      "image/png": "[encoded data removed]",
      "text/plain": [
       "<Figure size 1152x360 with 1 Axes>"
      ]
     },
     "metadata": {
      "needs_background": "light"
     },
     "output_type": "display_data"
    }
   ],
   "source": [
    "popular_places = df_US_natives.groupby(by = \"building\").agg(\"count\").sort_values(by = \"person_id\", ascending = False)\n",
    "\n",
    "fig, ax = plt.subplots(figsize=(16,5))\n",
    "\n",
    "plt.title('Number of Checkins for places visited together')\n",
    "plt.ylabel('Number of Checkins')\n",
    "plt.xlabel('Places visited together')\n",
    "plt.xticks(rotation=90)\n",
    "\n",
    "my_index = [str(element) for element in popular_places.head(20).index]\n",
    "my_values = [element[0] for element in popular_places.head(20).values]\n",
    "plt.bar(my_index, my_values)"
   ]
  },
  {
   "cell_type": "markdown",
   "metadata": {},
   "source": [
    "**Interpretation**: Unsurprinsingly, most people check-in at their home and on the workplace (places where they go the most). The fact that hole locations are the most popular chckin place justifies our approach for assigning house locations to users. We also notice that they check-in a lot in Coffee Shops (which we can interpret as \"they check-in during break time\"). For Airports, we can interpret it as traveling for work (or going from one coast to another) or leisure. When it comes to food, the two most popular restaurants to go to are American and Mexican restaurants (Fast-food being the third one). This may come from the fact that these three types of restaurants are the most represented in the country. <br>\n",
    "We notice that if we increase the threshold from \"We choose that a person is considered a native if he checks in more than five times in the country\" to \"We choose that a person is considered a native if he checks in more than ten times in the country\", our most popular places stay the same for natives and foreigners."
   ]
  },
  {
   "cell_type": "code",
   "execution_count": 25,
   "metadata": {
    "scrolled": false
   },
   "outputs": [
    {
     "data": {
      "text/plain": [
       "<BarContainer object of 20 artists>"
      ]
     },
     "execution_count": 25,
     "metadata": {},
     "output_type": "execute_result"
    },
    {
     "data": {
      "image/png": "[encoded data removed]",
      "text/plain": [
       "<Figure size 1152x360 with 1 Axes>"
      ]
     },
     "metadata": {
      "needs_background": "light"
     },
     "output_type": "display_data"
    }
   ],
   "source": [
    "popular_places_foreign = df_US_foreign.groupby(by = \"building\").agg(\"count\").sort_values(by = \"person_id\", ascending = False)\n",
    "\n",
    "fig, ax = plt.subplots(figsize=(16,5))\n",
    "\n",
    "plt.title('Number of Checkins for places visited together')\n",
    "plt.ylabel('Number of Checkins')\n",
    "plt.xlabel('Places visited together')\n",
    "plt.xticks(rotation=90)\n",
    "\n",
    "my_index = [str(element) for element in popular_places_foreign.head(20).index]\n",
    "my_values = [element[0] for element in popular_places_foreign.head(20).values]\n",
    "plt.bar(my_index, my_values)"
   ]
  },
  {
   "cell_type": "code",
   "execution_count": 9,
   "metadata": {},
   "outputs": [
    {
     "data": {
      "text/html": [
       "<div>\n",
       "<style scoped>\n",
       "    .dataframe tbody tr th:only-of-type {\n",
       "        vertical-align: middle;\n",
       "    }\n",
       "\n",
       "    .dataframe tbody tr th {\n",
       "        vertical-align: top;\n",
       "    }\n",
       "\n",
       "    .dataframe thead th {\n",
       "        text-align: right;\n",
       "    }\n",
       "</style>\n",
       "<table border=\"1\" class=\"dataframe\">\n",
       "  <thead>\n",
       "    <tr style=\"text-align: right;\">\n",
       "      <th></th>\n",
       "      <th>zone_id</th>\n",
       "      <th>person_id</th>\n",
       "      <th>time_checkin</th>\n",
       "      <th>year</th>\n",
       "      <th>Lat</th>\n",
       "      <th>lon</th>\n",
       "      <th>building</th>\n",
       "      <th>country</th>\n",
       "    </tr>\n",
       "  </thead>\n",
       "  <tbody>\n",
       "    <tr>\n",
       "      <th>365691</th>\n",
       "      <td>4b47caf8f964a520f13e26e3</td>\n",
       "      <td>107355</td>\n",
       "      <td>2013-01-03 19:59:33+00:00</td>\n",
       "      <td>2013</td>\n",
       "      <td>41.531396</td>\n",
       "      <td>-93.555966</td>\n",
       "      <td>Home (private)</td>\n",
       "      <td>US</td>\n",
       "    </tr>\n",
       "    <tr>\n",
       "      <th>365693</th>\n",
       "      <td>4b47caf8f964a520f13e26e3</td>\n",
       "      <td>107355</td>\n",
       "      <td>2013-01-08 00:09:35+00:00</td>\n",
       "      <td>2013</td>\n",
       "      <td>41.531396</td>\n",
       "      <td>-93.555966</td>\n",
       "      <td>Home (private)</td>\n",
       "      <td>US</td>\n",
       "    </tr>\n",
       "    <tr>\n",
       "      <th>587581</th>\n",
       "      <td>4bc62588f360ef3b333adb2d</td>\n",
       "      <td>500843</td>\n",
       "      <td>2013-11-29 19:49:08+00:00</td>\n",
       "      <td>2013</td>\n",
       "      <td>28.367592</td>\n",
       "      <td>-81.510266</td>\n",
       "      <td>Home (private)</td>\n",
       "      <td>US</td>\n",
       "    </tr>\n",
       "    <tr>\n",
       "      <th>658612</th>\n",
       "      <td>4c03d46e9a7920a1fc5cd079</td>\n",
       "      <td>156601</td>\n",
       "      <td>2013-01-27 06:16:51+00:00</td>\n",
       "      <td>2013</td>\n",
       "      <td>40.833966</td>\n",
       "      <td>-81.806039</td>\n",
       "      <td>Home (private)</td>\n",
       "      <td>US</td>\n",
       "    </tr>\n",
       "    <tr>\n",
       "      <th>693549</th>\n",
       "      <td>4c3035fd7cc0c9b6151bed9a</td>\n",
       "      <td>252081</td>\n",
       "      <td>2013-01-28 06:22:10+00:00</td>\n",
       "      <td>2013</td>\n",
       "      <td>33.433488</td>\n",
       "      <td>-86.686288</td>\n",
       "      <td>Home (private)</td>\n",
       "      <td>US</td>\n",
       "    </tr>\n",
       "    <tr>\n",
       "      <th>...</th>\n",
       "      <td>...</td>\n",
       "      <td>...</td>\n",
       "      <td>...</td>\n",
       "      <td>...</td>\n",
       "      <td>...</td>\n",
       "      <td>...</td>\n",
       "      <td>...</td>\n",
       "      <td>...</td>\n",
       "    </tr>\n",
       "    <tr>\n",
       "      <th>1184766</th>\n",
       "      <td>5236144b11d27df7715dfd83</td>\n",
       "      <td>217728</td>\n",
       "      <td>2013-09-15 20:11:19+00:00</td>\n",
       "      <td>2013</td>\n",
       "      <td>38.630324</td>\n",
       "      <td>-121.325569</td>\n",
       "      <td>Home (private)</td>\n",
       "      <td>US</td>\n",
       "    </tr>\n",
       "    <tr>\n",
       "      <th>1184956</th>\n",
       "      <td>5239b34611d2ab4763dec28a</td>\n",
       "      <td>1267538</td>\n",
       "      <td>2013-09-18 14:07:49+00:00</td>\n",
       "      <td>2013</td>\n",
       "      <td>40.726044</td>\n",
       "      <td>-73.883070</td>\n",
       "      <td>Home (private)</td>\n",
       "      <td>US</td>\n",
       "    </tr>\n",
       "    <tr>\n",
       "      <th>1185037</th>\n",
       "      <td>523b4634498ea178a5a57a94</td>\n",
       "      <td>278252</td>\n",
       "      <td>2013-09-19 18:46:07+00:00</td>\n",
       "      <td>2013</td>\n",
       "      <td>32.349171</td>\n",
       "      <td>-97.389477</td>\n",
       "      <td>Home (private)</td>\n",
       "      <td>US</td>\n",
       "    </tr>\n",
       "    <tr>\n",
       "      <th>1187465</th>\n",
       "      <td>52a636eb11d21b372b71cfc1</td>\n",
       "      <td>1161008</td>\n",
       "      <td>2013-12-10 21:30:06+00:00</td>\n",
       "      <td>2013</td>\n",
       "      <td>39.474366</td>\n",
       "      <td>-84.475014</td>\n",
       "      <td>Home (private)</td>\n",
       "      <td>US</td>\n",
       "    </tr>\n",
       "    <tr>\n",
       "      <th>1187485</th>\n",
       "      <td>52a804e811d2566a41c32ef7</td>\n",
       "      <td>1460762</td>\n",
       "      <td>2013-12-11 06:24:22+00:00</td>\n",
       "      <td>2013</td>\n",
       "      <td>34.667531</td>\n",
       "      <td>-118.235119</td>\n",
       "      <td>Home (private)</td>\n",
       "      <td>US</td>\n",
       "    </tr>\n",
       "  </tbody>\n",
       "</table>\n",
       "<p>110 rows × 8 columns</p>\n",
       "</div>"
      ],
      "text/plain": [
       "                          zone_id  person_id               time_checkin  year  \\\n",
       "365691   4b47caf8f964a520f13e26e3     107355  2013-01-03 19:59:33+00:00  2013   \n",
       "365693   4b47caf8f964a520f13e26e3     107355  2013-01-08 00:09:35+00:00  2013   \n",
       "587581   4bc62588f360ef3b333adb2d     500843  2013-11-29 19:49:08+00:00  2013   \n",
       "658612   4c03d46e9a7920a1fc5cd079     156601  2013-01-27 06:16:51+00:00  2013   \n",
       "693549   4c3035fd7cc0c9b6151bed9a     252081  2013-01-28 06:22:10+00:00  2013   \n",
       "...                           ...        ...                        ...   ...   \n",
       "1184766  5236144b11d27df7715dfd83     217728  2013-09-15 20:11:19+00:00  2013   \n",
       "1184956  5239b34611d2ab4763dec28a    1267538  2013-09-18 14:07:49+00:00  2013   \n",
       "1185037  523b4634498ea178a5a57a94     278252  2013-09-19 18:46:07+00:00  2013   \n",
       "1187465  52a636eb11d21b372b71cfc1    1161008  2013-12-10 21:30:06+00:00  2013   \n",
       "1187485  52a804e811d2566a41c32ef7    1460762  2013-12-11 06:24:22+00:00  2013   \n",
       "\n",
       "               Lat         lon        building country  \n",
       "365691   41.531396  -93.555966  Home (private)      US  \n",
       "365693   41.531396  -93.555966  Home (private)      US  \n",
       "587581   28.367592  -81.510266  Home (private)      US  \n",
       "658612   40.833966  -81.806039  Home (private)      US  \n",
       "693549   33.433488  -86.686288  Home (private)      US  \n",
       "...            ...         ...             ...     ...  \n",
       "1184766  38.630324 -121.325569  Home (private)      US  \n",
       "1184956  40.726044  -73.883070  Home (private)      US  \n",
       "1185037  32.349171  -97.389477  Home (private)      US  \n",
       "1187465  39.474366  -84.475014  Home (private)      US  \n",
       "1187485  34.667531 -118.235119  Home (private)      US  \n",
       "\n",
       "[110 rows x 8 columns]"
      ]
     },
     "execution_count": 9,
     "metadata": {},
     "output_type": "execute_result"
    }
   ],
   "source": [
    "df_US_foreign[df_US_foreign[\"building\"] == \"Home (private)\"]"
   ]
  },
  {
   "cell_type": "markdown",
   "metadata": {},
   "source": [
    "**Interpretation**: We look back at the people we classified as foreigners and want to see where they checked-in in order to verify our assumptions. We see that they checked mainly in Hotels, Airports, Malls, Restaurants and Coffee Shops which are destinations that any tourist would go to. However, since we have much less data then last part, we can suspect that these popular places may know high variance. <br>\n",
    "We however notice that a lot of users who are classified as foreigners check-in at a home. While this can be considered as them checking in a friend or them just going to a zone_id with many houses, we want to investigate. We try a second model, where we classify as foreigner people who never check-in in a Home."
   ]
  },
  {
   "cell_type": "markdown",
   "metadata": {},
   "source": [
    "#### Idea 2"
   ]
  },
  {
   "cell_type": "code",
   "execution_count": 10,
   "metadata": {},
   "outputs": [],
   "source": [
    "list_of_people_with_homes = df_US[df_US[\"building\"] == \"Home (private)\"].person_id.unique().tolist()\n",
    "df_US_natives_2 = df_US[df_US[\"person_id\"].isin(list_of_people_with_homes)]"
   ]
  },
  {
   "cell_type": "code",
   "execution_count": 11,
   "metadata": {
    "scrolled": true
   },
   "outputs": [
    {
     "name": "stdout",
     "output_type": "stream",
     "text": [
      "Our initial dataset had 20495 users.\n",
      "Out of them, 5364 are considered natives.\n"
     ]
    }
   ],
   "source": [
    "print('Our initial dataset had {} users.'.format(US_participants.shape[0]))\n",
    "print('Out of them, {} are considered natives.'.format(len(df_US_natives_2.person_id.unique().tolist())))"
   ]
  },
  {
   "cell_type": "markdown",
   "metadata": {},
   "source": [
    "We notice that when we keep only users with a Home, the number of users falls drastically. We therefore think that going to a home is not an interesting criterion for determining if a user is a native."
   ]
  },
  {
   "cell_type": "code",
   "execution_count": null,
   "metadata": {},
   "outputs": [],
   "source": []
  },
  {
   "cell_type": "markdown",
   "metadata": {},
   "source": [
    "### Subpart 2 : Number of friends\n",
    "---\n",
    "\n",
    "Now that we have our native users, we want to see how many friends they have. This can serve as an index of how social are the people of the country. In order to have more precise, we compute a 90% confidence interval."
   ]
  },
  {
   "cell_type": "code",
   "execution_count": 12,
   "metadata": {},
   "outputs": [],
   "source": [
    "friend_file = ZipFile('../dataset_WWW2019.zip')\n",
    "df_friend = pd.read_csv(friend_file.open('dataset_WWW2019/dataset_WWW_friendship_new.txt'), header = None, sep = \"\\t\", names = [\"friend\", \"pal\"])\n",
    "nb_friends = []\n",
    "for i in range(20):\n",
    "    sample_abb = US_foreign.sample(frac = 0.8, random_state = i)\n",
    "    df_friend = df_friend[df_friend.friend.isin(sample_abb.index.tolist())]\n",
    "    nb_friends.append(df_friend.shape[0]/len(df_friend.friend.unique()))\n",
    "nb_friends.sort()"
   ]
  },
  {
   "cell_type": "code",
   "execution_count": 13,
   "metadata": {},
   "outputs": [
    {
     "name": "stdout",
     "output_type": "stream",
     "text": [
      "Natives have on average 6.263280768106974 friends, our 90% confidence interval is[ 4.91578947368421, 7.822822822822823]\n"
     ]
    }
   ],
   "source": [
    "print(\"Natives have on average {} friends, our 90% confidence interval is[ {}, {}]\".format(np.average(nb_friends), nb_friends[1], nb_friends[-2]))"
   ]
  },
  {
   "cell_type": "markdown",
   "metadata": {},
   "source": [
    "We have an average, however, we don't even know if it is relevant or not. In order to do so, we look at our quartiles."
   ]
  },
  {
   "cell_type": "code",
   "execution_count": 14,
   "metadata": {},
   "outputs": [
    {
     "data": {
      "text/plain": [
       "<matplotlib.axes._subplots.AxesSubplot at 0x7f97881140d0>"
      ]
     },
     "execution_count": 14,
     "metadata": {},
     "output_type": "execute_result"
    },
    {
     "data": {
      "image/png": "[encoded data removed]",
      "text/plain": [
       "<Figure size 1008x576 with 2 Axes>"
      ]
     },
     "metadata": {
      "needs_background": "light"
     },
     "output_type": "display_data"
    }
   ],
   "source": [
    "df_friend_old = pd.read_csv(friend_file.open('dataset_WWW2019/dataset_WWW_friendship_old.txt'), header = None, sep = \"\\t\", names = [\"friend\", \"pal\"])\n",
    "fig, ax = plt.subplots(1,2, figsize = (14, 8), sharey = True)\n",
    "ax[0].set_title(\"Number of friends of users (old)\")\n",
    "ax[1].set_title(\"Number of friends of users (new)\")\n",
    "ax[0].set_ylabel(\"number of friends\")\n",
    "df_friend_old.groupby(\"friend\").count().boxplot(ax = ax[0], column = ['pal'],showfliers=False)\n",
    "df_friend.groupby(\"friend\").count().boxplot(ax = ax[1], column = ['pal'],showfliers=False)"
   ]
  },
  {
   "cell_type": "markdown",
   "metadata": {},
   "source": [
    "The results indicate us that most users don't have many friends on Foursquare. There are a few \"super users\" that have a lot of friends and they falsify our average values. If we want to find meaningful results, we should work on the quartiles. This structure of friendships is topical of social networks.<br>\n",
    "We notice that the number seems to have grown over time, but not by a lot."
   ]
  },
  {
   "cell_type": "code",
   "execution_count": null,
   "metadata": {},
   "outputs": [],
   "source": []
  },
  {
   "cell_type": "markdown",
   "metadata": {},
   "source": [
    "### Step 2 : Behaving like natives"
   ]
  },
  {
   "cell_type": "markdown",
   "metadata": {},
   "source": [
    "Now that we have an idea of how sociable natives are, we need to identify how they behave. In order to do so, we must identify the places they go to, at what frequency, and what combinations of places they go on the same day.<br>\n",
    "The graph below gives us some information on activities that natives do, but we don't know much about the context. Imagine for example that everybody goes shopping on the week-end : what a major \"faux-pas\" it would be to go on weekdays after work ! What if you want to hang out ? What combination of activities should you choose ? So many questions..."
   ]
  },
  {
   "cell_type": "code",
   "execution_count": 15,
   "metadata": {},
   "outputs": [
    {
     "data": {
      "text/html": [
       "<div>\n",
       "<style scoped>\n",
       "    .dataframe tbody tr th:only-of-type {\n",
       "        vertical-align: middle;\n",
       "    }\n",
       "\n",
       "    .dataframe tbody tr th {\n",
       "        vertical-align: top;\n",
       "    }\n",
       "\n",
       "    .dataframe thead th {\n",
       "        text-align: right;\n",
       "    }\n",
       "</style>\n",
       "<table border=\"1\" class=\"dataframe\">\n",
       "  <thead>\n",
       "    <tr style=\"text-align: right;\">\n",
       "      <th></th>\n",
       "      <th>zone_id</th>\n",
       "      <th>person_id</th>\n",
       "      <th>time_checkin</th>\n",
       "      <th>year</th>\n",
       "      <th>Lat</th>\n",
       "      <th>lon</th>\n",
       "      <th>country</th>\n",
       "    </tr>\n",
       "    <tr>\n",
       "      <th>building</th>\n",
       "      <th></th>\n",
       "      <th></th>\n",
       "      <th></th>\n",
       "      <th></th>\n",
       "      <th></th>\n",
       "      <th></th>\n",
       "      <th></th>\n",
       "    </tr>\n",
       "  </thead>\n",
       "  <tbody>\n",
       "    <tr>\n",
       "      <th>Home (private)</th>\n",
       "      <td>57199</td>\n",
       "      <td>57199</td>\n",
       "      <td>57199</td>\n",
       "      <td>57199</td>\n",
       "      <td>57199</td>\n",
       "      <td>57199</td>\n",
       "      <td>57199</td>\n",
       "    </tr>\n",
       "    <tr>\n",
       "      <th>Office</th>\n",
       "      <td>46155</td>\n",
       "      <td>46155</td>\n",
       "      <td>46155</td>\n",
       "      <td>46155</td>\n",
       "      <td>46155</td>\n",
       "      <td>46155</td>\n",
       "      <td>46155</td>\n",
       "    </tr>\n",
       "    <tr>\n",
       "      <th>Coffee Shop</th>\n",
       "      <td>41905</td>\n",
       "      <td>41905</td>\n",
       "      <td>41905</td>\n",
       "      <td>41905</td>\n",
       "      <td>41905</td>\n",
       "      <td>41905</td>\n",
       "      <td>41905</td>\n",
       "    </tr>\n",
       "    <tr>\n",
       "      <th>Airport</th>\n",
       "      <td>39503</td>\n",
       "      <td>39503</td>\n",
       "      <td>39503</td>\n",
       "      <td>39503</td>\n",
       "      <td>39503</td>\n",
       "      <td>39503</td>\n",
       "      <td>39503</td>\n",
       "    </tr>\n",
       "    <tr>\n",
       "      <th>Gym</th>\n",
       "      <td>33533</td>\n",
       "      <td>33533</td>\n",
       "      <td>33533</td>\n",
       "      <td>33533</td>\n",
       "      <td>33533</td>\n",
       "      <td>33533</td>\n",
       "      <td>33533</td>\n",
       "    </tr>\n",
       "    <tr>\n",
       "      <th>American Restaurant</th>\n",
       "      <td>31631</td>\n",
       "      <td>31631</td>\n",
       "      <td>31631</td>\n",
       "      <td>31631</td>\n",
       "      <td>31631</td>\n",
       "      <td>31631</td>\n",
       "      <td>31631</td>\n",
       "    </tr>\n",
       "    <tr>\n",
       "      <th>Bar</th>\n",
       "      <td>28661</td>\n",
       "      <td>28661</td>\n",
       "      <td>28661</td>\n",
       "      <td>28661</td>\n",
       "      <td>28661</td>\n",
       "      <td>28661</td>\n",
       "      <td>28661</td>\n",
       "    </tr>\n",
       "    <tr>\n",
       "      <th>Grocery Store</th>\n",
       "      <td>27498</td>\n",
       "      <td>27498</td>\n",
       "      <td>27498</td>\n",
       "      <td>27498</td>\n",
       "      <td>27498</td>\n",
       "      <td>27498</td>\n",
       "      <td>27498</td>\n",
       "    </tr>\n",
       "    <tr>\n",
       "      <th>Building</th>\n",
       "      <td>20612</td>\n",
       "      <td>20612</td>\n",
       "      <td>20612</td>\n",
       "      <td>20612</td>\n",
       "      <td>20612</td>\n",
       "      <td>20612</td>\n",
       "      <td>20612</td>\n",
       "    </tr>\n",
       "    <tr>\n",
       "      <th>Hotel</th>\n",
       "      <td>20564</td>\n",
       "      <td>20564</td>\n",
       "      <td>20564</td>\n",
       "      <td>20564</td>\n",
       "      <td>20564</td>\n",
       "      <td>20564</td>\n",
       "      <td>20564</td>\n",
       "    </tr>\n",
       "  </tbody>\n",
       "</table>\n",
       "</div>"
      ],
      "text/plain": [
       "                     zone_id  person_id  time_checkin   year    Lat    lon  \\\n",
       "building                                                                     \n",
       "Home (private)         57199      57199         57199  57199  57199  57199   \n",
       "Office                 46155      46155         46155  46155  46155  46155   \n",
       "Coffee Shop            41905      41905         41905  41905  41905  41905   \n",
       "Airport                39503      39503         39503  39503  39503  39503   \n",
       "Gym                    33533      33533         33533  33533  33533  33533   \n",
       "American Restaurant    31631      31631         31631  31631  31631  31631   \n",
       "Bar                    28661      28661         28661  28661  28661  28661   \n",
       "Grocery Store          27498      27498         27498  27498  27498  27498   \n",
       "Building               20612      20612         20612  20612  20612  20612   \n",
       "Hotel                  20564      20564         20564  20564  20564  20564   \n",
       "\n",
       "                     country  \n",
       "building                      \n",
       "Home (private)         57199  \n",
       "Office                 46155  \n",
       "Coffee Shop            41905  \n",
       "Airport                39503  \n",
       "Gym                    33533  \n",
       "American Restaurant    31631  \n",
       "Bar                    28661  \n",
       "Grocery Store          27498  \n",
       "Building               20612  \n",
       "Hotel                  20564  "
      ]
     },
     "execution_count": 15,
     "metadata": {},
     "output_type": "execute_result"
    }
   ],
   "source": [
    "# We recall the results we had last time. We need to identify if this behavior is representative of the whole\n",
    "# population or if this is particular to a subset of individuals.\n",
    "df_US_natives.groupby(by = \"building\").agg(\"count\").sort_values(by = \"person_id\", ascending = False).head(10)"
   ]
  },
  {
   "cell_type": "code",
   "execution_count": 16,
   "metadata": {},
   "outputs": [
    {
     "name": "stderr",
     "output_type": "stream",
     "text": [
      "/home/truc/miniconda3/lib/python3.7/site-packages/ipykernel_launcher.py:3: SettingWithCopyWarning: \n",
      "A value is trying to be set on a copy of a slice from a DataFrame.\n",
      "Try using .loc[row_indexer,col_indexer] = value instead\n",
      "\n",
      "See the caveats in the documentation: https://pandas.pydata.org/pandas-docs/stable/user_guide/indexing.html#returning-a-view-versus-a-copy\n",
      "  This is separate from the ipykernel package so we can avoid doing imports until\n"
     ]
    }
   ],
   "source": [
    "# We start by creating a column indicating the day of the checkin\n",
    "\n",
    "df_US_natives[\"day_of_check_in\"] = df_US_natives[\"time_checkin\"].apply(lambda x : x[:10])\n",
    "\n",
    "# We start by looking at how many checkins each user does daily. From this, we extract the list of users and \n",
    "# that checked-in more than once per day and the dataframe of their checkins.\n",
    "multi_day_dataset = df_US_natives.groupby([\"person_id\", \"day_of_check_in\"]).agg(\"count\").sort_values(by = \"zone_id\", ascending = False)\n",
    "list_of_multi_day = multi_day_dataset[multi_day_dataset[\"zone_id\"]>1].index.to_list()\n",
    "dataframe_multi_day = df_US_natives.set_index([\"person_id\", \"day_of_check_in\"]).loc[list_of_multi_day].drop(columns = [\"year\", \"zone_id\",\"Lat\", \"lon\", \"country\"])"
   ]
  },
  {
   "cell_type": "code",
   "execution_count": 17,
   "metadata": {},
   "outputs": [
    {
     "data": {
      "text/plain": [
       "0.5500185602343166"
      ]
     },
     "execution_count": 17,
     "metadata": {},
     "output_type": "execute_result"
    }
   ],
   "source": [
    "# A first interesting observation is that most checkins come from people that checked more than once per day.\n",
    "# We can interpret this as : a minority of users are responsible for the majority of the checkins.\n",
    "dataframe_multi_day.shape[0]/df_US_natives.shape[0]"
   ]
  },
  {
   "cell_type": "code",
   "execution_count": 18,
   "metadata": {},
   "outputs": [
    {
     "data": {
      "text/html": [
       "<div>\n",
       "<style scoped>\n",
       "    .dataframe tbody tr th:only-of-type {\n",
       "        vertical-align: middle;\n",
       "    }\n",
       "\n",
       "    .dataframe tbody tr th {\n",
       "        vertical-align: top;\n",
       "    }\n",
       "\n",
       "    .dataframe thead th {\n",
       "        text-align: right;\n",
       "    }\n",
       "</style>\n",
       "<table border=\"1\" class=\"dataframe\">\n",
       "  <thead>\n",
       "    <tr style=\"text-align: right;\">\n",
       "      <th></th>\n",
       "      <th></th>\n",
       "      <th>time_checkin</th>\n",
       "      <th>building</th>\n",
       "    </tr>\n",
       "    <tr>\n",
       "      <th>person_id</th>\n",
       "      <th>day_of_check_in</th>\n",
       "      <th></th>\n",
       "      <th></th>\n",
       "    </tr>\n",
       "  </thead>\n",
       "  <tbody>\n",
       "    <tr>\n",
       "      <th rowspan=\"5\" valign=\"top\">347405</th>\n",
       "      <th>2013-01-12</th>\n",
       "      <td>2013-01-12 05:49:08+00:00</td>\n",
       "      <td>University</td>\n",
       "    </tr>\n",
       "    <tr>\n",
       "      <th>2013-01-12</th>\n",
       "      <td>2013-01-12 07:40:27+00:00</td>\n",
       "      <td>University</td>\n",
       "    </tr>\n",
       "    <tr>\n",
       "      <th>2013-01-12</th>\n",
       "      <td>2013-01-12 08:17:48+00:00</td>\n",
       "      <td>University</td>\n",
       "    </tr>\n",
       "    <tr>\n",
       "      <th>2013-01-12</th>\n",
       "      <td>2013-01-12 09:25:48+00:00</td>\n",
       "      <td>Student Center</td>\n",
       "    </tr>\n",
       "    <tr>\n",
       "      <th>2013-01-12</th>\n",
       "      <td>2013-01-12 09:26:03+00:00</td>\n",
       "      <td>Student Center</td>\n",
       "    </tr>\n",
       "    <tr>\n",
       "      <th>...</th>\n",
       "      <th>...</th>\n",
       "      <td>...</td>\n",
       "      <td>...</td>\n",
       "    </tr>\n",
       "    <tr>\n",
       "      <th>413005</th>\n",
       "      <th>2013-03-24</th>\n",
       "      <td>2013-03-24 16:32:05+00:00</td>\n",
       "      <td>Diner</td>\n",
       "    </tr>\n",
       "    <tr>\n",
       "      <th rowspan=\"2\" valign=\"top\">98454</th>\n",
       "      <th>2013-01-18</th>\n",
       "      <td>2013-01-18 01:40:15+00:00</td>\n",
       "      <td>Bar</td>\n",
       "    </tr>\n",
       "    <tr>\n",
       "      <th>2013-01-18</th>\n",
       "      <td>2013-01-18 14:34:21+00:00</td>\n",
       "      <td>Hospital</td>\n",
       "    </tr>\n",
       "    <tr>\n",
       "      <th rowspan=\"2\" valign=\"top\">102862</th>\n",
       "      <th>2013-02-19</th>\n",
       "      <td>2013-02-19 13:50:52+00:00</td>\n",
       "      <td>School</td>\n",
       "    </tr>\n",
       "    <tr>\n",
       "      <th>2013-02-19</th>\n",
       "      <td>2013-02-19 20:54:08+00:00</td>\n",
       "      <td>School</td>\n",
       "    </tr>\n",
       "  </tbody>\n",
       "</table>\n",
       "<p>648990 rows × 2 columns</p>\n",
       "</div>"
      ],
      "text/plain": [
       "                                        time_checkin        building\n",
       "person_id day_of_check_in                                           \n",
       "347405    2013-01-12       2013-01-12 05:49:08+00:00      University\n",
       "          2013-01-12       2013-01-12 07:40:27+00:00      University\n",
       "          2013-01-12       2013-01-12 08:17:48+00:00      University\n",
       "          2013-01-12       2013-01-12 09:25:48+00:00  Student Center\n",
       "          2013-01-12       2013-01-12 09:26:03+00:00  Student Center\n",
       "...                                              ...             ...\n",
       "413005    2013-03-24       2013-03-24 16:32:05+00:00           Diner\n",
       "98454     2013-01-18       2013-01-18 01:40:15+00:00             Bar\n",
       "          2013-01-18       2013-01-18 14:34:21+00:00        Hospital\n",
       "102862    2013-02-19       2013-02-19 13:50:52+00:00          School\n",
       "          2013-02-19       2013-02-19 20:54:08+00:00          School\n",
       "\n",
       "[648990 rows x 2 columns]"
      ]
     },
     "execution_count": 18,
     "metadata": {},
     "output_type": "execute_result"
    }
   ],
   "source": [
    "dataframe_multi_day"
   ]
  },
  {
   "cell_type": "code",
   "execution_count": 19,
   "metadata": {},
   "outputs": [],
   "source": [
    "# There are some people who check multiple times a day to the same place. We interpret this as them checking-in \n",
    "# On their workplace or at their home. This does not interest us. As a result, we eliminate users who check-in\n",
    "# only at the same place.\n",
    "\n",
    "count_nb_checkin_per_day = dataframe_multi_day.groupby(by = [\"person_id\", \"day_of_check_in\", \"building\"]).agg(\"count\").reset_index()\n",
    "inter = count_nb_checkin_per_day.groupby(by = [\"person_id\", \"day_of_check_in\"]).agg(\"count\")\n",
    "inter_list = inter[inter[\"building\"]>1].index.to_list()\n",
    "people_who_checked_at_multiple_places = count_nb_checkin_per_day.set_index([\"person_id\", \"day_of_check_in\"]).loc[inter_list].reset_index()\n",
    "merged_db = people_who_checked_at_multiple_places.merge(people_who_checked_at_multiple_places, on = [\"person_id\", \"day_of_check_in\"])\n",
    "merged_db = merged_db[merged_db[\"building_x\"] != merged_db[\"building_y\"]].drop(columns = [\"time_checkin_x\"])"
   ]
  },
  {
   "cell_type": "code",
   "execution_count": 20,
   "metadata": {},
   "outputs": [],
   "source": [
    "# We now put on a label indicating the two activities that are done at the same time. The label is : \n",
    "# (activity_1, activity_2). Since (activity_1, activity_2) = (activity_2, activity_1), we have each row repeated \n",
    "# twice. We will take care of this later.\n",
    "inter = pd.DataFrame()\n",
    "inter[\"first_building\"] = merged_db[\"building_x\"]\n",
    "inter[\"second_building\"] = merged_db[\"building_y\"]\n",
    "inter_list = inter.values.tolist()\n",
    "merged_db[\"label\"] = [tuple(sorted(list(val))) for val in inter_list]"
   ]
  },
  {
   "cell_type": "code",
   "execution_count": 21,
   "metadata": {},
   "outputs": [
    {
     "data": {
      "text/html": [
       "<div>\n",
       "<style scoped>\n",
       "    .dataframe tbody tr th:only-of-type {\n",
       "        vertical-align: middle;\n",
       "    }\n",
       "\n",
       "    .dataframe tbody tr th {\n",
       "        vertical-align: top;\n",
       "    }\n",
       "\n",
       "    .dataframe thead th {\n",
       "        text-align: right;\n",
       "    }\n",
       "</style>\n",
       "<table border=\"1\" class=\"dataframe\">\n",
       "  <thead>\n",
       "    <tr style=\"text-align: right;\">\n",
       "      <th></th>\n",
       "      <th>person_id</th>\n",
       "      <th>day_of_check_in</th>\n",
       "      <th>building_x</th>\n",
       "      <th>building_y</th>\n",
       "      <th>time_checkin_y</th>\n",
       "      <th>label</th>\n",
       "    </tr>\n",
       "  </thead>\n",
       "  <tbody>\n",
       "    <tr>\n",
       "      <th>1</th>\n",
       "      <td>19</td>\n",
       "      <td>2013-01-05</td>\n",
       "      <td>Airport</td>\n",
       "      <td>Tech Startup</td>\n",
       "      <td>1</td>\n",
       "      <td>(Airport, Tech Startup)</td>\n",
       "    </tr>\n",
       "    <tr>\n",
       "      <th>2</th>\n",
       "      <td>19</td>\n",
       "      <td>2013-01-05</td>\n",
       "      <td>Tech Startup</td>\n",
       "      <td>Airport</td>\n",
       "      <td>1</td>\n",
       "      <td>(Airport, Tech Startup)</td>\n",
       "    </tr>\n",
       "    <tr>\n",
       "      <th>5</th>\n",
       "      <td>19</td>\n",
       "      <td>2013-01-09</td>\n",
       "      <td>Coffee Shop</td>\n",
       "      <td>University</td>\n",
       "      <td>1</td>\n",
       "      <td>(Coffee Shop, University)</td>\n",
       "    </tr>\n",
       "    <tr>\n",
       "      <th>6</th>\n",
       "      <td>19</td>\n",
       "      <td>2013-01-09</td>\n",
       "      <td>University</td>\n",
       "      <td>Coffee Shop</td>\n",
       "      <td>1</td>\n",
       "      <td>(Coffee Shop, University)</td>\n",
       "    </tr>\n",
       "    <tr>\n",
       "      <th>9</th>\n",
       "      <td>19</td>\n",
       "      <td>2013-01-11</td>\n",
       "      <td>Bar</td>\n",
       "      <td>Italian Restaurant</td>\n",
       "      <td>1</td>\n",
       "      <td>(Bar, Italian Restaurant)</td>\n",
       "    </tr>\n",
       "    <tr>\n",
       "      <th>...</th>\n",
       "      <td>...</td>\n",
       "      <td>...</td>\n",
       "      <td>...</td>\n",
       "      <td>...</td>\n",
       "      <td>...</td>\n",
       "      <td>...</td>\n",
       "    </tr>\n",
       "    <tr>\n",
       "      <th>1876122</th>\n",
       "      <td>2181131</td>\n",
       "      <td>2013-04-24</td>\n",
       "      <td>Residential Building (Apartment / Condo)</td>\n",
       "      <td>Home (private)</td>\n",
       "      <td>1</td>\n",
       "      <td>(Home (private), Residential Building (Apartme...</td>\n",
       "    </tr>\n",
       "    <tr>\n",
       "      <th>1876125</th>\n",
       "      <td>2181131</td>\n",
       "      <td>2013-04-25</td>\n",
       "      <td>Building</td>\n",
       "      <td>Residential Building (Apartment / Condo)</td>\n",
       "      <td>1</td>\n",
       "      <td>(Building, Residential Building (Apartment / C...</td>\n",
       "    </tr>\n",
       "    <tr>\n",
       "      <th>1876126</th>\n",
       "      <td>2181131</td>\n",
       "      <td>2013-04-25</td>\n",
       "      <td>Residential Building (Apartment / Condo)</td>\n",
       "      <td>Building</td>\n",
       "      <td>1</td>\n",
       "      <td>(Building, Residential Building (Apartment / C...</td>\n",
       "    </tr>\n",
       "    <tr>\n",
       "      <th>1876129</th>\n",
       "      <td>2181131</td>\n",
       "      <td>2013-04-29</td>\n",
       "      <td>Building</td>\n",
       "      <td>Home (private)</td>\n",
       "      <td>1</td>\n",
       "      <td>(Building, Home (private))</td>\n",
       "    </tr>\n",
       "    <tr>\n",
       "      <th>1876130</th>\n",
       "      <td>2181131</td>\n",
       "      <td>2013-04-29</td>\n",
       "      <td>Home (private)</td>\n",
       "      <td>Building</td>\n",
       "      <td>1</td>\n",
       "      <td>(Building, Home (private))</td>\n",
       "    </tr>\n",
       "  </tbody>\n",
       "</table>\n",
       "<p>1303374 rows × 6 columns</p>\n",
       "</div>"
      ],
      "text/plain": [
       "         person_id day_of_check_in                                building_x  \\\n",
       "1               19      2013-01-05                                   Airport   \n",
       "2               19      2013-01-05                              Tech Startup   \n",
       "5               19      2013-01-09                               Coffee Shop   \n",
       "6               19      2013-01-09                                University   \n",
       "9               19      2013-01-11                                       Bar   \n",
       "...            ...             ...                                       ...   \n",
       "1876122    2181131      2013-04-24  Residential Building (Apartment / Condo)   \n",
       "1876125    2181131      2013-04-25                                  Building   \n",
       "1876126    2181131      2013-04-25  Residential Building (Apartment / Condo)   \n",
       "1876129    2181131      2013-04-29                                  Building   \n",
       "1876130    2181131      2013-04-29                            Home (private)   \n",
       "\n",
       "                                       building_y  time_checkin_y  \\\n",
       "1                                    Tech Startup               1   \n",
       "2                                         Airport               1   \n",
       "5                                      University               1   \n",
       "6                                     Coffee Shop               1   \n",
       "9                              Italian Restaurant               1   \n",
       "...                                           ...             ...   \n",
       "1876122                            Home (private)               1   \n",
       "1876125  Residential Building (Apartment / Condo)               1   \n",
       "1876126                                  Building               1   \n",
       "1876129                            Home (private)               1   \n",
       "1876130                                  Building               1   \n",
       "\n",
       "                                                     label  \n",
       "1                                  (Airport, Tech Startup)  \n",
       "2                                  (Airport, Tech Startup)  \n",
       "5                                (Coffee Shop, University)  \n",
       "6                                (Coffee Shop, University)  \n",
       "9                                (Bar, Italian Restaurant)  \n",
       "...                                                    ...  \n",
       "1876122  (Home (private), Residential Building (Apartme...  \n",
       "1876125  (Building, Residential Building (Apartment / C...  \n",
       "1876126  (Building, Residential Building (Apartment / C...  \n",
       "1876129                         (Building, Home (private))  \n",
       "1876130                         (Building, Home (private))  \n",
       "\n",
       "[1303374 rows x 6 columns]"
      ]
     },
     "execution_count": 21,
     "metadata": {},
     "output_type": "execute_result"
    }
   ],
   "source": [
    "merged_db"
   ]
  },
  {
   "cell_type": "code",
   "execution_count": 22,
   "metadata": {},
   "outputs": [],
   "source": [
    "# Now, we want to evaluate the occurence of each label, we also divide our values by 2 in order to compensate\n",
    "# the fact that (activity_1, activity_2) = (activity_2, activity_1)\n",
    "db_ordered_by_labels = merged_db.groupby(\"label\").agg(\"count\").sort_values(by = \"person_id\", ascending = False).drop(columns = [\"day_of_check_in\",\"building_x\", \"building_y\", \"time_checkin_y\" ])\n",
    "db_ordered_by_labels[\"person_id\"] = db_ordered_by_labels[\"person_id\"]/2"
   ]
  },
  {
   "cell_type": "code",
   "execution_count": 23,
   "metadata": {},
   "outputs": [
    {
     "data": {
      "text/plain": [
       "<BarContainer object of 20 artists>"
      ]
     },
     "execution_count": 23,
     "metadata": {},
     "output_type": "execute_result"
    },
    {
     "data": {
      "image/png": "[encoded data removed]",
      "text/plain": [
       "<Figure size 1152x360 with 1 Axes>"
      ]
     },
     "metadata": {
      "needs_background": "light"
     },
     "output_type": "display_data"
    }
   ],
   "source": [
    "fig, ax = plt.subplots(figsize=(16,5))\n",
    "\n",
    "plt.title('Number of Checkins for places visited together')\n",
    "plt.ylabel('Number of Checkins')\n",
    "plt.xlabel('Places visited together')\n",
    "plt.xticks(rotation=90)\n",
    "\n",
    "my_index = [str(element) for element in db_ordered_by_labels.head(20).index]\n",
    "my_values = [element[0] for element in db_ordered_by_labels.head(20).values]\n",
    "plt.bar(my_index, my_values)"
   ]
  },
  {
   "cell_type": "markdown",
   "metadata": {},
   "source": [
    "#### Partial conclusion\n",
    "When we look at the places visited together, we notice that there are a lot of them that are of the form (Place, Home (private)) This comes from the fact that, as we have seen before, Home (private) is the most popular chackin place for our population. We notice that among our popular combinations, we have some that can be explained both intuitively and culturally. For example, the combination (Coffee Shop, Office) has already been mentionned earlier. While the combination, (Airport, Hotel) can be explained intuitively as \"when we come from the airport, we have to find a hotel to stay\". However, the fact that it is the fifth most popular combination can only be explained as \"In the US, since the country is so large, it is much more common to travel by plane\"."
   ]
  },
  {
   "cell_type": "code",
   "execution_count": null,
   "metadata": {},
   "outputs": [],
   "source": []
  },
  {
   "cell_type": "markdown",
   "metadata": {},
   "source": [
    "We now sum up everything that we have done in Step 2 as a python function. In order that our functions translate to other datasets, we check our results with the dataset of japanese logins."
   ]
  },
  {
   "cell_type": "code",
   "execution_count": 41,
   "metadata": {},
   "outputs": [],
   "source": [
    "def get_natives(dataframe):\n",
    "    # We start by removing all users with low checkins, they are classified as foreigner and therefore don't\n",
    "    # give us a clear view of how to behave like the natives.\n",
    "    all_participants = dataframe.groupby(by = \"person_id\").agg(\"count\")\n",
    "    df_person_natives =  all_participants[all_participants[\"zone_id\"] >= 5]\n",
    "    df_natives = dataframe[dataframe[\"person_id\"].isin(df_person_natives.index.tolist())]\n",
    "    return(df_natives)\n",
    "\n",
    "def get_combination_natives(df_natives):\n",
    "    # We then create a column giving the day of checkins\n",
    "    df_natives[\"day_of_check_in\"] = df_natives[\"time_checkin\"].apply(lambda x : x[:10])\n",
    "    \n",
    "    # We now extract the dataframe of all the users that made multiple checkins per day.\n",
    "    inter = df_natives.groupby([\"person_id\", \"day_of_check_in\"]).agg(\"count\").sort_values(by = \"zone_id\", ascending = False)\n",
    "    list_of_multi_day = inter[inter[\"zone_id\"]>1].index.to_list()\n",
    "    dataframe_multi_day = df_natives.set_index([\"person_id\", \"day_of_check_in\"]).loc[list_of_multi_day].drop(columns = [\"year\", \"zone_id\",\"Lat\", \"lon\", \"country\"])\n",
    "    \n",
    "    # The next step is surpressing all the check-ins from people who check-in from the same place in order to focus on\n",
    "    # only on people who visit multiple places on the same day.\n",
    "    count_nb_checkin_per_day = dataframe_multi_day.groupby(by = [\"person_id\", \"day_of_check_in\", \"building\"]).agg(\"count\").reset_index()\n",
    "    inter = count_nb_checkin_per_day.groupby(by = [\"person_id\", \"day_of_check_in\"]).agg(\"count\")\n",
    "    inter_list = inter[inter[\"building\"]>1].index.to_list()\n",
    "    people_who_checked_at_multiple_places = count_nb_checkin_per_day.set_index([\"person_id\", \"day_of_check_in\"]).loc[inter_list].reset_index()\n",
    "    merged_db = people_who_checked_at_multiple_places.merge(people_who_checked_at_multiple_places, on = [\"person_id\", \"day_of_check_in\"])\n",
    "    merged_db = merged_db[merged_db[\"building_x\"] != merged_db[\"building_y\"]].drop(columns = [\"time_checkin_x\"])\n",
    "    \n",
    "    # We now put on a label indicating the two activities that are done at the same time. The label is : \n",
    "    # (activity_1, activity_2). Since (activity_1, activity_2) = (activity_2, activity_1), we have each row repeated \n",
    "    # twice. We will take care of this later.\n",
    "    inter = pd.DataFrame()\n",
    "    inter[\"first_building\"] = merged_db[\"building_x\"]\n",
    "    inter[\"second_building\"] = merged_db[\"building_y\"]\n",
    "    inter_list = inter.values.tolist()\n",
    "    merged_db[\"label\"] = [tuple(sorted(list(val))) for val in inter_list]\n",
    "    \n",
    "    return(merged_db)"
   ]
  },
  {
   "cell_type": "code",
   "execution_count": 42,
   "metadata": {},
   "outputs": [
    {
     "name": "stderr",
     "output_type": "stream",
     "text": [
      "/home/truc/miniconda3/lib/python3.7/site-packages/ipykernel_launcher.py:11: SettingWithCopyWarning: \n",
      "A value is trying to be set on a copy of a slice from a DataFrame.\n",
      "Try using .loc[row_indexer,col_indexer] = value instead\n",
      "\n",
      "See the caveats in the documentation: https://pandas.pydata.org/pandas-docs/stable/user_guide/indexing.html#returning-a-view-versus-a-copy\n",
      "  # This is added back by InteractiveShellApp.init_path()\n"
     ]
    }
   ],
   "source": [
    "df_JP = pd.read_csv(data_file.open('data/6_JP_2013_merge_data.csv'))\n",
    "natives_JP = get_natives(df_JP)\n",
    "combination_df_JP = get_combination_natives(natives_JP)\n",
    "db_ordered_by_labels = combination_df_JP.groupby(\"label\").agg(\"count\").sort_values(by = \"person_id\", ascending = False).drop(columns = [\"day_of_check_in\",\"building_x\", \"building_y\", \"time_checkin_y\" ])\n",
    "db_ordered_by_labels[\"person_id\"] = db_ordered_by_labels[\"person_id\"]/2"
   ]
  },
  {
   "cell_type": "code",
   "execution_count": 44,
   "metadata": {},
   "outputs": [
    {
     "data": {
      "text/plain": [
       "<BarContainer object of 20 artists>"
      ]
     },
     "execution_count": 44,
     "metadata": {},
     "output_type": "execute_result"
    },
    {
     "data": {
      "image/png": "[encoded data removed]",
      "text/plain": [
       "<Figure size 1152x360 with 1 Axes>"
      ]
     },
     "metadata": {
      "needs_background": "light"
     },
     "output_type": "display_data"
    }
   ],
   "source": [
    "popular_places = natives_JP.groupby(by = \"building\").agg(\"count\").sort_values(by = \"person_id\", ascending = False)\n",
    "\n",
    "fig, ax = plt.subplots(figsize=(16,5))\n",
    "\n",
    "plt.title('Number of Checkins for places visited together')\n",
    "plt.ylabel('Number of Checkins')\n",
    "plt.xlabel('Places visited together')\n",
    "plt.xticks(rotation=90)\n",
    "\n",
    "my_index = [str(element) for element in popular_places.head(20).index]\n",
    "my_values = [element[0] for element in popular_places.head(20).values]\n",
    "plt.bar(my_index, my_values)"
   ]
  },
  {
   "cell_type": "markdown",
   "metadata": {},
   "source": [
    "We notice that an overwhelming amount of checkins are made in train stations. This is due to the fact that the Shinkansen (bullet train) is very popular (https://en.wikipedia.org/wiki/Transport_in_Japan) and that owning a car is not something as common as in the US. We notice that the most popular places to eat are \"Ramen/noodle house\" and \"Japanese Retaurant\" which makes sense intuitively. We notice also the appearance of typical japanese places like the arcade (who died to soon in all countries except Japan. RIP sweet arcades, we won't forget you).<br>\n",
    "A problem that appears with our data is that when we compute house locations, we look at the place with the biggest number of check-ins. In the case of Japan, that might be the position of the nearest train station from home and not of the real home position."
   ]
  },
  {
   "cell_type": "code",
   "execution_count": 43,
   "metadata": {},
   "outputs": [
    {
     "data": {
      "text/plain": [
       "<BarContainer object of 20 artists>"
      ]
     },
     "execution_count": 43,
     "metadata": {},
     "output_type": "execute_result"
    },
    {
     "data": {
      "image/png": "[encoded data removed]",
      "text/plain": [
       "<Figure size 1152x360 with 1 Axes>"
      ]
     },
     "metadata": {
      "needs_background": "light"
     },
     "output_type": "display_data"
    }
   ],
   "source": [
    "fig, ax = plt.subplots(figsize=(16,5))\n",
    "\n",
    "plt.title('Number of Checkins for places visited together')\n",
    "plt.ylabel('Number of Checkins')\n",
    "plt.xlabel('Places visited together')\n",
    "plt.xticks(rotation=90)\n",
    "\n",
    "my_index = [str(element) for element in db_ordered_by_labels.head(20).index]\n",
    "my_values = [element[0] for element in db_ordered_by_labels.head(20).values]\n",
    "plt.bar(my_index, my_values)"
   ]
  },
  {
   "cell_type": "markdown",
   "metadata": {},
   "source": [
    "Due to the over-representation of \"Train Station\" in our checkins, it becomes difficult to infer meaningful information from the combinations of checkins. What we can guess is that Japanese people use the public transport a lot, both for work and leisure purposes."
   ]
  },
  {
   "cell_type": "markdown",
   "metadata": {},
   "source": [
    "### Step 3 : Computing probabilities"
   ]
  },
  {
   "cell_type": "markdown",
   "metadata": {},
   "source": [
    "During the last two parts, we observed what users did in order to understand their behaviours. We noticed and studied cultural specificities. We now want to compute predictive probabilities. We will try to answer the following questions :<br>\n",
    "- What is the probability that a user checks-in multiple times a day.\n",
    "- If a user checks-in multiple times, what is the probability that he checks-in from the same place (given the place).\n",
    "- If a user checks-in multiple times, what is the probability that he checks-in from different places, and which places is he most likely to check-in from (given the first place). In our model, we will only study the case where we study the previous check-in. More complicated models can try to give predictions out of all the previous check-ins ?"
   ]
  },
  {
   "cell_type": "code",
   "execution_count": null,
   "metadata": {},
   "outputs": [],
   "source": []
  }
 ],
 "metadata": {
  "kernelspec": {
   "display_name": "Python 3",
   "language": "python",
   "name": "python3"
  },
  "language_info": {
   "codemirror_mode": {
    "name": "ipython",
    "version": 3
   },
   "file_extension": ".py",
   "mimetype": "text/x-python",
   "name": "python",
   "nbconvert_exporter": "python",
   "pygments_lexer": "ipython3",
   "version": "3.7.6"
  }
 },
 "nbformat": 4,
 "nbformat_minor": 4
}
