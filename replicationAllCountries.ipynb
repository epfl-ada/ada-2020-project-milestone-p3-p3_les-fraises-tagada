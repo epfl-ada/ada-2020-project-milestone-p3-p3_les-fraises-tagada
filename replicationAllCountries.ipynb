{
 "cells": [
  {
   "cell_type": "markdown",
   "metadata": {},
   "source": [
    "# Finding the home of users\n",
    "---\n",
    "### Context\n",
    "In the paper, \"Friendship and mobility : User movement in Location-Based Social Networks\", the authors answered one important question : what influence do friends have on movements ?<br>\n",
    "The first step that the authors took was finding out the locations of the homes of each user and finding the distribution of the distance between friends' houses. In the present notebook, we will do the same for our new dataset.\n",
    "\n",
    "---\n",
    "### The data\n",
    "“Global-scale Check-in Dataset with User Social Networks” from two research projects at this address (project 5 by Dingqi Yang): ( https://sites.google.com/site/yangdingqi/home/foursquare-dataset#h.p_7rmPjnwFGIx9). The dataset is coming from Foursquare and it contains the information of 22,809,624 checkins by 114,324 users, 607,333 friendship links and 3,820,891 POIs. It contains a set of worldwide check-ins with country flags taken over about two years and two snapshots of the corresponding user social network before (in Mar. 2012) and after (in May 2014) the check-in data collection period. <br>\n",
    "In order to work with this dataset, we broke it down in smaller datasets, based on countries. In order to learn more on how we broke our dataset down, please consult the scripts \"createSubDataset.ipynb\" and \"preprocess.ipynb\".\n",
    "\n",
    "---\n",
    "### Structure of this notebook\n",
    "\n",
    "This notebook contains three steps :\n",
    "\n",
    "- Step 1 : Helper functions\n",
    "- Step 2 : Extracting results (example with one dataset"
   ]
  },
  {
   "cell_type": "markdown",
   "metadata": {},
   "source": [
    "## Imports"
   ]
  },
  {
   "cell_type": "code",
   "execution_count": 2,
   "metadata": {},
   "outputs": [],
   "source": [
    "import warnings\n",
    "import pandas as pd\n",
    "import numpy as np\n",
    "import seaborn as sns\n",
    "import matplotlib.pyplot as plt\n",
    "import pandas as pd\n",
    "from zipfile import ZipFile\n",
    "import math\n",
    "data_path = 'data/'# '../data.zip/data/'\n",
    "#data_file = ZipFile('../data.zip') # Uncomment this line only if you are Clement\n",
    "#raw_dataset_file = ZipFile(\"../dataset_WWW2019.zip\") # Uncomment this line only if you are Clement\n",
    "warnings.simplefilter(action='ignore')"
   ]
  },
  {
   "cell_type": "markdown",
   "metadata": {},
   "source": [
    "### Helper functions"
   ]
  },
  {
   "cell_type": "code",
   "execution_count": 3,
   "metadata": {},
   "outputs": [],
   "source": [
    "# Helper function which finds the distance between two points from their latitude and longitude coordinates\n",
    "# They are used later.\n",
    "\n",
    "def find_distance(lat1, lat2, lon1, lon2):\n",
    "    ### This fonction takes four columns of a dataframe and returns the column with all the distances\n",
    "    ### calculated point by point.\n",
    "    earth_radius = 6373 # In km\n",
    "    lat1 = lat1/180 * math.pi\n",
    "    lat2 = lat2/180 * math.pi\n",
    "    dlat = lat2 - lat1\n",
    "    dlon = (lon1 - lon2)/180 * math.pi\n",
    "    a = (dlat/2).apply(math.sin)**2 + lat1.apply(math.cos) * lat2.apply(math.cos) * (dlon/2).apply(math.sin)**2\n",
    "    c = 2 * (a.apply(math.sqrt) / (1 - a).apply(math.sqrt)).apply(math.atan)\n",
    "    d = earth_radius * c\n",
    "    distance_db = pd.DataFrame(d).rename(columns = {0 : 'distance'})\n",
    "    return(distance_db)\n",
    "\n",
    "\n",
    "# For each user, we want to assign them to one square (the one in which they checked-in the most).*\n",
    "# In order to do so, we create a column named \"my_square\" which gives the name of the square in which each column\n",
    "# is in. We take latitude = 0 and longitude = 0 to be the centre of the origin square.\n",
    "# The names of our 25km * 25km squares are chosen as the tuple (latitude, longitude)\n",
    "# In order to make our code more compact we create a function to create our labeling of squares.\n",
    "\n",
    "def square_label(my_dataframe):\n",
    "    inter = pd.DataFrame()\n",
    "    cos_latitude = (my_dataframe['latitude']/180 * math.pi).apply(math.cos)\n",
    "    inter[\"rounded_latitude\"] = (110.574 * (my_dataframe['latitude'])/25).apply(round)\n",
    "    inter[\"rounded_longitude\"] = (111.320 * cos_latitude* (my_dataframe['longitude'])/25).apply(round)\n",
    "    inter_list = inter.values.tolist()\n",
    "    my_dataframe['my_square'] = [tuple(val) for val in inter_list]\n",
    "    return(my_dataframe)\n",
    "\n",
    "\n",
    "# For each user, we get the number of times where they checked in in a given location. We associate the position\n",
    "# of their home with the position of the location where they checked in the most.\n",
    "# In case of a draw (a user checked in the same number of times in two locations), we average the position of the\n",
    "# house over the position of the most checked in locations.\n",
    "\n",
    "def find_homes_avg(dataframe):\n",
    "    grouped_data = dataframe.groupby([\"user\", \"my_square\"]).count()\n",
    "    grouped_data = grouped_data.reset_index().drop(columns = [\"locid\"])\n",
    "    # We start by getting all the values where there was a draw. (Takes a few minutes)\n",
    "    # We then extract just the columns \"user\" and \"my_square\" to work on them.\n",
    "    draw_data = grouped_data.groupby(\"user\").apply(lambda x: x.loc[x[\"time\"] == x[\"time\"].max()])\n",
    "    draw_value = pd.DataFrame(draw_data[[\"user\", \"my_square\"]].values).rename(columns = {0 : 'user', 1 : 'my_square'})\n",
    "    return(draw_value)\n",
    "\n",
    "\n",
    "# Once we have filtered our home data, we can do our average over the right \"my_square\"\n",
    "\n",
    "def compute_house_position(dataframe, home_data):\n",
    "    dataframe = dataframe.merge(home_data, how = \"inner\", left_on = [\"user\", \"my_square\"], right_on = [\"user\", \"my_square\"])\n",
    "    return(dataframe.groupby(\"user\")[[\"latitude\", \"longitude\"]].mean())\n",
    "\n",
    "\n",
    "# At first, we think of doing a left join between our edge dataset and our house position dataframe. \n",
    "# We however realize that some users never checked in and therefore have no addresses.\n",
    "# As a result, we decide to do an inner join.\n",
    "\n",
    "def join_homes_and_user(dataframe, home_data):\n",
    "    first_join = dataframe.merge(home_data, left_on = \"friend\", right_on = \"user\").rename(columns = {\"latitude\" : \"friend latitude\", \"longitude\" : \"friend longitude\"})\n",
    "    second_join = first_join.merge(home_data, left_on = \"pal\", right_on = \"user\").rename(columns = {\"latitude\" : \"pal latitude\", \"longitude\" : \"pal longitude\"})\n",
    "    return(second_join)"
   ]
  },
  {
   "cell_type": "code",
   "execution_count": 4,
   "metadata": {},
   "outputs": [],
   "source": [
    "# We create a routine to open a dataframe and to compute all the distances between friends' houses. In order to do\n",
    "# so, we use the helper functions coded above.\n",
    "\n",
    "def distance_db_avg(df_friend, dataframe):\n",
    "    # loading the data\n",
    "    checkins = pd.read_csv(data_path+dataframe, names=['locid','user', 'time','year',  'latitude', 'longitude', 'building', 'countries'],header=None, error_bad_lines=False)\n",
    "    # Uncomment the following line only if you are Clement\n",
    "    #checkins = pd.read_csv(data_file.open('data/'+dataframe), names=['locid','user', 'time','year',  'latitude', 'longitude', 'building', 'countries'],header=None, error_bad_lines=False)\n",
    "    \n",
    "    # convert string to number\n",
    "    checkins.drop(0,0,inplace=True)\n",
    "    checkins.user = checkins.user.astype(int)\n",
    "    checkins.latitude = checkins.latitude.astype(float)\n",
    "    checkins.longitude = checkins.longitude.astype(float)\n",
    "    \n",
    "    # Extracting useful informations (House location)\n",
    "    checkins = square_label(checkins)\n",
    "    home_data_avg = find_homes_avg(checkins)\n",
    "    home_positions_avg = compute_house_position(checkins, home_data_avg)\n",
    "    home_positions_avg = home_positions_avg.reset_index()\n",
    "    \n",
    "    # merge on the friend dataframe\n",
    "    df_friend.merge(home_positions_avg, left_on = \"friend\", right_on = \"user\").merge(home_positions_avg, left_on = \"pal\", right_on = \"user\")\n",
    "    friend_home_df_avg = join_homes_and_user(df_friend, home_positions_avg)\n",
    "    distance_db_avg = find_distance(friend_home_df_avg[\"friend latitude\"], friend_home_df_avg[\"pal latitude\"], friend_home_df_avg[\"friend longitude\"], friend_home_df_avg[\"pal longitude\"])\n",
    "    return distance_db_avg"
   ]
  },
  {
   "cell_type": "code",
   "execution_count": 7,
   "metadata": {},
   "outputs": [
    {
     "ename": "NameError",
     "evalue": "name 'raw_dataset_file' is not defined",
     "output_type": "error",
     "traceback": [
      "\u001b[0;31m---------------------------------------------------------------------------\u001b[0m",
      "\u001b[0;31mNameError\u001b[0m                                 Traceback (most recent call last)",
      "\u001b[0;32m<ipython-input-7-e8841e3fe491>\u001b[0m in \u001b[0;36m<module>\u001b[0;34m\u001b[0m\n\u001b[1;32m      1\u001b[0m \u001b[0;31m#df_friend = pd.read_csv(data_path+'dataset_WWW_friendship_new.txt', header = None, sep = \"\\t\", names = [\"friend\", \"pal\"])\u001b[0m\u001b[0;34m\u001b[0m\u001b[0;34m\u001b[0m\u001b[0;34m\u001b[0m\u001b[0m\n\u001b[0;32m----> 2\u001b[0;31m \u001b[0mdf_friend\u001b[0m \u001b[0;34m=\u001b[0m \u001b[0mpd\u001b[0m\u001b[0;34m.\u001b[0m\u001b[0mread_csv\u001b[0m\u001b[0;34m(\u001b[0m\u001b[0mraw_dataset_file\u001b[0m\u001b[0;34m.\u001b[0m\u001b[0mopen\u001b[0m\u001b[0;34m(\u001b[0m\u001b[0;34m'dataset_WWW2019/dataset_WWW_friendship_new.txt'\u001b[0m\u001b[0;34m)\u001b[0m\u001b[0;34m,\u001b[0m \u001b[0mheader\u001b[0m \u001b[0;34m=\u001b[0m \u001b[0;32mNone\u001b[0m\u001b[0;34m,\u001b[0m \u001b[0msep\u001b[0m \u001b[0;34m=\u001b[0m \u001b[0;34m\"\\t\"\u001b[0m\u001b[0;34m,\u001b[0m \u001b[0mnames\u001b[0m \u001b[0;34m=\u001b[0m \u001b[0;34m[\u001b[0m\u001b[0;34m\"friend\"\u001b[0m\u001b[0;34m,\u001b[0m \u001b[0;34m\"pal\"\u001b[0m\u001b[0;34m]\u001b[0m\u001b[0;34m)\u001b[0m\u001b[0;34m\u001b[0m\u001b[0;34m\u001b[0m\u001b[0m\n\u001b[0m\u001b[1;32m      3\u001b[0m \u001b[0mUS_distance_db_avg\u001b[0m  \u001b[0;34m=\u001b[0m \u001b[0mdistance_db_avg\u001b[0m\u001b[0;34m(\u001b[0m\u001b[0mdf_friend\u001b[0m\u001b[0;34m,\u001b[0m \u001b[0;34m'1_US_2013_merge_data.csv'\u001b[0m\u001b[0;34m)\u001b[0m\u001b[0;34m\u001b[0m\u001b[0;34m\u001b[0m\u001b[0m\n\u001b[1;32m      4\u001b[0m \u001b[0mPH_distance_db_avg\u001b[0m  \u001b[0;34m=\u001b[0m \u001b[0mdistance_db_avg\u001b[0m\u001b[0;34m(\u001b[0m\u001b[0mdf_friend\u001b[0m\u001b[0;34m,\u001b[0m \u001b[0;34m'10_PH_2013_merge_data.csv'\u001b[0m\u001b[0;34m)\u001b[0m\u001b[0;34m\u001b[0m\u001b[0;34m\u001b[0m\u001b[0m\n\u001b[1;32m      5\u001b[0m \u001b[0mID_distance_db_avg\u001b[0m  \u001b[0;34m=\u001b[0m \u001b[0mdistance_db_avg\u001b[0m\u001b[0;34m(\u001b[0m\u001b[0mdf_friend\u001b[0m\u001b[0;34m,\u001b[0m \u001b[0;34m'2_ID_2013_merge_data.csv'\u001b[0m\u001b[0;34m)\u001b[0m\u001b[0;34m\u001b[0m\u001b[0;34m\u001b[0m\u001b[0m\n",
      "\u001b[0;31mNameError\u001b[0m: name 'raw_dataset_file' is not defined"
     ]
    }
   ],
   "source": [
    "#df_friend = pd.read_csv(data_path+'dataset_WWW_friendship_new.txt', header = None, sep = \"\\t\", names = [\"friend\", \"pal\"])\n",
    "df_friend = pd.read_csv(raw_dataset_file.open('dataset_WWW2019/dataset_WWW_friendship_new.txt'), header = None, sep = \"\\t\", names = [\"friend\", \"pal\"])\n",
    "US_distance_db_avg  = distance_db_avg(df_friend, '1_US_2013_merge_data.csv')\n",
    "PH_distance_db_avg  = distance_db_avg(df_friend, '10_PH_2013_merge_data.csv')\n",
    "ID_distance_db_avg  = distance_db_avg(df_friend, '2_ID_2013_merge_data.csv')\n",
    "BR_distance_db_avg  = distance_db_avg(df_friend, '3_BR_2013_merge_data.csv')\n",
    "TR_distance_db_avg  = distance_db_avg(df_friend, '4_TR_2013_merge_data.csv')\n",
    "RU_distance_db_avg  = distance_db_avg(df_friend, '5_RU_2013_merge_data.csv')\n",
    "JP_distance_db_avg  = distance_db_avg(df_friend, '6_JP_2013_merge_data.csv')\n",
    "MY_distance_db_avg  = distance_db_avg(df_friend, '7_MY_2013_merge_data.csv')\n",
    "MX_distance_db_avg  = distance_db_avg(df_friend, '8_MX_2013_merge_data.csv')\n",
    "TH_distance_db_avg  = distance_db_avg(df_friend, '9_TH_2013_merge_data.csv')"
   ]
  },
  {
   "cell_type": "code",
   "execution_count": 6,
   "metadata": {},
   "outputs": [
    {
     "ename": "NameError",
     "evalue": "name 'US_distance_db_avg' is not defined",
     "output_type": "error",
     "traceback": [
      "\u001b[0;31m---------------------------------------------------------------------------\u001b[0m",
      "\u001b[0;31mNameError\u001b[0m                                 Traceback (most recent call last)",
      "\u001b[0;32m<ipython-input-6-6f9b7dbcb86f>\u001b[0m in \u001b[0;36m<module>\u001b[0;34m\u001b[0m\n\u001b[1;32m      2\u001b[0m \u001b[0;34m\u001b[0m\u001b[0m\n\u001b[1;32m      3\u001b[0m \u001b[0mfig\u001b[0m\u001b[0;34m,\u001b[0m \u001b[0max\u001b[0m \u001b[0;34m=\u001b[0m \u001b[0mplt\u001b[0m\u001b[0;34m.\u001b[0m\u001b[0msubplots\u001b[0m\u001b[0;34m(\u001b[0m\u001b[0mfigsize\u001b[0m \u001b[0;34m=\u001b[0m \u001b[0;34m(\u001b[0m\u001b[0;36m16\u001b[0m\u001b[0;34m,\u001b[0m \u001b[0;36m10\u001b[0m\u001b[0;34m)\u001b[0m\u001b[0;34m)\u001b[0m\u001b[0;34m\u001b[0m\u001b[0;34m\u001b[0m\u001b[0m\n\u001b[0;32m----> 4\u001b[0;31m \u001b[0msns\u001b[0m\u001b[0;34m.\u001b[0m\u001b[0mkdeplot\u001b[0m\u001b[0;34m(\u001b[0m\u001b[0mUS_distance_db_avg\u001b[0m\u001b[0;34m[\u001b[0m\u001b[0;34m\"distance\"\u001b[0m\u001b[0;34m]\u001b[0m\u001b[0;34m,\u001b[0m\u001b[0max\u001b[0m \u001b[0;34m=\u001b[0m \u001b[0max\u001b[0m\u001b[0;34m,\u001b[0m \u001b[0mcommon_norm\u001b[0m \u001b[0;34m=\u001b[0m \u001b[0;32mTrue\u001b[0m\u001b[0;34m,\u001b[0m \u001b[0mfill\u001b[0m \u001b[0;34m=\u001b[0m \u001b[0;32mFalse\u001b[0m\u001b[0;34m,\u001b[0m \u001b[0mlinestyle\u001b[0m \u001b[0;34m=\u001b[0m \u001b[0;34m\"--\"\u001b[0m\u001b[0;34m,\u001b[0m \u001b[0mlegend\u001b[0m \u001b[0;34m=\u001b[0m \u001b[0;32mTrue\u001b[0m\u001b[0;34m,\u001b[0m \u001b[0mlabel\u001b[0m \u001b[0;34m=\u001b[0m \u001b[0;34m'US home locations taking one at random'\u001b[0m\u001b[0;34m)\u001b[0m\u001b[0;34m\u001b[0m\u001b[0;34m\u001b[0m\u001b[0m\n\u001b[0m\u001b[1;32m      5\u001b[0m \u001b[0msns\u001b[0m\u001b[0;34m.\u001b[0m\u001b[0mkdeplot\u001b[0m\u001b[0;34m(\u001b[0m\u001b[0mPH_distance_db_avg\u001b[0m\u001b[0;34m[\u001b[0m\u001b[0;34m\"distance\"\u001b[0m\u001b[0;34m]\u001b[0m\u001b[0;34m,\u001b[0m\u001b[0max\u001b[0m \u001b[0;34m=\u001b[0m \u001b[0max\u001b[0m\u001b[0;34m,\u001b[0m \u001b[0mcommon_norm\u001b[0m \u001b[0;34m=\u001b[0m \u001b[0;32mTrue\u001b[0m\u001b[0;34m,\u001b[0m \u001b[0mfill\u001b[0m \u001b[0;34m=\u001b[0m \u001b[0;32mFalse\u001b[0m\u001b[0;34m,\u001b[0m \u001b[0mlinestyle\u001b[0m \u001b[0;34m=\u001b[0m \u001b[0;34m\"--\"\u001b[0m\u001b[0;34m,\u001b[0m \u001b[0mlegend\u001b[0m \u001b[0;34m=\u001b[0m \u001b[0;32mTrue\u001b[0m\u001b[0;34m,\u001b[0m \u001b[0mlabel\u001b[0m \u001b[0;34m=\u001b[0m \u001b[0;34m'PH home locations taking one at random'\u001b[0m\u001b[0;34m)\u001b[0m\u001b[0;34m\u001b[0m\u001b[0;34m\u001b[0m\u001b[0m\n\u001b[1;32m      6\u001b[0m \u001b[0msns\u001b[0m\u001b[0;34m.\u001b[0m\u001b[0mkdeplot\u001b[0m\u001b[0;34m(\u001b[0m\u001b[0mID_distance_db_avg\u001b[0m\u001b[0;34m[\u001b[0m\u001b[0;34m\"distance\"\u001b[0m\u001b[0;34m]\u001b[0m\u001b[0;34m,\u001b[0m\u001b[0max\u001b[0m \u001b[0;34m=\u001b[0m \u001b[0max\u001b[0m\u001b[0;34m,\u001b[0m \u001b[0mcommon_norm\u001b[0m \u001b[0;34m=\u001b[0m \u001b[0;32mTrue\u001b[0m\u001b[0;34m,\u001b[0m \u001b[0mfill\u001b[0m \u001b[0;34m=\u001b[0m \u001b[0;32mFalse\u001b[0m\u001b[0;34m,\u001b[0m \u001b[0mlinestyle\u001b[0m \u001b[0;34m=\u001b[0m \u001b[0;34m\"--\"\u001b[0m\u001b[0;34m,\u001b[0m \u001b[0mlegend\u001b[0m \u001b[0;34m=\u001b[0m \u001b[0;32mTrue\u001b[0m\u001b[0;34m,\u001b[0m \u001b[0mlabel\u001b[0m \u001b[0;34m=\u001b[0m \u001b[0;34m'ID home locations taking one at random'\u001b[0m\u001b[0;34m)\u001b[0m\u001b[0;34m\u001b[0m\u001b[0;34m\u001b[0m\u001b[0m\n",
      "\u001b[0;31mNameError\u001b[0m: name 'US_distance_db_avg' is not defined"
     ]
    },
    {
     "data": {
      "image/png": "[encoded data removed]",
      "text/plain": [
       "<Figure size 1152x720 with 1 Axes>"
      ]
     },
     "metadata": {
      "needs_background": "light"
     },
     "output_type": "display_data"
    }
   ],
   "source": [
    "# We compare the distance between houses with our multiple dataframes of houses locations.\n",
    "\n",
    "fig, ax = plt.subplots(figsize = (16, 10))\n",
    "sns.kdeplot(US_distance_db_avg[\"distance\"],ax = ax, common_norm = True, fill = False, linestyle = \"--\", legend = True, label = 'US home locations taking one at random')\n",
    "sns.kdeplot(PH_distance_db_avg[\"distance\"],ax = ax, common_norm = True, fill = False, linestyle = \"--\", legend = True, label = 'PH home locations taking one at random')\n",
    "sns.kdeplot(ID_distance_db_avg[\"distance\"],ax = ax, common_norm = True, fill = False, linestyle = \"--\", legend = True, label = 'ID home locations taking one at random')\n",
    "sns.kdeplot(BR_distance_db_avg[\"distance\"],ax = ax, common_norm = True, fill = False, linestyle = \"--\", legend = True, label = 'BR home locations taking one at random')\n",
    "sns.kdeplot(TR_distance_db_avg[\"distance\"],ax = ax, common_norm = True, fill = False, linestyle = \"--\", legend = True, label = 'TR home locations taking one at random')\n",
    "sns.kdeplot(RU_distance_db_avg[\"distance\"],ax = ax, common_norm = True, fill = False, linestyle = \"--\", legend = True, label = 'RU home locations taking one at random')\n",
    "sns.kdeplot(JP_distance_db_avg[\"distance\"],ax = ax, common_norm = True, fill = False, linestyle = \"--\", legend = True, label = 'JP home locations taking one at random')\n",
    "sns.kdeplot(MY_distance_db_avg[\"distance\"],ax = ax, common_norm = True, fill = False, linestyle = \"--\", legend = True, label = 'MY home locations taking one at random')\n",
    "sns.kdeplot(MX_distance_db_avg[\"distance\"],ax = ax, common_norm = True, fill = False, linestyle = \"--\", legend = True, label = 'MX home locations taking one at random')\n",
    "sns.kdeplot(TH_distance_db_avg[\"distance\"],ax = ax, common_norm = True, fill = False, linestyle = \"--\", legend = True, label = 'TH home locations taking one at random')\n",
    "plt.gca().set_xscale(\"log\")\n",
    "plt.gca().set_yscale(\"log\")\n",
    "plt.title(\"Distances between friend's houses (Frousquare)\")\n",
    "plt.ylabel(\"Distribution\")\n",
    "plt.xlabel(\"Distance (km)\")\n",
    "ax.legend()\n",
    "plt.show()"
   ]
  },
  {
   "cell_type": "markdown",
   "metadata": {},
   "source": [
    "### Conclusion\n",
    "When comparing the distribution of distances between friends' houses, we notice that the countries with the smallest surfaces are the ones where the probabilities of having friends living far away is the lowest. Indeed, for example, for Turkey, there are no friends living at a distance bigger than 10^3. When we look at the distance between Turkish cities (https://distancecalculator.globefeed.com/Turkey_Distance_Calculator.asp), we notice that most of them are smaller than 10^3. We observe similar results for other countries."
   ]
  },
  {
   "cell_type": "markdown",
   "metadata": {},
   "source": [
    "In order to check what we just saw, we look at the maximum distance between the houses of two friends living in the same country. If users "
   ]
  },
  {
   "cell_type": "code",
   "execution_count": 47,
   "metadata": {},
   "outputs": [
    {
     "name": "stdout",
     "output_type": "stream",
     "text": [
      "the maximum distance between two friends in US 8210 km\n",
      "the maximum distance between two friends in PH 1156 km\n",
      "the maximum distance between two friends in ID 4725 km\n",
      "the maximum distance between two friends in BR 3982 km\n",
      "the maximum distance between two friends in TR 1267 km\n",
      "the maximum distance between two friends in RU 6687 km\n",
      "the maximum distance between two friends in JP 2247 km\n",
      "the maximum distance between two friends in MY 1985 km\n",
      "the maximum distance between two friends in TH 1377 km\n"
     ]
    }
   ],
   "source": [
    "print(\"the maximum distance between two friends in US {} km\".format(max(US_distance_db_avg[\"distance\"].astype(int))))\n",
    "print(\"the maximum distance between two friends in PH {} km\".format(max(PH_distance_db_avg[\"distance\"].astype(int))))\n",
    "print(\"the maximum distance between two friends in ID {} km\".format(max(ID_distance_db_avg[\"distance\"].astype(int))))\n",
    "print(\"the maximum distance between two friends in BR {} km\".format(max(BR_distance_db_avg[\"distance\"].astype(int))))\n",
    "print(\"the maximum distance between two friends in TR {} km\".format(max(TR_distance_db_avg[\"distance\"].astype(int))))\n",
    "print(\"the maximum distance between two friends in RU {} km\".format(max(RU_distance_db_avg[\"distance\"].astype(int))))\n",
    "print(\"the maximum distance between two friends in JP {} km\".format(max(JP_distance_db_avg[\"distance\"].astype(int))))\n",
    "print(\"the maximum distance between two friends in MY {} km\".format(max(MY_distance_db_avg[\"distance\"].astype(int))))\n",
    "print(\"the maximum distance between two friends in TH {} km\".format(max(TH_distance_db_avg[\"distance\"].astype(int))))"
   ]
  },
  {
   "cell_type": "markdown",
   "metadata": {},
   "source": [
    "### Part 3 Find the number of foreign friends"
   ]
  },
  {
   "cell_type": "code",
   "execution_count": 2,
   "metadata": {},
   "outputs": [
    {
     "name": "stdout",
     "output_type": "stream",
     "text": [
      "Our initial dataset had 20495 users.\n",
      "Out of them, 5364 are considered natives.\n",
      "Out of them, 15131 are considered foreigners.\n"
     ]
    }
   ],
   "source": [
    "df_friend = pd.read_csv(data_path+'dataset_WWW_friendship_new.txt', header = None, sep = \"\\t\", names = [\"friend\", \"pal\"])\n",
    "checkins = pd.read_csv(data_path+'1_US_2013_merge_data.csv', names=['locid','user', 'time','year',  'latitude', 'longitude', 'building', 'countries'],header=None, error_bad_lines=False)\n",
    "# convert string to number\n",
    "checkins.drop(0,0,inplace=True)\n",
    "checkins.user = checkins.user.astype(int)\n",
    "checkins.latitude = checkins.latitude.astype(float)\n",
    "checkins.longitude = checkins.longitude.astype(float)\n",
    "\n",
    "US_participants = checkins.groupby(by = \"user\").agg(\"count\")\n",
    "list_of_people_with_homes = checkins[checkins[\"building\"] == \"Home (private)\"].user.unique().tolist()\n",
    "US_natives = checkins[checkins[\"user\"].isin(list_of_people_with_homes)]\n",
    "US_foreign = checkins[~checkins.user.isin(list_of_people_with_homes)]\n",
    "\n",
    "print('Our initial dataset had {} users.'.format(US_participants.shape[0]))\n",
    "print('Out of them, {} are considered natives.'.format(len(US_natives.user.unique().tolist())))\n",
    "print('Out of them, {} are considered foreigners.'.format(len(US_foreign.user.unique().tolist())))"
   ]
  },
  {
   "cell_type": "code",
   "execution_count": 3,
   "metadata": {},
   "outputs": [
    {
     "data": {
      "text/html": [
       "<div>\n",
       "<style scoped>\n",
       "    .dataframe tbody tr th:only-of-type {\n",
       "        vertical-align: middle;\n",
       "    }\n",
       "\n",
       "    .dataframe tbody tr th {\n",
       "        vertical-align: top;\n",
       "    }\n",
       "\n",
       "    .dataframe thead th {\n",
       "        text-align: right;\n",
       "    }\n",
       "</style>\n",
       "<table border=\"1\" class=\"dataframe\">\n",
       "  <thead>\n",
       "    <tr style=\"text-align: right;\">\n",
       "      <th></th>\n",
       "      <th>friend</th>\n",
       "      <th>pal</th>\n",
       "    </tr>\n",
       "  </thead>\n",
       "  <tbody>\n",
       "    <tr>\n",
       "      <th>0</th>\n",
       "      <td>15</td>\n",
       "      <td>595326</td>\n",
       "    </tr>\n",
       "    <tr>\n",
       "      <th>1</th>\n",
       "      <td>19</td>\n",
       "      <td>54</td>\n",
       "    </tr>\n",
       "    <tr>\n",
       "      <th>2</th>\n",
       "      <td>19</td>\n",
       "      <td>1061</td>\n",
       "    </tr>\n",
       "    <tr>\n",
       "      <th>3</th>\n",
       "      <td>19</td>\n",
       "      <td>1668</td>\n",
       "    </tr>\n",
       "    <tr>\n",
       "      <th>4</th>\n",
       "      <td>19</td>\n",
       "      <td>21596</td>\n",
       "    </tr>\n",
       "    <tr>\n",
       "      <th>...</th>\n",
       "      <td>...</td>\n",
       "      <td>...</td>\n",
       "    </tr>\n",
       "    <tr>\n",
       "      <th>607328</th>\n",
       "      <td>2166684</td>\n",
       "      <td>2181580</td>\n",
       "    </tr>\n",
       "    <tr>\n",
       "      <th>607329</th>\n",
       "      <td>2167183</td>\n",
       "      <td>2175735</td>\n",
       "    </tr>\n",
       "    <tr>\n",
       "      <th>607330</th>\n",
       "      <td>2170360</td>\n",
       "      <td>2174239</td>\n",
       "    </tr>\n",
       "    <tr>\n",
       "      <th>607331</th>\n",
       "      <td>2173716</td>\n",
       "      <td>2186144</td>\n",
       "    </tr>\n",
       "    <tr>\n",
       "      <th>607332</th>\n",
       "      <td>2175735</td>\n",
       "      <td>2182784</td>\n",
       "    </tr>\n",
       "  </tbody>\n",
       "</table>\n",
       "<p>607333 rows × 2 columns</p>\n",
       "</div>"
      ],
      "text/plain": [
       "         friend      pal\n",
       "0            15   595326\n",
       "1            19       54\n",
       "2            19     1061\n",
       "3            19     1668\n",
       "4            19    21596\n",
       "...         ...      ...\n",
       "607328  2166684  2181580\n",
       "607329  2167183  2175735\n",
       "607330  2170360  2174239\n",
       "607331  2173716  2186144\n",
       "607332  2175735  2182784\n",
       "\n",
       "[607333 rows x 2 columns]"
      ]
     },
     "execution_count": 3,
     "metadata": {},
     "output_type": "execute_result"
    }
   ],
   "source": [
    "#df_friend = df_friend[df_friend.friend == US_natives.user]\n",
    "df_friend = df_friend.reset_index(drop=True)\n",
    "US_natives = US_natives.reset_index(drop=True)\n",
    "df_friend.merge(US_natives, left_on = \"friend\", right_on = \"user\").merge(US_foreign, left_on = \"pal\", right_on = \"user\")\n",
    "df_friend"
   ]
  },
  {
   "cell_type": "code",
   "execution_count": 4,
   "metadata": {},
   "outputs": [
    {
     "data": {
      "text/plain": [
       "<AxesSubplot:title={'center':'Number of friends of foreign users (new)'}>"
      ]
     },
     "execution_count": 4,
     "metadata": {},
     "output_type": "execute_result"
    },
    {
     "data": {
      "image/png": "[encoded data removed]",
      "text/plain": [
       "<Figure size 1152x720 with 1 Axes>"
      ]
     },
     "metadata": {
      "needs_background": "light"
     },
     "output_type": "display_data"
    }
   ],
   "source": [
    "fig, ax = plt.subplots(figsize = (16, 10))\n",
    "plt.title(\"Number of friends of foreign users (new)\")\n",
    "df_friend.groupby('friend').count().boxplot(column = ['pal'],showfliers=False)"
   ]
  },
  {
   "cell_type": "code",
   "execution_count": 2,
   "metadata": {},
   "outputs": [],
   "source": [
    "#df_friend = pd.read_csv(data_path+'dataset_WWW_friendship_new.txt', header = None, sep = \"\\t\", names = [\"friend\", \"pal\"])\n",
    "def boxplotforeign(df_friend,dataframe):\n",
    "    checkins = pd.read_csv(data_path+dataframe, names=['locid','user', 'time','year',  'latitude', 'longitude', 'building', 'countries'],header=None, error_bad_lines=False)\n",
    "    # convert string to number\n",
    "    checkins.drop(0,0,inplace=True)\n",
    "    checkins.user = checkins.user.astype(int)\n",
    "    checkins.latitude = checkins.latitude.astype(float)\n",
    "    checkins.longitude = checkins.longitude.astype(float)\n",
    "\n",
    "    participants = checkins.groupby(by = \"user\").agg(\"count\")\n",
    "    list_of_people_with_homes = checkins[checkins[\"building\"] == \"Home (private)\"].user.unique().tolist()\n",
    "    natives = checkins[checkins[\"user\"].isin(list_of_people_with_homes)]\n",
    "    foreign = checkins[~checkins.user.isin(list_of_people_with_homes)]\n",
    "    print('Our initial dataset had {} users.'.format(participants.shape[0]))\n",
    "    print('Out of them, {} are considered natives.'.format(len(natives.user.unique().tolist())))\n",
    "    print('Out of them, {} are considered foreigners.'.format(len(foreign.user.unique().tolist())))\n",
    "    friend = df_friend.reset_index(drop=True)\n",
    "    natives = natives.reset_index(drop=True)\n",
    "    friend.merge(natives, left_on = \"friend\", right_on = \"user\").merge(foreign, left_on = \"pal\", right_on = \"user\")\n",
    "    nb_friends = []\n",
    "    for i in range(20):\n",
    "        sample_abb = foreign.sample(frac = 0.8, random_state = i)\n",
    "        friend = friend[friend.friend.isin(sample_abb.index.tolist())]\n",
    "        nb_friends.append(friend.shape[0]/len(friend.friend.unique()))\n",
    "    nb_friends.sort()\n",
    "    \n",
    "    print(\"Natives have on average {} friends, our 90% confidence interval is[ {}, {}]\".format(np.average(nb_friends), nb_friends[1], nb_friends[-2]))\n",
    "\n",
    "\n",
    "    return friend"
   ]
  },
  {
   "cell_type": "code",
   "execution_count": 25,
   "metadata": {},
   "outputs": [
    {
     "name": "stdout",
     "output_type": "stream",
     "text": [
      "Our initial dataset had 20495 users.\n",
      "Out of them, 5364 are considered natives.\n",
      "Out of them, 15131 are considered foreigners.\n",
      "Natives have on average 8.275800676314425 friends, our 90% confidence interval is[ 8.064853556485355, 8.540469973890339]\n"
     ]
    },
    {
     "data": {
      "text/plain": [
       "<AxesSubplot:title={'center':'Number of friends of foreign users (new)'}>"
      ]
     },
     "execution_count": 25,
     "metadata": {},
     "output_type": "execute_result"
    },
    {
     "data": {
      "image/png": "[encoded data removed]",
      "text/plain": [
       "<Figure size 1152x720 with 1 Axes>"
      ]
     },
     "metadata": {
      "needs_background": "light"
     },
     "output_type": "display_data"
    }
   ],
   "source": [
    "df_friend = pd.read_csv(data_path+'dataset_WWW_friendship_new.txt', header = None, sep = \"\\t\", names = [\"friend\", \"pal\"])\n",
    "fig, ax = plt.subplots(figsize = (16, 10))\n",
    "plt.title(\"Number of friends of foreign users (new)\")\n",
    "US_foreign_friend  = boxplotforeign(df_friend, '1_US_2013_merge_data.csv')\n",
    "US_foreign_friend.groupby('friend').count().boxplot(column = ['pal'],showfliers=False)"
   ]
  },
  {
   "cell_type": "code",
   "execution_count": 26,
   "metadata": {},
   "outputs": [
    {
     "name": "stdout",
     "output_type": "stream",
     "text": [
      "Our initial dataset had 3015 users.\n",
      "Out of them, 1724 are considered natives.\n",
      "Out of them, 1291 are considered foreigners.\n",
      "Natives have on average 13.278495089567855 friends, our 90% confidence interval is[ 11.455328310010763, 16.788732394366196]\n"
     ]
    },
    {
     "data": {
      "text/html": [
       "<div>\n",
       "<style scoped>\n",
       "    .dataframe tbody tr th:only-of-type {\n",
       "        vertical-align: middle;\n",
       "    }\n",
       "\n",
       "    .dataframe tbody tr th {\n",
       "        vertical-align: top;\n",
       "    }\n",
       "\n",
       "    .dataframe thead th {\n",
       "        text-align: right;\n",
       "    }\n",
       "</style>\n",
       "<table border=\"1\" class=\"dataframe\">\n",
       "  <thead>\n",
       "    <tr style=\"text-align: right;\">\n",
       "      <th></th>\n",
       "      <th>friend</th>\n",
       "      <th>pal</th>\n",
       "    </tr>\n",
       "  </thead>\n",
       "  <tbody>\n",
       "    <tr>\n",
       "      <th>1456</th>\n",
       "      <td>799</td>\n",
       "      <td>801</td>\n",
       "    </tr>\n",
       "    <tr>\n",
       "      <th>1457</th>\n",
       "      <td>799</td>\n",
       "      <td>806</td>\n",
       "    </tr>\n",
       "    <tr>\n",
       "      <th>1458</th>\n",
       "      <td>799</td>\n",
       "      <td>1268</td>\n",
       "    </tr>\n",
       "    <tr>\n",
       "      <th>1459</th>\n",
       "      <td>799</td>\n",
       "      <td>1532</td>\n",
       "    </tr>\n",
       "    <tr>\n",
       "      <th>1460</th>\n",
       "      <td>799</td>\n",
       "      <td>1536</td>\n",
       "    </tr>\n",
       "    <tr>\n",
       "      <th>...</th>\n",
       "      <td>...</td>\n",
       "      <td>...</td>\n",
       "    </tr>\n",
       "    <tr>\n",
       "      <th>187505</th>\n",
       "      <td>208292</td>\n",
       "      <td>330698</td>\n",
       "    </tr>\n",
       "    <tr>\n",
       "      <th>187506</th>\n",
       "      <td>208292</td>\n",
       "      <td>432659</td>\n",
       "    </tr>\n",
       "    <tr>\n",
       "      <th>190569</th>\n",
       "      <td>215087</td>\n",
       "      <td>343628</td>\n",
       "    </tr>\n",
       "    <tr>\n",
       "      <th>190570</th>\n",
       "      <td>215087</td>\n",
       "      <td>463367</td>\n",
       "    </tr>\n",
       "    <tr>\n",
       "      <th>190571</th>\n",
       "      <td>215087</td>\n",
       "      <td>590656</td>\n",
       "    </tr>\n",
       "  </tbody>\n",
       "</table>\n",
       "<p>704 rows × 2 columns</p>\n",
       "</div>"
      ],
      "text/plain": [
       "        friend     pal\n",
       "1456       799     801\n",
       "1457       799     806\n",
       "1458       799    1268\n",
       "1459       799    1532\n",
       "1460       799    1536\n",
       "...        ...     ...\n",
       "187505  208292  330698\n",
       "187506  208292  432659\n",
       "190569  215087  343628\n",
       "190570  215087  463367\n",
       "190571  215087  590656\n",
       "\n",
       "[704 rows x 2 columns]"
      ]
     },
     "execution_count": 26,
     "metadata": {},
     "output_type": "execute_result"
    },
    {
     "data": {
      "image/png": "[encoded data removed]",
      "text/plain": [
       "<Figure size 1152x720 with 1 Axes>"
      ]
     },
     "metadata": {
      "needs_background": "light"
     },
     "output_type": "display_data"
    }
   ],
   "source": [
    "\n",
    "#df_friend = pd.read_csv(raw_dataset_file.open('dataset_WWW2019/dataset_WWW_friendship_new.txt'), header = None, sep = \"\\t\", names = [\"friend\", \"pal\"])\n",
    "df_friend = pd.read_csv(data_path+'dataset_WWW_friendship_new.txt', header = None, sep = \"\\t\", names = [\"friend\", \"pal\"])\n",
    "fig, ax = plt.subplots(figsize = (16, 10))\n",
    "plt.title(\"Number of friends of foreign users (new)\")\n",
    "PH_foreign_friend  = boxplotforeign(df_friend, '10_PH_2013_merge_data.csv')\n",
    "PH_foreign_friend.groupby('friend').count().boxplot(column = ['pal'],showfliers=False)\n",
    "#PH_foreign_friend"
   ]
  },
  {
   "cell_type": "code",
   "execution_count": 27,
   "metadata": {},
   "outputs": [
    {
     "name": "stdout",
     "output_type": "stream",
     "text": [
      "Our initial dataset had 12542 users.\n",
      "Out of them, 7371 are considered natives.\n",
      "Out of them, 5171 are considered foreigners.\n",
      "Natives have on average 9.937049459567742 friends, our 90% confidence interval is[ 9.451851851851853, 10.577272727272728]\n"
     ]
    },
    {
     "data": {
      "text/plain": [
       "<AxesSubplot:title={'center':'Number of friends of foreign users (new)'}>"
      ]
     },
     "execution_count": 27,
     "metadata": {},
     "output_type": "execute_result"
    },
    {
     "data": {
      "image/png": "[encoded data removed]",
      "text/plain": [
       "<Figure size 1152x720 with 1 Axes>"
      ]
     },
     "metadata": {
      "needs_background": "light"
     },
     "output_type": "display_data"
    }
   ],
   "source": [
    "df_friend = pd.read_csv(data_path+'dataset_WWW_friendship_new.txt', header = None, sep = \"\\t\", names = [\"friend\", \"pal\"])\n",
    "fig, ax = plt.subplots(figsize = (16, 10))\n",
    "plt.title(\"Number of friends of foreign users (new)\")\n",
    "ID_foreign_friend = boxplotforeign(df_friend, '2_ID_2013_merge_data.csv')\n",
    "ID_foreign_friend.groupby('friend').count().boxplot(column = ['pal'],showfliers=False)"
   ]
  },
  {
   "cell_type": "code",
   "execution_count": 28,
   "metadata": {},
   "outputs": [
    {
     "name": "stdout",
     "output_type": "stream",
     "text": [
      "Our initial dataset had 12569 users.\n",
      "Out of them, 7166 are considered natives.\n",
      "Out of them, 5403 are considered foreigners.\n",
      "Natives have on average 8.684888827728578 friends, our 90% confidence interval is[ 8.035108958837773, 9.26981883592445]\n"
     ]
    },
    {
     "data": {
      "text/plain": [
       "<AxesSubplot:title={'center':'Number of friends of foreign users (new)'}>"
      ]
     },
     "execution_count": 28,
     "metadata": {},
     "output_type": "execute_result"
    },
    {
     "data": {
      "image/png": "[encoded data removed]",
      "text/plain": [
       "<Figure size 1152x720 with 1 Axes>"
      ]
     },
     "metadata": {
      "needs_background": "light"
     },
     "output_type": "display_data"
    }
   ],
   "source": [
    "df_friend = pd.read_csv(data_path+'dataset_WWW_friendship_new.txt', header = None, sep = \"\\t\", names = [\"friend\", \"pal\"])\n",
    "fig, ax = plt.subplots(figsize = (16, 10))\n",
    "plt.title(\"Number of friends of foreign users (new)\")\n",
    "BR_foreign_friend  = boxplotforeign(df_friend, '3_BR_2013_merge_data.csv')\n",
    "BR_foreign_friend.groupby('friend').count().boxplot(column = ['pal'],showfliers=False)"
   ]
  },
  {
   "cell_type": "code",
   "execution_count": 30,
   "metadata": {},
   "outputs": [
    {
     "name": "stdout",
     "output_type": "stream",
     "text": [
      "Our initial dataset had 11781 users.\n",
      "Out of them, 4798 are considered natives.\n",
      "Out of them, 6983 are considered foreigners.\n",
      "Natives have on average 9.670365910692002 friends, our 90% confidence interval is[ 9.256302521008404, 10.348]\n"
     ]
    },
    {
     "data": {
      "text/plain": [
       "<AxesSubplot:title={'center':'Number of friends of foreign users (new)'}>"
      ]
     },
     "execution_count": 30,
     "metadata": {},
     "output_type": "execute_result"
    },
    {
     "data": {
      "image/png": "[encoded data removed]",
      "text/plain": [
       "<Figure size 1152x720 with 1 Axes>"
      ]
     },
     "metadata": {
      "needs_background": "light"
     },
     "output_type": "display_data"
    }
   ],
   "source": [
    "df_friend = pd.read_csv(data_path+'dataset_WWW_friendship_new.txt', header = None, sep = \"\\t\", names = [\"friend\", \"pal\"])\n",
    "fig, ax = plt.subplots(figsize = (16, 10))\n",
    "plt.title(\"Number of friends of foreign users (new)\")\n",
    "TR_foreign_friend  = boxplotforeign(df_friend, '4_TR_2013_merge_data.csv')\n",
    "TR_foreign_friend.groupby('friend').count().boxplot(column = ['pal'],showfliers=False)"
   ]
  },
  {
   "cell_type": "code",
   "execution_count": 31,
   "metadata": {},
   "outputs": [
    {
     "name": "stdout",
     "output_type": "stream",
     "text": [
      "Our initial dataset had 3380 users.\n",
      "Out of them, 1604 are considered natives.\n",
      "Out of them, 1776 are considered foreigners.\n",
      "Natives have on average 11.243820235990633 friends, our 90% confidence interval is[ 10.057142857142857, 12.694805194805195]\n"
     ]
    },
    {
     "data": {
      "text/plain": [
       "<AxesSubplot:title={'center':'Number of friends of foreign users (new)'}>"
      ]
     },
     "execution_count": 31,
     "metadata": {},
     "output_type": "execute_result"
    },
    {
     "data": {
      "image/png": "[encoded data removed]",
      "text/plain": [
       "<Figure size 1152x720 with 1 Axes>"
      ]
     },
     "metadata": {
      "needs_background": "light"
     },
     "output_type": "display_data"
    }
   ],
   "source": [
    "df_friend = pd.read_csv(data_path+'dataset_WWW_friendship_new.txt', header = None, sep = \"\\t\", names = [\"friend\", \"pal\"])\n",
    "fig, ax = plt.subplots(figsize = (16, 10))\n",
    "plt.title(\"Number of friends of foreign users (new)\")\n",
    "RU_foreign_friend  = boxplotforeign(df_friend, '5_RU_2013_merge_data.csv')\n",
    "RU_foreign_friend.groupby('friend').count().boxplot(column = ['pal'],showfliers=False)"
   ]
  },
  {
   "cell_type": "code",
   "execution_count": null,
   "metadata": {},
   "outputs": [
    {
     "name": "stdout",
     "output_type": "stream",
     "text": [
      "Our initial dataset had 9245 users.\n",
      "Out of them, 611 are considered natives.\n",
      "Out of them, 8634 are considered foreigners.\n"
     ]
    }
   ],
   "source": [
    "df_friend = pd.read_csv(data_path+'dataset_WWW_friendship_new.txt', header = None, sep = \"\\t\", names = [\"friend\", \"pal\"])\n",
    "fig, ax = plt.subplots(figsize = (16, 10))\n",
    "plt.title(\"Number of friends of foreign users (new)\")\n",
    "JP_foreign_friend  = boxplotforeign(df_friend, '6_JP_2013_merge_data.csv')\n",
    "JP_foreign_friend.groupby('friend').count().boxplot(column = ['pal'],showfliers=False)"
   ]
  },
  {
   "cell_type": "code",
   "execution_count": 5,
   "metadata": {},
   "outputs": [
    {
     "name": "stdout",
     "output_type": "stream",
     "text": [
      "Our initial dataset had 8064 users.\n",
      "Out of them, 4247 are considered natives.\n",
      "Out of them, 3817 are considered foreigners.\n",
      "Natives have on average 10.234189139060536 friends, our 90% confidence interval is[ 9.430274135876044, 12.302013422818792]\n"
     ]
    },
    {
     "data": {
      "text/plain": [
       "<AxesSubplot:title={'center':'Number of friends of foreign users (new)'}>"
      ]
     },
     "execution_count": 5,
     "metadata": {},
     "output_type": "execute_result"
    },
    {
     "data": {
      "image/png": "[encoded data removed]",
      "text/plain": [
       "<Figure size 1152x720 with 1 Axes>"
      ]
     },
     "metadata": {
      "needs_background": "light"
     },
     "output_type": "display_data"
    }
   ],
   "source": [
    "df_friend = pd.read_csv(data_path+'dataset_WWW_friendship_new.txt', header = None, sep = \"\\t\", names = [\"friend\", \"pal\"])\n",
    "fig, ax = plt.subplots(figsize = (16, 10))\n",
    "plt.title(\"Number of friends of foreign users (new)\")\n",
    "MY_foreign_friend  = boxplotforeign(df_friend, '7_MY_2013_merge_data.csv')\n",
    "MY_foreign_friend.groupby('friend').count().boxplot(column = ['pal'],showfliers=False)"
   ]
  },
  {
   "cell_type": "code",
   "execution_count": 4,
   "metadata": {},
   "outputs": [
    {
     "name": "stdout",
     "output_type": "stream",
     "text": [
      "Our initial dataset had 7445 users.\n",
      "Out of them, 2547 are considered natives.\n",
      "Out of them, 4898 are considered foreigners.\n",
      "Natives have on average 10.089943067182272 friends, our 90% confidence interval is[ 9.527918781725889, 10.773170731707317]\n"
     ]
    },
    {
     "data": {
      "text/plain": [
       "<AxesSubplot:title={'center':'Number of friends of foreign users (new)'}>"
      ]
     },
     "execution_count": 4,
     "metadata": {},
     "output_type": "execute_result"
    },
    {
     "data": {
      "image/png": "[encoded data removed]",
      "text/plain": [
       "<Figure size 1152x720 with 1 Axes>"
      ]
     },
     "metadata": {
      "needs_background": "light"
     },
     "output_type": "display_data"
    }
   ],
   "source": [
    "df_friend = pd.read_csv(data_path+'dataset_WWW_friendship_new.txt', header = None, sep = \"\\t\", names = [\"friend\", \"pal\"])\n",
    "fig, ax = plt.subplots(figsize = (16, 10))\n",
    "plt.title(\"Number of friends of foreign users (new)\")\n",
    "MX_foreign_friend  = boxplotforeign(df_friend, '8_MX_2013_merge_data.csv')\n",
    "MX_foreign_friend.groupby('friend').count().boxplot(column = ['pal'],showfliers=False)"
   ]
  },
  {
   "cell_type": "code",
   "execution_count": 3,
   "metadata": {},
   "outputs": [
    {
     "name": "stdout",
     "output_type": "stream",
     "text": [
      "Our initial dataset had 5531 users.\n",
      "Out of them, 1977 are considered natives.\n",
      "Out of them, 3554 are considered foreigners.\n",
      "Natives have on average 12.820411676769819 friends, our 90% confidence interval is[ 10.791962532104547, 15.867724867724867]\n"
     ]
    },
    {
     "data": {
      "text/plain": [
       "<AxesSubplot:title={'center':'Number of friends of foreign users (new)'}>"
      ]
     },
     "execution_count": 3,
     "metadata": {},
     "output_type": "execute_result"
    },
    {
     "data": {
      "image/png": "[encoded data removed]",
      "text/plain": [
       "<Figure size 1152x720 with 1 Axes>"
      ]
     },
     "metadata": {
      "needs_background": "light"
     },
     "output_type": "display_data"
    }
   ],
   "source": [
    "\n",
    "df_friend = pd.read_csv(data_path+'dataset_WWW_friendship_new.txt', header = None, sep = \"\\t\", names = [\"friend\", \"pal\"])\n",
    "fig, ax = plt.subplots(figsize = (16, 10))\n",
    "plt.title(\"Number of friends of foreign users (new)\")\n",
    "TH_foreign_friend  = boxplotforeign(df_friend, '9_TH_2013_merge_data.csv')\n",
    "TH_foreign_friend.groupby('friend').count().boxplot(column = ['pal'],showfliers=False)"
   ]
  },
  {
   "cell_type": "code",
   "execution_count": null,
   "metadata": {},
   "outputs": [],
   "source": []
  }
 ],
 "metadata": {
  "kernelspec": {
   "display_name": "Python 3",
   "language": "python",
   "name": "python3"
  },
  "language_info": {
   "codemirror_mode": {
    "name": "ipython",
    "version": 3
   },
   "file_extension": ".py",
   "mimetype": "text/x-python",
   "name": "python",
   "nbconvert_exporter": "python",
   "pygments_lexer": "ipython3",
   "version": "3.7.6"
  }
 },
 "nbformat": 4,
 "nbformat_minor": 4
}
